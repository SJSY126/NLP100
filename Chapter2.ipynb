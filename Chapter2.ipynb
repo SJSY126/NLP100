{
 "cells": [
  {
   "cell_type": "markdown",
   "metadata": {},
   "source": [
    "10"
   ]
  },
  {
   "cell_type": "code",
   "execution_count": 52,
   "metadata": {},
   "outputs": [
    {
     "data": {
      "text/plain": [
       "24"
      ]
     },
     "execution_count": 52,
     "metadata": {},
     "output_type": "execute_result"
    }
   ],
   "source": [
    "with open('./hightemp.txt') as f:\n",
    "    result = len(f.readlines())\n",
    "    \n",
    "result"
   ]
  },
  {
   "cell_type": "code",
   "execution_count": 53,
   "metadata": {},
   "outputs": [
    {
     "name": "stdout",
     "output_type": "stream",
     "text": [
      "      24 ./hightemp.txt\r\n"
     ]
    }
   ],
   "source": [
    "!wc -l ./hightemp.txt "
   ]
  },
  {
   "cell_type": "markdown",
   "metadata": {},
   "source": [
    "11"
   ]
  },
  {
   "cell_type": "code",
   "execution_count": 54,
   "metadata": {},
   "outputs": [
    {
     "name": "stdout",
     "output_type": "stream",
     "text": [
      "高知県 江川崎 41 2013-08-12\n",
      "埼玉県 熊谷 40.9 2007-08-16\n",
      "岐阜県 多治見 40.9 2007-08-16\n",
      "山形県 山形 40.8 1933-07-25\n",
      "山梨県 甲府 40.7 2013-08-10\n",
      "和歌山県 かつらぎ 40.6 1994-08-08\n",
      "静岡県 天竜 40.6 1994-08-04\n",
      "山梨県 勝沼 40.5 2013-08-10\n",
      "埼玉県 越谷 40.4 2007-08-16\n",
      "群馬県 館林 40.3 2007-08-16\n",
      "群馬県 上里見 40.3 1998-07-04\n",
      "愛知県 愛西 40.3 1994-08-05\n",
      "千葉県 牛久 40.2 2004-07-20\n",
      "静岡県 佐久間 40.2 2001-07-24\n",
      "愛媛県 宇和島 40.2 1927-07-22\n",
      "山形県 酒田 40.1 1978-08-03\n",
      "岐阜県 美濃 40 2007-08-16\n",
      "群馬県 前橋 40 2001-07-24\n",
      "千葉県 茂原 39.9 2013-08-11\n",
      "埼玉県 鳩山 39.9 1997-07-05\n",
      "大阪府 豊中 39.9 1994-08-08\n",
      "山梨県 大月 39.9 1990-07-19\n",
      "山形県 鶴岡 39.9 1978-08-03\n",
      "愛知県 名古屋 39.9 1942-08-02\n",
      "\n"
     ]
    },
    {
     "data": {
      "text/plain": [
       "'高知県 江川崎 41 2013-08-12\\n埼玉県 熊谷 40.9 2007-08-16\\n岐阜県 多治見 40.9 2007-08-16\\n山形県 山形 40.8 1933-07-25\\n山梨県 甲府 40.7 2013-08-10\\n和歌山県 かつらぎ 40.6 1994-08-08\\n静岡県 天竜 40.6 1994-08-04\\n山梨県 勝沼 40.5 2013-08-10\\n埼玉県 越谷 40.4 2007-08-16\\n群馬県 館林 40.3 2007-08-16\\n群馬県 上里見 40.3 1998-07-04\\n愛知県 愛西 40.3 1994-08-05\\n千葉県 牛久 40.2 2004-07-20\\n静岡県 佐久間 40.2 2001-07-24\\n愛媛県 宇和島 40.2 1927-07-22\\n山形県 酒田 40.1 1978-08-03\\n岐阜県 美濃 40 2007-08-16\\n群馬県 前橋 40 2001-07-24\\n千葉県 茂原 39.9 2013-08-11\\n埼玉県 鳩山 39.9 1997-07-05\\n大阪府 豊中 39.9 1994-08-08\\n山梨県 大月 39.9 1990-07-19\\n山形県 鶴岡 39.9 1978-08-03\\n愛知県 名古屋 39.9 1942-08-02\\n'"
      ]
     },
     "execution_count": 54,
     "metadata": {},
     "output_type": "execute_result"
    }
   ],
   "source": [
    "with open('./hightemp.txt') as f:\n",
    "    data = f.read()\n",
    "    \n",
    "print(data[:].replace(\"\\t\", \" \"))\n",
    "data[:].replace(\"\\t\", \" \")"
   ]
  },
  {
   "cell_type": "code",
   "execution_count": 55,
   "metadata": {},
   "outputs": [
    {
     "name": "stdout",
     "output_type": "stream",
     "text": [
      "高知県 江川崎 41 2013-08-12\r\n",
      "埼玉県 熊谷 40.9 2007-08-16\r\n",
      "岐阜県 多治見 40.9 2007-08-16\r\n",
      "山形県 山形 40.8 1933-07-25\r\n",
      "山梨県 甲府 40.7 2013-08-10\r\n",
      "和歌山県 かつらぎ 40.6 1994-08-08\r\n",
      "静岡県 天竜 40.6 1994-08-04\r\n",
      "山梨県 勝沼 40.5 2013-08-10\r\n",
      "埼玉県 越谷 40.4 2007-08-16\r\n",
      "群馬県 館林 40.3 2007-08-16\r\n",
      "群馬県 上里見 40.3 1998-07-04\r\n",
      "愛知県 愛西 40.3 1994-08-05\r\n",
      "千葉県 牛久 40.2 2004-07-20\r\n",
      "静岡県 佐久間 40.2 2001-07-24\r\n",
      "愛媛県 宇和島 40.2 1927-07-22\r\n",
      "山形県 酒田 40.1 1978-08-03\r\n",
      "岐阜県 美濃 40 2007-08-16\r\n",
      "群馬県 前橋 40 2001-07-24\r\n",
      "千葉県 茂原 39.9 2013-08-11\r\n",
      "埼玉県 鳩山 39.9 1997-07-05\r\n",
      "大阪府 豊中 39.9 1994-08-08\r\n",
      "山梨県 大月 39.9 1990-07-19\r\n",
      "山形県 鶴岡 39.9 1978-08-03\r\n",
      "愛知県 名古屋 39.9 1942-08-02\r\n"
     ]
    }
   ],
   "source": [
    "!cat hightemp.txt | tr \"\\t\" \" \""
   ]
  },
  {
   "cell_type": "markdown",
   "metadata": {},
   "source": [
    "12"
   ]
  },
  {
   "cell_type": "code",
   "execution_count": 56,
   "metadata": {},
   "outputs": [],
   "source": [
    "with open('./hightemp.txt') as f:\n",
    "    data = f.readlines()\n",
    "    \n",
    "col1 = []\n",
    "col2 = []\n",
    "\n",
    "for i in range(len(data)):\n",
    "    data[i].replace(\"\\t\", \" \")\n",
    "    data[i].replace(\"\\n\", \"\")\n",
    "    temp = data[i].split()\n",
    "    col1.append(temp[0] + \"\\n\")\n",
    "    col2.append(temp[1] + \"\\n\")\n",
    "    \n",
    "with open(\"col1.txt\", \"w\") as f:\n",
    "    f.writelines(col1)\n",
    "    \n",
    "with open(\"col2.txt\", \"w\") as f:\n",
    "    f.writelines(col2)"
   ]
  },
  {
   "cell_type": "code",
   "execution_count": 57,
   "metadata": {},
   "outputs": [
    {
     "name": "stdout",
     "output_type": "stream",
     "text": [
      "高知県\r\n",
      "埼玉県\r\n",
      "岐阜県\r\n",
      "山形県\r\n",
      "山梨県\r\n",
      "和歌山県\r\n",
      "静岡県\r\n",
      "山梨県\r\n",
      "埼玉県\r\n",
      "群馬県\r\n",
      "群馬県\r\n",
      "愛知県\r\n",
      "千葉県\r\n",
      "静岡県\r\n",
      "愛媛県\r\n",
      "山形県\r\n",
      "岐阜県\r\n",
      "群馬県\r\n",
      "千葉県\r\n",
      "埼玉県\r\n",
      "大阪府\r\n",
      "山梨県\r\n",
      "山形県\r\n",
      "愛知県\r\n"
     ]
    }
   ],
   "source": [
    "!cut -f 1 hightemp.txt"
   ]
  },
  {
   "cell_type": "markdown",
   "metadata": {},
   "source": [
    "13 "
   ]
  },
  {
   "cell_type": "code",
   "execution_count": 58,
   "metadata": {},
   "outputs": [],
   "source": [
    "with open('./col1.txt') as f1, open('./col2.txt') as f2:\n",
    "    col1 = f1.readlines()\n",
    "    col2 = f2.readlines()\n",
    "    \n",
    "with open('./marge.txt', \"w\") as f:\n",
    "    for c1, c2 in zip(col1, col2):\n",
    "        f.writelines(\"\\t\".join([c1.replace('\\n', ''), c2]))"
   ]
  },
  {
   "cell_type": "code",
   "execution_count": 59,
   "metadata": {},
   "outputs": [
    {
     "name": "stdout",
     "output_type": "stream",
     "text": [
      "高知県\t江川崎\r\n",
      "埼玉県\t熊谷\r\n",
      "岐阜県\t多治見\r\n",
      "山形県\t山形\r\n",
      "山梨県\t甲府\r\n",
      "和歌山県\tかつらぎ\r\n",
      "静岡県\t天竜\r\n",
      "山梨県\t勝沼\r\n",
      "埼玉県\t越谷\r\n",
      "群馬県\t館林\r\n",
      "群馬県\t上里見\r\n",
      "愛知県\t愛西\r\n",
      "千葉県\t牛久\r\n",
      "静岡県\t佐久間\r\n",
      "愛媛県\t宇和島\r\n",
      "山形県\t酒田\r\n",
      "岐阜県\t美濃\r\n",
      "群馬県\t前橋\r\n",
      "千葉県\t茂原\r\n",
      "埼玉県\t鳩山\r\n",
      "大阪府\t豊中\r\n",
      "山梨県\t大月\r\n",
      "山形県\t鶴岡\r\n",
      "愛知県\t名古屋\r\n"
     ]
    }
   ],
   "source": [
    "!paste col1.txt col2.txt "
   ]
  },
  {
   "cell_type": "markdown",
   "metadata": {},
   "source": [
    "14"
   ]
  },
  {
   "cell_type": "code",
   "execution_count": 67,
   "metadata": {},
   "outputs": [
    {
     "name": "stdout",
     "output_type": "stream",
     "text": [
      "5\n",
      "高知県\t江川崎\t41\t2013-08-12\n",
      "\n",
      "埼玉県\t熊谷\t40.9\t2007-08-16\n",
      "\n",
      "岐阜県\t多治見\t40.9\t2007-08-16\n",
      "\n",
      "山形県\t山形\t40.8\t1933-07-25\n",
      "\n",
      "山梨県\t甲府\t40.7\t2013-08-10\n",
      "\n"
     ]
    },
    {
     "data": {
      "text/plain": [
       "['高知県\\t江川崎\\t41\\t2013-08-12\\n',\n",
       " '埼玉県\\t熊谷\\t40.9\\t2007-08-16\\n',\n",
       " '岐阜県\\t多治見\\t40.9\\t2007-08-16\\n',\n",
       " '山形県\\t山形\\t40.8\\t1933-07-25\\n',\n",
       " '山梨県\\t甲府\\t40.7\\t2013-08-10\\n']"
      ]
     },
     "execution_count": 67,
     "metadata": {},
     "output_type": "execute_result"
    }
   ],
   "source": [
    "N = int(input())\n",
    "\n",
    "with open('./hightemp.txt') as f:\n",
    "    data = f.readlines()\n",
    "\n",
    "for i in range(N):\n",
    "    print(data[i])\n",
    "data[:N]"
   ]
  },
  {
   "cell_type": "markdown",
   "metadata": {},
   "source": [
    "15 "
   ]
  },
  {
   "cell_type": "code",
   "execution_count": 68,
   "metadata": {},
   "outputs": [
    {
     "name": "stdout",
     "output_type": "stream",
     "text": [
      "5\n",
      "埼玉県\t鳩山\t39.9\t1997-07-05\n",
      "\n",
      "大阪府\t豊中\t39.9\t1994-08-08\n",
      "\n",
      "山梨県\t大月\t39.9\t1990-07-19\n",
      "\n",
      "山形県\t鶴岡\t39.9\t1978-08-03\n",
      "\n",
      "愛知県\t名古屋\t39.9\t1942-08-02\n",
      "\n"
     ]
    },
    {
     "data": {
      "text/plain": [
       "['埼玉県\\t鳩山\\t39.9\\t1997-07-05\\n',\n",
       " '大阪府\\t豊中\\t39.9\\t1994-08-08\\n',\n",
       " '山梨県\\t大月\\t39.9\\t1990-07-19\\n',\n",
       " '山形県\\t鶴岡\\t39.9\\t1978-08-03\\n',\n",
       " '愛知県\\t名古屋\\t39.9\\t1942-08-02\\n']"
      ]
     },
     "execution_count": 68,
     "metadata": {},
     "output_type": "execute_result"
    }
   ],
   "source": [
    "N = int(input())\n",
    "\n",
    "with open('./hightemp.txt') as f:\n",
    "    data = f.readlines()\n",
    "\n",
    "for i in range(len(data)-N,len(data)):\n",
    "    print(data[i])\n",
    "data[len(data)- N:]"
   ]
  },
  {
   "cell_type": "markdown",
   "metadata": {},
   "source": [
    "16"
   ]
  },
  {
   "cell_type": "code",
   "execution_count": 80,
   "metadata": {},
   "outputs": [
    {
     "name": "stdout",
     "output_type": "stream",
     "text": [
      "13\n",
      "分割できないです。データを割り切れる数字を入力してください。\n"
     ]
    }
   ],
   "source": [
    "N = int(input())\n",
    "\n",
    "with open(\"./hightemp.txt\") as f:\n",
    "    data = f.readlines()\n",
    "    \n",
    "data_length = len(data)\n",
    "\n",
    "if data_lenght%N != 0:\n",
    "    print('分割できないです。データ数を割り切れる数字を入力してください。')\n",
    "\n",
    "else:\n",
    "    for i in range(N):\n",
    "        n = data_length//N\n",
    "        filename = \"data_{}.txt\".format(i+1)\n",
    "        with open(filename, \"w\") as f:\n",
    "            f.writelines(data[i:i+n])        "
   ]
  },
  {
   "cell_type": "code",
   "execution_count": 82,
   "metadata": {},
   "outputs": [],
   "source": [
    "#!split -l 8 hightemp.txt"
   ]
  },
  {
   "cell_type": "markdown",
   "metadata": {},
   "source": [
    "17 "
   ]
  },
  {
   "cell_type": "code",
   "execution_count": 91,
   "metadata": {},
   "outputs": [
    {
     "data": {
      "text/plain": [
       "{'千葉県',\n",
       " '和歌山県',\n",
       " '埼玉県',\n",
       " '大阪府',\n",
       " '山形県',\n",
       " '山梨県',\n",
       " '岐阜県',\n",
       " '愛媛県',\n",
       " '愛知県',\n",
       " '群馬県',\n",
       " '静岡県',\n",
       " '高知県'}"
      ]
     },
     "execution_count": 91,
     "metadata": {},
     "output_type": "execute_result"
    }
   ],
   "source": [
    "with open('./hightemp.txt') as f:\n",
    "    data = f.readlines()\n",
    "    \n",
    "col1 = []\n",
    "\n",
    "for i in range(len(data)):\n",
    "    data[i].replace(\"\\t\", \" \")\n",
    "    data[i].replace(\"\\n\", \"\")\n",
    "    temp = data[i].split()\n",
    "    col1.append(temp[0])\n",
    "    \n",
    "set(col1)"
   ]
  },
  {
   "cell_type": "code",
   "execution_count": 92,
   "metadata": {},
   "outputs": [
    {
     "name": "stdout",
     "output_type": "stream",
     "text": [
      "千葉県\r\n",
      "埼玉県\r\n",
      "大阪府\r\n",
      "山形県\r\n",
      "山梨県\r\n",
      "岐阜県\r\n",
      "愛媛県\r\n",
      "愛知県\r\n",
      "群馬県\r\n",
      "静岡県\r\n",
      "高知県\r\n",
      "和歌山県\r\n"
     ]
    }
   ],
   "source": [
    "!cut -f 1 hightemp.txt | sort | uniq"
   ]
  },
  {
   "cell_type": "markdown",
   "metadata": {},
   "source": [
    "18"
   ]
  },
  {
   "cell_type": "code",
   "execution_count": 106,
   "metadata": {},
   "outputs": [
    {
     "data": {
      "text/plain": [
       "[['高知県', '江川崎', '41', '2013-08-12'],\n",
       " ['埼玉県', '熊谷', '40.9', '2007-08-16'],\n",
       " ['岐阜県', '多治見', '40.9', '2007-08-16'],\n",
       " ['山形県', '山形', '40.8', '1933-07-25'],\n",
       " ['山梨県', '甲府', '40.7', '2013-08-10'],\n",
       " ['和歌山県', 'かつらぎ', '40.6', '1994-08-08'],\n",
       " ['静岡県', '天竜', '40.6', '1994-08-04'],\n",
       " ['山梨県', '勝沼', '40.5', '2013-08-10'],\n",
       " ['埼玉県', '越谷', '40.4', '2007-08-16'],\n",
       " ['群馬県', '館林', '40.3', '2007-08-16'],\n",
       " ['群馬県', '上里見', '40.3', '1998-07-04'],\n",
       " ['愛知県', '愛西', '40.3', '1994-08-05'],\n",
       " ['千葉県', '牛久', '40.2', '2004-07-20'],\n",
       " ['静岡県', '佐久間', '40.2', '2001-07-24'],\n",
       " ['愛媛県', '宇和島', '40.2', '1927-07-22'],\n",
       " ['山形県', '酒田', '40.1', '1978-08-03'],\n",
       " ['岐阜県', '美濃', '40', '2007-08-16'],\n",
       " ['群馬県', '前橋', '40', '2001-07-24'],\n",
       " ['千葉県', '茂原', '39.9', '2013-08-11'],\n",
       " ['埼玉県', '鳩山', '39.9', '1997-07-05'],\n",
       " ['大阪府', '豊中', '39.9', '1994-08-08'],\n",
       " ['山梨県', '大月', '39.9', '1990-07-19'],\n",
       " ['山形県', '鶴岡', '39.9', '1978-08-03'],\n",
       " ['愛知県', '名古屋', '39.9', '1942-08-02']]"
      ]
     },
     "execution_count": 106,
     "metadata": {},
     "output_type": "execute_result"
    }
   ],
   "source": [
    "with open('./hightemp.txt') as f:\n",
    "    data = f.readlines()\n",
    "    \n",
    "for i in range(len(data)):\n",
    "    data[i].replace(\"\\t\", \" \")\n",
    "    data[i].replace(\"\\n\", \"\")\n",
    "    data[i] = data[i].split()\n",
    "    \n",
    "data.sort(key=lambda x:x[2], reverse=1)\n",
    "data"
   ]
  },
  {
   "cell_type": "markdown",
   "metadata": {},
   "source": [
    "19"
   ]
  },
  {
   "cell_type": "code",
   "execution_count": 119,
   "metadata": {},
   "outputs": [
    {
     "name": "stdout",
     "output_type": "stream",
     "text": [
      "Counter({'埼玉県': 3, '山形県': 3, '山梨県': 3, '群馬県': 3, '岐阜県': 2, '静岡県': 2, '愛知県': 2, '千葉県': 2, '高知県': 1, '和歌山県': 1, '愛媛県': 1, '大阪府': 1})\n"
     ]
    },
    {
     "data": {
      "text/plain": [
       "Counter({'高知県': 1,\n",
       "         '埼玉県': 3,\n",
       "         '岐阜県': 2,\n",
       "         '山形県': 3,\n",
       "         '山梨県': 3,\n",
       "         '和歌山県': 1,\n",
       "         '静岡県': 2,\n",
       "         '群馬県': 3,\n",
       "         '愛知県': 2,\n",
       "         '千葉県': 2,\n",
       "         '愛媛県': 1,\n",
       "         '大阪府': 1})"
      ]
     },
     "execution_count": 119,
     "metadata": {},
     "output_type": "execute_result"
    }
   ],
   "source": [
    "import collections\n",
    "\n",
    "with open('./hightemp.txt') as f:\n",
    "    data = f.readlines()\n",
    "    \n",
    "col1 = []\n",
    "\n",
    "for i in range(len(data)):\n",
    "    data[i].replace(\"\\t\", \" \")\n",
    "    data[i].replace(\"\\n\", \"\")\n",
    "    temp = data[i].split()\n",
    "    col1.append(temp[0])\n",
    "    \n",
    "print(collections.Counter(col1))\n",
    "collections.Counter(col1)"
   ]
  },
  {
   "cell_type": "code",
   "execution_count": 121,
   "metadata": {},
   "outputs": [
    {
     "name": "stdout",
     "output_type": "stream",
     "text": [
      "群馬県\r\n",
      "山梨県\r\n",
      "山形県\r\n",
      "埼玉県\r\n",
      "静岡県\r\n",
      "愛知県\r\n",
      "岐阜県\r\n",
      "千葉県\r\n",
      "和歌山県\r\n",
      "高知県\r\n",
      "愛媛県\r\n",
      "大阪府\r\n"
     ]
    }
   ],
   "source": [
    "!cut -f 1 hightemp.txt | sort | uniq -c | sort -r | cut -c 6-"
   ]
  },
  {
   "cell_type": "code",
   "execution_count": null,
   "metadata": {},
   "outputs": [],
   "source": []
  }
 ],
 "metadata": {
  "kernelspec": {
   "display_name": "Python 3",
   "language": "python",
   "name": "python3"
  },
  "language_info": {
   "codemirror_mode": {
    "name": "ipython",
    "version": 3
   },
   "file_extension": ".py",
   "mimetype": "text/x-python",
   "name": "python",
   "nbconvert_exporter": "python",
   "pygments_lexer": "ipython3",
   "version": "3.7.0"
  },
  "toc": {
   "base_numbering": 1,
   "nav_menu": {},
   "number_sections": true,
   "sideBar": true,
   "skip_h1_title": false,
   "title_cell": "Table of Contents",
   "title_sidebar": "Contents",
   "toc_cell": false,
   "toc_position": {},
   "toc_section_display": true,
   "toc_window_display": false
  }
 },
 "nbformat": 4,
 "nbformat_minor": 4
}
