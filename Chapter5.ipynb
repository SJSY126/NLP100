{
 "cells": [
  {
   "cell_type": "markdown",
   "metadata": {},
   "source": [
    "40"
   ]
  },
  {
   "cell_type": "code",
   "execution_count": 1,
   "metadata": {},
   "outputs": [],
   "source": [
    "class Morph:\n",
    "    def __init__(self, line):\n",
    "        (self.surface, temp) = line.split(\"\\t\")\n",
    "        temp = temp.split(\",\")\n",
    "        self.base = temp[6]\n",
    "        self.pos = temp[0]\n",
    "        self.pos1 = temp[1]\n",
    "        \n",
    "    def __str__(self):\n",
    "        return \"surface: {}, base: {}, pos: {}, pos1: {}\".format(\n",
    "            self.surface,\n",
    "            self.base,\n",
    "            self.pos,\n",
    "            self.pos1\n",
    "        )"
   ]
  },
  {
   "cell_type": "code",
   "execution_count": 4,
   "metadata": {},
   "outputs": [
    {
     "name": "stdout",
     "output_type": "stream",
     "text": [
      "surface: 名前, base: 名前, pos: 名詞, pos1: 一般\n",
      "surface: は, base: は, pos: 助詞, pos1: 係助詞\n",
      "surface: まだ, base: まだ, pos: 副詞, pos1: 助詞類接続\n",
      "surface: 無い, base: 無い, pos: 形容詞, pos1: 自立\n",
      "surface: 。, base: 。, pos: 記号, pos1: 句点\n"
     ]
    }
   ],
   "source": [
    "sentences = []\n",
    "sentence = []\n",
    "with open('./neko.txt.cabocha') as f:\n",
    "    for line in f:\n",
    "        line = line.replace(\"\\n\", \"\")\n",
    "        if line == \"EOS\":\n",
    "            if len(sentence) > 0:\n",
    "                sentences.append(sentence)\n",
    "            sentence = []\n",
    "        elif line[0] == '*':\n",
    "            continue\n",
    "        else:\n",
    "            sentence.append(Morph(line))\n",
    "\n",
    "for word in sentences[2]:\n",
    "    print(word)"
   ]
  },
  {
   "cell_type": "code",
   "execution_count": null,
   "metadata": {},
   "outputs": [],
   "source": []
  },
  {
   "cell_type": "code",
   "execution_count": null,
   "metadata": {},
   "outputs": [],
   "source": []
  }
 ],
 "metadata": {
  "kernelspec": {
   "display_name": "Python 3",
   "language": "python",
   "name": "python3"
  },
  "language_info": {
   "codemirror_mode": {
    "name": "ipython",
    "version": 3
   },
   "file_extension": ".py",
   "mimetype": "text/x-python",
   "name": "python",
   "nbconvert_exporter": "python",
   "pygments_lexer": "ipython3",
   "version": "3.7.6"
  },
  "toc": {
   "base_numbering": 1,
   "nav_menu": {},
   "number_sections": true,
   "sideBar": true,
   "skip_h1_title": false,
   "title_cell": "Table of Contents",
   "title_sidebar": "Contents",
   "toc_cell": false,
   "toc_position": {},
   "toc_section_display": true,
   "toc_window_display": false
  }
 },
 "nbformat": 4,
 "nbformat_minor": 4
}
