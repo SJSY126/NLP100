{
 "cells": [
  {
   "cell_type": "markdown",
   "metadata": {},
   "source": [
    "[参考](https://qiita.com/nymwa/items/9c8484ff511123e03ba8)"
   ]
  },
  {
   "cell_type": "markdown",
   "metadata": {},
   "source": [
    "# 70"
   ]
  },
  {
   "cell_type": "code",
   "execution_count": 1,
   "metadata": {},
   "outputs": [],
   "source": [
    "import os\n",
    "import re\n",
    "import spacy\n",
    "import numpy as np\n",
    "from gensim.models import KeyedVectors\n",
    "import tensorflow as tf\n",
    "import codecs\n",
    "import pickle"
   ]
  },
  {
   "cell_type": "code",
   "execution_count": 2,
   "metadata": {},
   "outputs": [],
   "source": [
    "nlp = spacy.load('en')\n",
    "categories = ['b', 't', 'e', 'm']\n",
    "category_names = ['business', 'science and technology', 'entertainment', 'health']"
   ]
  },
  {
   "cell_type": "code",
   "execution_count": 3,
   "metadata": {},
   "outputs": [],
   "source": [
    "def tokenize(x):\n",
    "    x = re.sub(r'\\s+', ' ', x)\n",
    "    x = nlp.make_doc(x)\n",
    "    x = [d.text for d in x]\n",
    "    return x\n",
    "\n",
    "def read_feature_dataset(filename):\n",
    "    with open(filename) as f:\n",
    "        dataset = f.read().splitlines()\n",
    "    dataset = [line.split('\\t') for line in dataset]\n",
    "    t_index = [categories.index(line[0]) for line in dataset]\n",
    "    dataset_t = []\n",
    "    for index in t_index:\n",
    "        label = [0]*4\n",
    "        label[index] = 1\n",
    "        dataset_t.append(label)\n",
    "    dataset_x = [tokenize(line[1]) for line in dataset]\n",
    "    return dataset_x, dataset_t"
   ]
  },
  {
   "cell_type": "code",
   "execution_count": 4,
   "metadata": {},
   "outputs": [],
   "source": [
    "train_x, train_t = read_feature_dataset('train.txt')\n",
    "valid_x, valid_t = read_feature_dataset('valid.txt')\n",
    "test_x, test_t = read_feature_dataset('test.txt')"
   ]
  },
  {
   "cell_type": "code",
   "execution_count": 5,
   "metadata": {},
   "outputs": [],
   "source": [
    "model = KeyedVectors.load('GoogleNews-vectors-negative300.kv', mmap='r')"
   ]
  },
  {
   "cell_type": "code",
   "execution_count": 6,
   "metadata": {},
   "outputs": [
    {
     "data": {
      "text/plain": [
       "<gensim.models.keyedvectors.Word2VecKeyedVectors at 0x10a047910>"
      ]
     },
     "execution_count": 6,
     "metadata": {},
     "output_type": "execute_result"
    }
   ],
   "source": [
    "model"
   ]
  },
  {
   "cell_type": "markdown",
   "metadata": {},
   "source": [
    "### tenosrflowでいきます"
   ]
  },
  {
   "cell_type": "code",
   "execution_count": 7,
   "metadata": {},
   "outputs": [],
   "source": [
    "def sent_to_vector(sent):\n",
    "    lst = [tf.constant(model[token]) for token in sent if token in model]\n",
    "    return sum(lst) / len(lst)\n",
    "\n",
    "def dataset_to_vector(dataset):\n",
    "    return tf.stack([sent_to_vector(x) for x in dataset])"
   ]
  },
  {
   "cell_type": "code",
   "execution_count": 8,
   "metadata": {
    "scrolled": false
   },
   "outputs": [],
   "source": [
    "train_v = dataset_to_vector(train_x)\n",
    "valid_v = dataset_to_vector(valid_x)\n",
    "test_v = dataset_to_vector(test_x)"
   ]
  },
  {
   "cell_type": "code",
   "execution_count": 9,
   "metadata": {},
   "outputs": [],
   "source": [
    "train_t = tf.constant(train_t)\n",
    "valid_t = tf.constant(valid_t)\n",
    "test_t = tf.constant(test_t)"
   ]
  },
  {
   "cell_type": "code",
   "execution_count": 10,
   "metadata": {},
   "outputs": [
    {
     "data": {
      "text/plain": [
       "<tf.Tensor: shape=(4,), dtype=int32, numpy=array([0, 1, 0, 0], dtype=int32)>"
      ]
     },
     "execution_count": 10,
     "metadata": {},
     "output_type": "execute_result"
    }
   ],
   "source": [
    "train_t[0]"
   ]
  },
  {
   "cell_type": "code",
   "execution_count": 11,
   "metadata": {},
   "outputs": [],
   "source": [
    "with open('data/train.feature.pickle', 'wb') as f:\n",
    "    pickle.dump(train_v, f)\n",
    "with open('data/train.label.pickle', 'wb') as f:\n",
    "    pickle.dump(train_t, f)\n",
    "\n",
    "with open('data/valid.feature.pickle', 'wb') as f:\n",
    "    pickle.dump(valid_v, f)\n",
    "with open('data/valid.label.pickle', 'wb') as f:\n",
    "    pickle.dump(valid_t, f)\n",
    "\n",
    "with open('data/test.feature.pickle', 'wb') as f:\n",
    "    pickle.dump(test_v, f)\n",
    "with open('data/test.label.pickle', 'wb') as f:\n",
    "    pickle.dump(test_t, f)"
   ]
  },
  {
   "cell_type": "markdown",
   "metadata": {},
   "source": [
    "# 71"
   ]
  },
  {
   "cell_type": "code",
   "execution_count": 12,
   "metadata": {},
   "outputs": [
    {
     "data": {
      "text/plain": [
       "TensorShape([10684, 300])"
      ]
     },
     "execution_count": 12,
     "metadata": {},
     "output_type": "execute_result"
    }
   ],
   "source": [
    "train_v.shape"
   ]
  },
  {
   "cell_type": "code",
   "execution_count": 10,
   "metadata": {},
   "outputs": [],
   "source": [
    "class NN(tf.keras.Model):\n",
    "    def __init__(self, out_dim, name=\"NN\"):\n",
    "        super().__init__(name=name)\n",
    "        self.out_dim = out_dim\n",
    "        self.l1 = tf.keras.layers.Dense(\n",
    "            self.out_dim, \n",
    "            use_bias=False, \n",
    "        )\n",
    "\n",
    "    def call(self, x):\n",
    "        y = self.l1(x)\n",
    "        return y"
   ]
  },
  {
   "cell_type": "code",
   "execution_count": 14,
   "metadata": {},
   "outputs": [],
   "source": [
    "model = NN(4)"
   ]
  },
  {
   "cell_type": "code",
   "execution_count": 15,
   "metadata": {},
   "outputs": [
    {
     "name": "stdout",
     "output_type": "stream",
     "text": [
      "tf.Tensor(\n",
      "[[0.27105638 0.21025594 0.2768963  0.24179135]\n",
      " [0.25923803 0.22998773 0.2519572  0.258817  ]\n",
      " [0.25618827 0.23317808 0.27294967 0.23768398]\n",
      " [0.26645193 0.24657838 0.25155726 0.23541252]], shape=(4, 4), dtype=float32)\n"
     ]
    }
   ],
   "source": [
    "x = model(train_v[:4])\n",
    "y = tf.nn.softmax(x, axis=1)\n",
    "print(y)"
   ]
  },
  {
   "cell_type": "markdown",
   "metadata": {},
   "source": [
    "# 72"
   ]
  },
  {
   "cell_type": "code",
   "execution_count": 36,
   "metadata": {},
   "outputs": [],
   "source": [
    "class NN(tf.keras.Model):\n",
    "    def __init__(self, out_dim, name=\"NN\"):\n",
    "        super().__init__(name=name)\n",
    "        self.out_dim = out_dim\n",
    "        self.l1 = tf.keras.layers.Dense(\n",
    "            self.out_dim, \n",
    "            use_bias=False, \n",
    "        )\n",
    "\n",
    "    def call(self, x):\n",
    "        y = tf.nn.softmax(self.l1(x))\n",
    "        return y"
   ]
  },
  {
   "cell_type": "code",
   "execution_count": 17,
   "metadata": {
    "scrolled": true
   },
   "outputs": [],
   "source": [
    "model = NN(4)"
   ]
  },
  {
   "cell_type": "code",
   "execution_count": 37,
   "metadata": {},
   "outputs": [],
   "source": [
    "def loss(t, y):\n",
    "    return tf.keras.backend.mean(tf.keras.losses.categorical_crossentropy(t,y))"
   ]
  },
  {
   "cell_type": "code",
   "execution_count": 32,
   "metadata": {},
   "outputs": [
    {
     "data": {
      "text/plain": [
       "<tf.Tensor: shape=(), dtype=float32, numpy=1.3917322>"
      ]
     },
     "execution_count": 32,
     "metadata": {},
     "output_type": "execute_result"
    }
   ],
   "source": [
    "loss(train_t, model(train_v))"
   ]
  },
  {
   "cell_type": "code",
   "execution_count": 38,
   "metadata": {},
   "outputs": [
    {
     "data": {
      "text/plain": [
       "[<tf.Variable 'NN_3/dense_3/kernel:0' shape=(300, 4) dtype=float32, numpy=\n",
       " array([[-0.14557539,  0.11823332,  0.34058216, -0.16903909],\n",
       "        [-0.02411027, -0.02279511,  0.02591159, -0.02887959],\n",
       "        [-0.17186394,  0.23045748, -0.4667877 ,  0.30230948],\n",
       "        ...,\n",
       "        [ 0.32950136, -0.11474972, -0.2505173 ,  0.20788379],\n",
       "        [ 0.22107084, -0.17142977, -0.10495279,  0.15617962],\n",
       "        [-0.33674183,  0.02062605,  0.28764173,  0.26345536]],\n",
       "       dtype=float32)>]"
      ]
     },
     "execution_count": 38,
     "metadata": {},
     "output_type": "execute_result"
    }
   ],
   "source": [
    "model.weights"
   ]
  },
  {
   "cell_type": "code",
   "execution_count": 21,
   "metadata": {},
   "outputs": [],
   "source": [
    "with tf.GradientTape() as t:\n",
    "    current_loss = loss(train_t, model(train_v))\n",
    "dW = t.gradient(current_loss, [model.weights])"
   ]
  },
  {
   "cell_type": "code",
   "execution_count": 22,
   "metadata": {},
   "outputs": [
    {
     "name": "stdout",
     "output_type": "stream",
     "text": [
      "損失 1.3971515\n",
      "勾配 [[<tf.Tensor: shape=(300, 4), dtype=float32, numpy=\n",
      "array([[ 0.00237833,  0.00236302, -0.01105221,  0.00631086],\n",
      "       [-0.00366788,  0.00325024, -0.00487128,  0.00528892],\n",
      "       [ 0.0034686 , -0.00655841,  0.01188552, -0.00879571],\n",
      "       ...,\n",
      "       [-0.00998964, -0.00032125,  0.01252372, -0.00221283],\n",
      "       [-0.01262435,  0.00839224, -0.00363734,  0.00786945],\n",
      "       [ 0.01333076, -0.00208912, -0.00507838, -0.00616326]],\n",
      "      dtype=float32)>]]\n"
     ]
    }
   ],
   "source": [
    "print('損失', loss(train_t, model(train_v)).numpy())\n",
    "print('勾配', dW)"
   ]
  },
  {
   "cell_type": "markdown",
   "metadata": {},
   "source": [
    "# 73"
   ]
  },
  {
   "cell_type": "code",
   "execution_count": 23,
   "metadata": {},
   "outputs": [],
   "source": [
    "model = NN(4)"
   ]
  },
  {
   "cell_type": "code",
   "execution_count": 24,
   "metadata": {},
   "outputs": [],
   "source": [
    "model.compile(optimizer=tf.keras.optimizers.SGD(learning_rate=0.1),\n",
    "              loss=loss,\n",
    "              metrics=['accuracy']\n",
    "             )"
   ]
  },
  {
   "cell_type": "code",
   "execution_count": 25,
   "metadata": {
    "scrolled": true
   },
   "outputs": [
    {
     "name": "stdout",
     "output_type": "stream",
     "text": [
      "Train on 10684 samples, validate on 1336 samples\n",
      "Epoch 1/20\n",
      "10684/10684 - 1s - loss: 0.8857 - accuracy: 0.7507 - val_loss: 0.7018 - val_accuracy: 0.7747\n",
      "Epoch 2/20\n",
      "10684/10684 - 1s - loss: 0.6422 - accuracy: 0.7826 - val_loss: 0.5859 - val_accuracy: 0.7889\n",
      "Epoch 3/20\n",
      "10684/10684 - 1s - loss: 0.5596 - accuracy: 0.8003 - val_loss: 0.5235 - val_accuracy: 0.8136\n",
      "Epoch 4/20\n",
      "10684/10684 - 1s - loss: 0.5095 - accuracy: 0.8228 - val_loss: 0.4826 - val_accuracy: 0.8308\n",
      "Epoch 5/20\n",
      "10684/10684 - 1s - loss: 0.4748 - accuracy: 0.8373 - val_loss: 0.4536 - val_accuracy: 0.8413\n",
      "Epoch 6/20\n",
      "10684/10684 - 1s - loss: 0.4490 - accuracy: 0.8498 - val_loss: 0.4311 - val_accuracy: 0.8563\n",
      "Epoch 7/20\n",
      "10684/10684 - 1s - loss: 0.4291 - accuracy: 0.8595 - val_loss: 0.4145 - val_accuracy: 0.8585\n",
      "Epoch 8/20\n",
      "10684/10684 - 1s - loss: 0.4132 - accuracy: 0.8646 - val_loss: 0.4008 - val_accuracy: 0.8690\n",
      "Epoch 9/20\n",
      "10684/10684 - 1s - loss: 0.4001 - accuracy: 0.8692 - val_loss: 0.3893 - val_accuracy: 0.8735\n",
      "Epoch 10/20\n",
      "10684/10684 - 1s - loss: 0.3892 - accuracy: 0.8737 - val_loss: 0.3798 - val_accuracy: 0.8765\n",
      "Epoch 11/20\n",
      "10684/10684 - 1s - loss: 0.3799 - accuracy: 0.8772 - val_loss: 0.3722 - val_accuracy: 0.8765\n",
      "Epoch 12/20\n",
      "10684/10684 - 1s - loss: 0.3719 - accuracy: 0.8788 - val_loss: 0.3649 - val_accuracy: 0.8817\n",
      "Epoch 13/20\n",
      "10684/10684 - 1s - loss: 0.3649 - accuracy: 0.8807 - val_loss: 0.3589 - val_accuracy: 0.8810\n",
      "Epoch 14/20\n",
      "10684/10684 - 1s - loss: 0.3587 - accuracy: 0.8829 - val_loss: 0.3535 - val_accuracy: 0.8832\n",
      "Epoch 15/20\n",
      "10684/10684 - 1s - loss: 0.3532 - accuracy: 0.8860 - val_loss: 0.3489 - val_accuracy: 0.8855\n",
      "Epoch 16/20\n",
      "10684/10684 - 1s - loss: 0.3482 - accuracy: 0.8881 - val_loss: 0.3446 - val_accuracy: 0.8870\n",
      "Epoch 17/20\n",
      "10684/10684 - 1s - loss: 0.3438 - accuracy: 0.8900 - val_loss: 0.3411 - val_accuracy: 0.8885\n",
      "Epoch 18/20\n",
      "10684/10684 - 1s - loss: 0.3397 - accuracy: 0.8908 - val_loss: 0.3376 - val_accuracy: 0.8870\n",
      "Epoch 19/20\n",
      "10684/10684 - 1s - loss: 0.3359 - accuracy: 0.8920 - val_loss: 0.3346 - val_accuracy: 0.8870\n",
      "Epoch 20/20\n",
      "10684/10684 - 0s - loss: 0.3325 - accuracy: 0.8929 - val_loss: 0.3317 - val_accuracy: 0.8862\n"
     ]
    }
   ],
   "source": [
    "history = model.fit(train_v,train_t,\n",
    "                    epochs=20, \n",
    "                    validation_data=(valid_v, valid_t),\n",
    "                    verbose=2\n",
    "                   )"
   ]
  },
  {
   "cell_type": "markdown",
   "metadata": {},
   "source": [
    "# 74"
   ]
  },
  {
   "cell_type": "code",
   "execution_count": 13,
   "metadata": {},
   "outputs": [],
   "source": [
    "def acc(t,y):\n",
    "    return tf.keras.backend.mean(tf.keras.metrics.categorical_accuracy(t,y))"
   ]
  },
  {
   "cell_type": "code",
   "execution_count": 27,
   "metadata": {},
   "outputs": [
    {
     "name": "stdout",
     "output_type": "stream",
     "text": [
      "学習データでの正解率 : 0.8940472\n",
      "評価データでの正解率 : 0.88622755\n"
     ]
    }
   ],
   "source": [
    "print('学習データでの正解率 :', acc(train_t, model(train_v)).numpy())\n",
    "print('評価データでの正解率 :', acc(valid_t, model(valid_v)).numpy())"
   ]
  },
  {
   "cell_type": "markdown",
   "metadata": {},
   "source": [
    "# 75"
   ]
  },
  {
   "cell_type": "code",
   "execution_count": 28,
   "metadata": {},
   "outputs": [],
   "source": [
    "model = NN(4)\n",
    "model.compile(optimizer=tf.keras.optimizers.SGD(learning_rate=0.1),\n",
    "              loss=loss,\n",
    "              metrics=['accuracy']\n",
    "             )"
   ]
  },
  {
   "cell_type": "code",
   "execution_count": 29,
   "metadata": {},
   "outputs": [
    {
     "name": "stdout",
     "output_type": "stream",
     "text": [
      "学習データでの正解率 : 0.26516286\n",
      "評価データでの正解率 : 0.2769461\n"
     ]
    }
   ],
   "source": [
    "print('学習データでの正解率 :', acc(train_t, model(train_v)).numpy())\n",
    "print('評価データでの正解率 :', acc(valid_t, model(valid_v)).numpy())"
   ]
  },
  {
   "cell_type": "code",
   "execution_count": 30,
   "metadata": {},
   "outputs": [
    {
     "name": "stdout",
     "output_type": "stream",
     "text": [
      "Model: \"NN\"\n",
      "_________________________________________________________________\n",
      "Layer (type)                 Output Shape              Param #   \n",
      "=================================================================\n",
      "dense_3 (Dense)              multiple                  1200      \n",
      "=================================================================\n",
      "Total params: 1,200\n",
      "Trainable params: 1,200\n",
      "Non-trainable params: 0\n",
      "_________________________________________________________________\n"
     ]
    }
   ],
   "source": [
    "model.summary()"
   ]
  },
  {
   "cell_type": "code",
   "execution_count": 31,
   "metadata": {
    "scrolled": true
   },
   "outputs": [
    {
     "name": "stdout",
     "output_type": "stream",
     "text": [
      "Train on 10684 samples, validate on 1336 samples\n",
      "Epoch 1/200\n",
      "10684/10684 - 1s - loss: 0.8805 - accuracy: 0.7545 - val_loss: 0.6985 - val_accuracy: 0.7769\n",
      "Epoch 2/200\n",
      "10684/10684 - 1s - loss: 0.6405 - accuracy: 0.7822 - val_loss: 0.5837 - val_accuracy: 0.7867\n",
      "Epoch 3/200\n",
      "10684/10684 - 1s - loss: 0.5586 - accuracy: 0.8029 - val_loss: 0.5223 - val_accuracy: 0.8106\n",
      "Epoch 4/200\n",
      "10684/10684 - 1s - loss: 0.5089 - accuracy: 0.8219 - val_loss: 0.4817 - val_accuracy: 0.8293\n",
      "Epoch 5/200\n",
      "10684/10684 - 1s - loss: 0.4745 - accuracy: 0.8399 - val_loss: 0.4531 - val_accuracy: 0.8413\n",
      "Epoch 6/200\n",
      "10684/10684 - 1s - loss: 0.4489 - accuracy: 0.8517 - val_loss: 0.4314 - val_accuracy: 0.8548\n",
      "Epoch 7/200\n",
      "10684/10684 - 1s - loss: 0.4290 - accuracy: 0.8599 - val_loss: 0.4139 - val_accuracy: 0.8638\n",
      "Epoch 8/200\n",
      "10684/10684 - 1s - loss: 0.4132 - accuracy: 0.8644 - val_loss: 0.4006 - val_accuracy: 0.8683\n",
      "Epoch 9/200\n",
      "10684/10684 - 1s - loss: 0.4001 - accuracy: 0.8688 - val_loss: 0.3894 - val_accuracy: 0.8720\n",
      "Epoch 10/200\n",
      "10684/10684 - 1s - loss: 0.3893 - accuracy: 0.8732 - val_loss: 0.3798 - val_accuracy: 0.8780\n",
      "Epoch 11/200\n",
      "10684/10684 - 1s - loss: 0.3800 - accuracy: 0.8767 - val_loss: 0.3719 - val_accuracy: 0.8787\n",
      "Epoch 12/200\n",
      "10684/10684 - 0s - loss: 0.3720 - accuracy: 0.8791 - val_loss: 0.3649 - val_accuracy: 0.8825\n",
      "Epoch 13/200\n",
      "10684/10684 - 1s - loss: 0.3650 - accuracy: 0.8817 - val_loss: 0.3590 - val_accuracy: 0.8825\n",
      "Epoch 14/200\n",
      "10684/10684 - 1s - loss: 0.3587 - accuracy: 0.8842 - val_loss: 0.3540 - val_accuracy: 0.8840\n",
      "Epoch 15/200\n",
      "10684/10684 - 1s - loss: 0.3533 - accuracy: 0.8849 - val_loss: 0.3489 - val_accuracy: 0.8840\n",
      "Epoch 16/200\n",
      "10684/10684 - 1s - loss: 0.3483 - accuracy: 0.8866 - val_loss: 0.3450 - val_accuracy: 0.8847\n",
      "Epoch 17/200\n",
      "10684/10684 - 1s - loss: 0.3437 - accuracy: 0.8891 - val_loss: 0.3409 - val_accuracy: 0.8847\n",
      "Epoch 18/200\n",
      "10684/10684 - 1s - loss: 0.3398 - accuracy: 0.8911 - val_loss: 0.3377 - val_accuracy: 0.8862\n",
      "Epoch 19/200\n",
      "10684/10684 - 1s - loss: 0.3360 - accuracy: 0.8911 - val_loss: 0.3347 - val_accuracy: 0.8862\n",
      "Epoch 20/200\n",
      "10684/10684 - 1s - loss: 0.3325 - accuracy: 0.8925 - val_loss: 0.3316 - val_accuracy: 0.8877\n",
      "Epoch 21/200\n",
      "10684/10684 - 1s - loss: 0.3293 - accuracy: 0.8943 - val_loss: 0.3290 - val_accuracy: 0.8877\n",
      "Epoch 22/200\n",
      "10684/10684 - 1s - loss: 0.3264 - accuracy: 0.8958 - val_loss: 0.3268 - val_accuracy: 0.8877\n",
      "Epoch 23/200\n",
      "10684/10684 - 1s - loss: 0.3236 - accuracy: 0.8960 - val_loss: 0.3243 - val_accuracy: 0.8885\n",
      "Epoch 24/200\n",
      "10684/10684 - 2s - loss: 0.3210 - accuracy: 0.8979 - val_loss: 0.3223 - val_accuracy: 0.8877\n",
      "Epoch 25/200\n",
      "10684/10684 - 2s - loss: 0.3186 - accuracy: 0.8980 - val_loss: 0.3203 - val_accuracy: 0.8907\n",
      "Epoch 26/200\n",
      "10684/10684 - 1s - loss: 0.3164 - accuracy: 0.8984 - val_loss: 0.3186 - val_accuracy: 0.8907\n",
      "Epoch 27/200\n",
      "10684/10684 - 1s - loss: 0.3142 - accuracy: 0.8994 - val_loss: 0.3171 - val_accuracy: 0.8922\n",
      "Epoch 28/200\n",
      "10684/10684 - 1s - loss: 0.3121 - accuracy: 0.9001 - val_loss: 0.3157 - val_accuracy: 0.8922\n",
      "Epoch 29/200\n",
      "10684/10684 - 1s - loss: 0.3102 - accuracy: 0.9006 - val_loss: 0.3139 - val_accuracy: 0.8922\n",
      "Epoch 30/200\n",
      "10684/10684 - 1s - loss: 0.3084 - accuracy: 0.9009 - val_loss: 0.3125 - val_accuracy: 0.8922\n",
      "Epoch 31/200\n",
      "10684/10684 - 1s - loss: 0.3067 - accuracy: 0.9011 - val_loss: 0.3112 - val_accuracy: 0.8930\n",
      "Epoch 32/200\n",
      "10684/10684 - 1s - loss: 0.3050 - accuracy: 0.9008 - val_loss: 0.3100 - val_accuracy: 0.8930\n",
      "Epoch 33/200\n",
      "10684/10684 - 1s - loss: 0.3035 - accuracy: 0.9011 - val_loss: 0.3089 - val_accuracy: 0.8930\n",
      "Epoch 34/200\n",
      "10684/10684 - 1s - loss: 0.3019 - accuracy: 0.9012 - val_loss: 0.3075 - val_accuracy: 0.8937\n",
      "Epoch 35/200\n",
      "10684/10684 - 1s - loss: 0.3005 - accuracy: 0.9015 - val_loss: 0.3065 - val_accuracy: 0.8937\n",
      "Epoch 36/200\n",
      "10684/10684 - 1s - loss: 0.2991 - accuracy: 0.9017 - val_loss: 0.3058 - val_accuracy: 0.8930\n",
      "Epoch 37/200\n",
      "10684/10684 - 1s - loss: 0.2978 - accuracy: 0.9020 - val_loss: 0.3045 - val_accuracy: 0.8945\n",
      "Epoch 38/200\n",
      "10684/10684 - 1s - loss: 0.2965 - accuracy: 0.9028 - val_loss: 0.3037 - val_accuracy: 0.8945\n",
      "Epoch 39/200\n",
      "10684/10684 - 1s - loss: 0.2953 - accuracy: 0.9030 - val_loss: 0.3029 - val_accuracy: 0.8945\n",
      "Epoch 40/200\n",
      "10684/10684 - 1s - loss: 0.2941 - accuracy: 0.9032 - val_loss: 0.3018 - val_accuracy: 0.8960\n",
      "Epoch 41/200\n",
      "10684/10684 - 1s - loss: 0.2930 - accuracy: 0.9040 - val_loss: 0.3012 - val_accuracy: 0.8945\n",
      "Epoch 42/200\n",
      "10684/10684 - 1s - loss: 0.2919 - accuracy: 0.9040 - val_loss: 0.3003 - val_accuracy: 0.8960\n",
      "Epoch 43/200\n",
      "10684/10684 - 1s - loss: 0.2908 - accuracy: 0.9049 - val_loss: 0.2997 - val_accuracy: 0.8967\n",
      "Epoch 44/200\n",
      "10684/10684 - 1s - loss: 0.2898 - accuracy: 0.9042 - val_loss: 0.2988 - val_accuracy: 0.8967\n",
      "Epoch 45/200\n",
      "10684/10684 - 1s - loss: 0.2888 - accuracy: 0.9048 - val_loss: 0.2982 - val_accuracy: 0.8975\n",
      "Epoch 46/200\n",
      "10684/10684 - 1s - loss: 0.2878 - accuracy: 0.9049 - val_loss: 0.2976 - val_accuracy: 0.8982\n",
      "Epoch 47/200\n",
      "10684/10684 - 1s - loss: 0.2869 - accuracy: 0.9062 - val_loss: 0.2969 - val_accuracy: 0.8990\n",
      "Epoch 48/200\n",
      "10684/10684 - 1s - loss: 0.2860 - accuracy: 0.9063 - val_loss: 0.2963 - val_accuracy: 0.8997\n",
      "Epoch 49/200\n",
      "10684/10684 - 1s - loss: 0.2851 - accuracy: 0.9059 - val_loss: 0.2957 - val_accuracy: 0.8982\n",
      "Epoch 50/200\n",
      "10684/10684 - 1s - loss: 0.2843 - accuracy: 0.9072 - val_loss: 0.2951 - val_accuracy: 0.8990\n",
      "Epoch 51/200\n",
      "10684/10684 - 1s - loss: 0.2834 - accuracy: 0.9071 - val_loss: 0.2946 - val_accuracy: 0.8990\n",
      "Epoch 52/200\n",
      "10684/10684 - 1s - loss: 0.2827 - accuracy: 0.9073 - val_loss: 0.2942 - val_accuracy: 0.9004\n",
      "Epoch 53/200\n",
      "10684/10684 - 1s - loss: 0.2819 - accuracy: 0.9074 - val_loss: 0.2936 - val_accuracy: 0.9004\n",
      "Epoch 54/200\n",
      "10684/10684 - 1s - loss: 0.2810 - accuracy: 0.9078 - val_loss: 0.2930 - val_accuracy: 0.8997\n",
      "Epoch 55/200\n",
      "10684/10684 - 1s - loss: 0.2804 - accuracy: 0.9080 - val_loss: 0.2926 - val_accuracy: 0.8997\n",
      "Epoch 56/200\n",
      "10684/10684 - 1s - loss: 0.2796 - accuracy: 0.9086 - val_loss: 0.2922 - val_accuracy: 0.9004\n",
      "Epoch 57/200\n",
      "10684/10684 - 1s - loss: 0.2789 - accuracy: 0.9081 - val_loss: 0.2916 - val_accuracy: 0.8997\n",
      "Epoch 58/200\n",
      "10684/10684 - 1s - loss: 0.2782 - accuracy: 0.9088 - val_loss: 0.2913 - val_accuracy: 0.9019\n",
      "Epoch 59/200\n",
      "10684/10684 - 1s - loss: 0.2776 - accuracy: 0.9086 - val_loss: 0.2909 - val_accuracy: 0.9027\n",
      "Epoch 60/200\n",
      "10684/10684 - 0s - loss: 0.2769 - accuracy: 0.9093 - val_loss: 0.2905 - val_accuracy: 0.9027\n",
      "Epoch 61/200\n",
      "10684/10684 - 0s - loss: 0.2763 - accuracy: 0.9093 - val_loss: 0.2901 - val_accuracy: 0.9027\n",
      "Epoch 62/200\n",
      "10684/10684 - 0s - loss: 0.2756 - accuracy: 0.9092 - val_loss: 0.2898 - val_accuracy: 0.9027\n",
      "Epoch 63/200\n",
      "10684/10684 - 1s - loss: 0.2750 - accuracy: 0.9096 - val_loss: 0.2894 - val_accuracy: 0.9027\n",
      "Epoch 64/200\n",
      "10684/10684 - 0s - loss: 0.2744 - accuracy: 0.9089 - val_loss: 0.2890 - val_accuracy: 0.9019\n",
      "Epoch 65/200\n",
      "10684/10684 - 1s - loss: 0.2738 - accuracy: 0.9096 - val_loss: 0.2888 - val_accuracy: 0.9042\n",
      "Epoch 66/200\n",
      "10684/10684 - 0s - loss: 0.2733 - accuracy: 0.9096 - val_loss: 0.2883 - val_accuracy: 0.9019\n",
      "Epoch 67/200\n",
      "10684/10684 - 0s - loss: 0.2727 - accuracy: 0.9099 - val_loss: 0.2880 - val_accuracy: 0.9019\n",
      "Epoch 68/200\n",
      "10684/10684 - 0s - loss: 0.2721 - accuracy: 0.9098 - val_loss: 0.2879 - val_accuracy: 0.9027\n",
      "Epoch 69/200\n",
      "10684/10684 - 0s - loss: 0.2716 - accuracy: 0.9098 - val_loss: 0.2873 - val_accuracy: 0.9027\n",
      "Epoch 70/200\n",
      "10684/10684 - 0s - loss: 0.2711 - accuracy: 0.9106 - val_loss: 0.2872 - val_accuracy: 0.9027\n",
      "Epoch 71/200\n",
      "10684/10684 - 1s - loss: 0.2705 - accuracy: 0.9103 - val_loss: 0.2868 - val_accuracy: 0.9012\n",
      "Epoch 72/200\n",
      "10684/10684 - 1s - loss: 0.2701 - accuracy: 0.9101 - val_loss: 0.2865 - val_accuracy: 0.9012\n",
      "Epoch 73/200\n",
      "10684/10684 - 1s - loss: 0.2696 - accuracy: 0.9108 - val_loss: 0.2862 - val_accuracy: 0.9019\n",
      "Epoch 74/200\n",
      "10684/10684 - 1s - loss: 0.2691 - accuracy: 0.9101 - val_loss: 0.2860 - val_accuracy: 0.9019\n",
      "Epoch 75/200\n",
      "10684/10684 - 1s - loss: 0.2686 - accuracy: 0.9110 - val_loss: 0.2858 - val_accuracy: 0.9019\n",
      "Epoch 76/200\n",
      "10684/10684 - 1s - loss: 0.2681 - accuracy: 0.9108 - val_loss: 0.2855 - val_accuracy: 0.9019\n",
      "Epoch 77/200\n",
      "10684/10684 - 1s - loss: 0.2677 - accuracy: 0.9112 - val_loss: 0.2852 - val_accuracy: 0.9019\n"
     ]
    },
    {
     "name": "stdout",
     "output_type": "stream",
     "text": [
      "Epoch 78/200\n",
      "10684/10684 - 1s - loss: 0.2672 - accuracy: 0.9109 - val_loss: 0.2850 - val_accuracy: 0.9027\n",
      "Epoch 79/200\n",
      "10684/10684 - 1s - loss: 0.2668 - accuracy: 0.9114 - val_loss: 0.2847 - val_accuracy: 0.9027\n",
      "Epoch 80/200\n",
      "10684/10684 - 1s - loss: 0.2663 - accuracy: 0.9113 - val_loss: 0.2844 - val_accuracy: 0.9019\n",
      "Epoch 81/200\n",
      "10684/10684 - 1s - loss: 0.2659 - accuracy: 0.9115 - val_loss: 0.2843 - val_accuracy: 0.9027\n",
      "Epoch 82/200\n",
      "10684/10684 - 1s - loss: 0.2654 - accuracy: 0.9115 - val_loss: 0.2840 - val_accuracy: 0.9042\n",
      "Epoch 83/200\n",
      "10684/10684 - 1s - loss: 0.2651 - accuracy: 0.9126 - val_loss: 0.2839 - val_accuracy: 0.9034\n",
      "Epoch 84/200\n",
      "10684/10684 - 1s - loss: 0.2647 - accuracy: 0.9119 - val_loss: 0.2837 - val_accuracy: 0.9034\n",
      "Epoch 85/200\n",
      "10684/10684 - 0s - loss: 0.2643 - accuracy: 0.9122 - val_loss: 0.2836 - val_accuracy: 0.9042\n",
      "Epoch 86/200\n",
      "10684/10684 - 1s - loss: 0.2639 - accuracy: 0.9122 - val_loss: 0.2832 - val_accuracy: 0.9027\n",
      "Epoch 87/200\n",
      "10684/10684 - 1s - loss: 0.2635 - accuracy: 0.9125 - val_loss: 0.2831 - val_accuracy: 0.9049\n",
      "Epoch 88/200\n",
      "10684/10684 - 1s - loss: 0.2631 - accuracy: 0.9123 - val_loss: 0.2830 - val_accuracy: 0.9034\n",
      "Epoch 89/200\n",
      "10684/10684 - 1s - loss: 0.2627 - accuracy: 0.9127 - val_loss: 0.2827 - val_accuracy: 0.9049\n",
      "Epoch 90/200\n",
      "10684/10684 - 1s - loss: 0.2624 - accuracy: 0.9127 - val_loss: 0.2825 - val_accuracy: 0.9012\n",
      "Epoch 91/200\n",
      "10684/10684 - 1s - loss: 0.2620 - accuracy: 0.9129 - val_loss: 0.2823 - val_accuracy: 0.9019\n",
      "Epoch 92/200\n",
      "10684/10684 - 1s - loss: 0.2616 - accuracy: 0.9130 - val_loss: 0.2820 - val_accuracy: 0.9027\n",
      "Epoch 93/200\n",
      "10684/10684 - 1s - loss: 0.2613 - accuracy: 0.9129 - val_loss: 0.2819 - val_accuracy: 0.9027\n",
      "Epoch 94/200\n",
      "10684/10684 - 1s - loss: 0.2609 - accuracy: 0.9135 - val_loss: 0.2818 - val_accuracy: 0.9027\n",
      "Epoch 95/200\n",
      "10684/10684 - 1s - loss: 0.2605 - accuracy: 0.9141 - val_loss: 0.2819 - val_accuracy: 0.9042\n",
      "Epoch 96/200\n",
      "10684/10684 - 1s - loss: 0.2603 - accuracy: 0.9139 - val_loss: 0.2816 - val_accuracy: 0.9042\n",
      "Epoch 97/200\n",
      "10684/10684 - 1s - loss: 0.2599 - accuracy: 0.9133 - val_loss: 0.2813 - val_accuracy: 0.9034\n",
      "Epoch 98/200\n",
      "10684/10684 - 1s - loss: 0.2596 - accuracy: 0.9142 - val_loss: 0.2812 - val_accuracy: 0.9027\n",
      "Epoch 99/200\n",
      "10684/10684 - 1s - loss: 0.2593 - accuracy: 0.9139 - val_loss: 0.2811 - val_accuracy: 0.9012\n",
      "Epoch 100/200\n",
      "10684/10684 - 1s - loss: 0.2590 - accuracy: 0.9137 - val_loss: 0.2809 - val_accuracy: 0.9019\n",
      "Epoch 101/200\n",
      "10684/10684 - 1s - loss: 0.2586 - accuracy: 0.9134 - val_loss: 0.2807 - val_accuracy: 0.9027\n",
      "Epoch 102/200\n",
      "10684/10684 - 1s - loss: 0.2583 - accuracy: 0.9143 - val_loss: 0.2806 - val_accuracy: 0.9019\n",
      "Epoch 103/200\n",
      "10684/10684 - 1s - loss: 0.2580 - accuracy: 0.9141 - val_loss: 0.2805 - val_accuracy: 0.9019\n",
      "Epoch 104/200\n",
      "10684/10684 - 0s - loss: 0.2577 - accuracy: 0.9147 - val_loss: 0.2804 - val_accuracy: 0.9012\n",
      "Epoch 105/200\n",
      "10684/10684 - 0s - loss: 0.2574 - accuracy: 0.9145 - val_loss: 0.2802 - val_accuracy: 0.9019\n",
      "Epoch 106/200\n",
      "10684/10684 - 1s - loss: 0.2571 - accuracy: 0.9144 - val_loss: 0.2800 - val_accuracy: 0.9012\n",
      "Epoch 107/200\n",
      "10684/10684 - 1s - loss: 0.2568 - accuracy: 0.9145 - val_loss: 0.2799 - val_accuracy: 0.8997\n",
      "Epoch 108/200\n",
      "10684/10684 - 1s - loss: 0.2566 - accuracy: 0.9148 - val_loss: 0.2798 - val_accuracy: 0.9012\n",
      "Epoch 109/200\n",
      "10684/10684 - 1s - loss: 0.2563 - accuracy: 0.9148 - val_loss: 0.2798 - val_accuracy: 0.9019\n",
      "Epoch 110/200\n",
      "10684/10684 - 1s - loss: 0.2560 - accuracy: 0.9148 - val_loss: 0.2796 - val_accuracy: 0.9012\n",
      "Epoch 111/200\n",
      "10684/10684 - 1s - loss: 0.2557 - accuracy: 0.9145 - val_loss: 0.2794 - val_accuracy: 0.9004\n",
      "Epoch 112/200\n",
      "10684/10684 - 1s - loss: 0.2555 - accuracy: 0.9153 - val_loss: 0.2794 - val_accuracy: 0.9004\n",
      "Epoch 113/200\n",
      "10684/10684 - 1s - loss: 0.2552 - accuracy: 0.9149 - val_loss: 0.2792 - val_accuracy: 0.9019\n",
      "Epoch 114/200\n",
      "10684/10684 - 1s - loss: 0.2549 - accuracy: 0.9148 - val_loss: 0.2791 - val_accuracy: 0.9012\n",
      "Epoch 115/200\n",
      "10684/10684 - 1s - loss: 0.2546 - accuracy: 0.9150 - val_loss: 0.2789 - val_accuracy: 0.9027\n",
      "Epoch 116/200\n",
      "10684/10684 - 1s - loss: 0.2544 - accuracy: 0.9160 - val_loss: 0.2789 - val_accuracy: 0.9004\n",
      "Epoch 117/200\n",
      "10684/10684 - 1s - loss: 0.2542 - accuracy: 0.9151 - val_loss: 0.2788 - val_accuracy: 0.9019\n",
      "Epoch 118/200\n",
      "10684/10684 - 1s - loss: 0.2539 - accuracy: 0.9156 - val_loss: 0.2787 - val_accuracy: 0.9019\n",
      "Epoch 119/200\n",
      "10684/10684 - 1s - loss: 0.2536 - accuracy: 0.9148 - val_loss: 0.2785 - val_accuracy: 0.9019\n",
      "Epoch 120/200\n",
      "10684/10684 - 1s - loss: 0.2534 - accuracy: 0.9154 - val_loss: 0.2785 - val_accuracy: 0.9019\n",
      "Epoch 121/200\n",
      "10684/10684 - 1s - loss: 0.2532 - accuracy: 0.9151 - val_loss: 0.2784 - val_accuracy: 0.9027\n",
      "Epoch 122/200\n",
      "10684/10684 - 1s - loss: 0.2529 - accuracy: 0.9158 - val_loss: 0.2784 - val_accuracy: 0.9034\n",
      "Epoch 123/200\n",
      "10684/10684 - 1s - loss: 0.2527 - accuracy: 0.9150 - val_loss: 0.2781 - val_accuracy: 0.9034\n",
      "Epoch 124/200\n",
      "10684/10684 - 0s - loss: 0.2524 - accuracy: 0.9161 - val_loss: 0.2782 - val_accuracy: 0.9042\n",
      "Epoch 125/200\n",
      "10684/10684 - 1s - loss: 0.2522 - accuracy: 0.9155 - val_loss: 0.2780 - val_accuracy: 0.9042\n",
      "Epoch 126/200\n",
      "10684/10684 - 1s - loss: 0.2520 - accuracy: 0.9157 - val_loss: 0.2780 - val_accuracy: 0.9034\n",
      "Epoch 127/200\n",
      "10684/10684 - 1s - loss: 0.2517 - accuracy: 0.9155 - val_loss: 0.2778 - val_accuracy: 0.9049\n",
      "Epoch 128/200\n",
      "10684/10684 - 0s - loss: 0.2515 - accuracy: 0.9155 - val_loss: 0.2778 - val_accuracy: 0.9057\n",
      "Epoch 129/200\n",
      "10684/10684 - 1s - loss: 0.2513 - accuracy: 0.9160 - val_loss: 0.2776 - val_accuracy: 0.9049\n",
      "Epoch 130/200\n",
      "10684/10684 - 1s - loss: 0.2511 - accuracy: 0.9160 - val_loss: 0.2777 - val_accuracy: 0.9057\n",
      "Epoch 131/200\n",
      "10684/10684 - 1s - loss: 0.2508 - accuracy: 0.9154 - val_loss: 0.2776 - val_accuracy: 0.9064\n",
      "Epoch 132/200\n",
      "10684/10684 - 1s - loss: 0.2506 - accuracy: 0.9159 - val_loss: 0.2774 - val_accuracy: 0.9064\n",
      "Epoch 133/200\n",
      "10684/10684 - 1s - loss: 0.2504 - accuracy: 0.9162 - val_loss: 0.2773 - val_accuracy: 0.9057\n",
      "Epoch 134/200\n",
      "10684/10684 - 0s - loss: 0.2502 - accuracy: 0.9157 - val_loss: 0.2773 - val_accuracy: 0.9064\n",
      "Epoch 135/200\n",
      "10684/10684 - 0s - loss: 0.2500 - accuracy: 0.9160 - val_loss: 0.2772 - val_accuracy: 0.9064\n",
      "Epoch 136/200\n",
      "10684/10684 - 0s - loss: 0.2497 - accuracy: 0.9156 - val_loss: 0.2770 - val_accuracy: 0.9057\n",
      "Epoch 137/200\n",
      "10684/10684 - 0s - loss: 0.2496 - accuracy: 0.9160 - val_loss: 0.2770 - val_accuracy: 0.9064\n",
      "Epoch 138/200\n",
      "10684/10684 - 0s - loss: 0.2494 - accuracy: 0.9160 - val_loss: 0.2771 - val_accuracy: 0.9064\n",
      "Epoch 139/200\n",
      "10684/10684 - 0s - loss: 0.2492 - accuracy: 0.9160 - val_loss: 0.2769 - val_accuracy: 0.9064\n",
      "Epoch 140/200\n",
      "10684/10684 - 0s - loss: 0.2490 - accuracy: 0.9164 - val_loss: 0.2768 - val_accuracy: 0.9064\n",
      "Epoch 141/200\n",
      "10684/10684 - 0s - loss: 0.2488 - accuracy: 0.9165 - val_loss: 0.2768 - val_accuracy: 0.9064\n",
      "Epoch 142/200\n",
      "10684/10684 - 1s - loss: 0.2485 - accuracy: 0.9163 - val_loss: 0.2766 - val_accuracy: 0.9049\n",
      "Epoch 143/200\n",
      "10684/10684 - 0s - loss: 0.2484 - accuracy: 0.9164 - val_loss: 0.2766 - val_accuracy: 0.9064\n",
      "Epoch 144/200\n",
      "10684/10684 - 1s - loss: 0.2482 - accuracy: 0.9158 - val_loss: 0.2766 - val_accuracy: 0.9064\n",
      "Epoch 145/200\n",
      "10684/10684 - 0s - loss: 0.2480 - accuracy: 0.9160 - val_loss: 0.2765 - val_accuracy: 0.9072\n",
      "Epoch 146/200\n",
      "10684/10684 - 1s - loss: 0.2478 - accuracy: 0.9164 - val_loss: 0.2765 - val_accuracy: 0.9072\n",
      "Epoch 147/200\n",
      "10684/10684 - 0s - loss: 0.2477 - accuracy: 0.9166 - val_loss: 0.2764 - val_accuracy: 0.9072\n",
      "Epoch 148/200\n",
      "10684/10684 - 1s - loss: 0.2474 - accuracy: 0.9166 - val_loss: 0.2765 - val_accuracy: 0.9079\n",
      "Epoch 149/200\n",
      "10684/10684 - 1s - loss: 0.2473 - accuracy: 0.9175 - val_loss: 0.2764 - val_accuracy: 0.9079\n",
      "Epoch 150/200\n",
      "10684/10684 - 1s - loss: 0.2471 - accuracy: 0.9166 - val_loss: 0.2762 - val_accuracy: 0.9072\n",
      "Epoch 151/200\n",
      "10684/10684 - 0s - loss: 0.2469 - accuracy: 0.9170 - val_loss: 0.2762 - val_accuracy: 0.9072\n",
      "Epoch 152/200\n",
      "10684/10684 - 1s - loss: 0.2467 - accuracy: 0.9170 - val_loss: 0.2761 - val_accuracy: 0.9072\n",
      "Epoch 153/200\n",
      "10684/10684 - 0s - loss: 0.2466 - accuracy: 0.9166 - val_loss: 0.2761 - val_accuracy: 0.9064\n",
      "Epoch 154/200\n",
      "10684/10684 - 0s - loss: 0.2464 - accuracy: 0.9170 - val_loss: 0.2760 - val_accuracy: 0.9064\n"
     ]
    },
    {
     "name": "stdout",
     "output_type": "stream",
     "text": [
      "Epoch 155/200\n",
      "10684/10684 - 0s - loss: 0.2462 - accuracy: 0.9179 - val_loss: 0.2760 - val_accuracy: 0.9072\n",
      "Epoch 156/200\n",
      "10684/10684 - 0s - loss: 0.2460 - accuracy: 0.9172 - val_loss: 0.2761 - val_accuracy: 0.9072\n",
      "Epoch 157/200\n",
      "10684/10684 - 0s - loss: 0.2459 - accuracy: 0.9176 - val_loss: 0.2759 - val_accuracy: 0.9072\n",
      "Epoch 158/200\n",
      "10684/10684 - 0s - loss: 0.2457 - accuracy: 0.9169 - val_loss: 0.2759 - val_accuracy: 0.9072\n",
      "Epoch 159/200\n",
      "10684/10684 - 0s - loss: 0.2456 - accuracy: 0.9168 - val_loss: 0.2758 - val_accuracy: 0.9072\n",
      "Epoch 160/200\n",
      "10684/10684 - 0s - loss: 0.2454 - accuracy: 0.9172 - val_loss: 0.2757 - val_accuracy: 0.9072\n",
      "Epoch 161/200\n",
      "10684/10684 - 0s - loss: 0.2452 - accuracy: 0.9174 - val_loss: 0.2757 - val_accuracy: 0.9072\n",
      "Epoch 162/200\n",
      "10684/10684 - 0s - loss: 0.2451 - accuracy: 0.9169 - val_loss: 0.2756 - val_accuracy: 0.9072\n",
      "Epoch 163/200\n",
      "10684/10684 - 1s - loss: 0.2449 - accuracy: 0.9169 - val_loss: 0.2756 - val_accuracy: 0.9072\n",
      "Epoch 164/200\n",
      "10684/10684 - 1s - loss: 0.2447 - accuracy: 0.9178 - val_loss: 0.2755 - val_accuracy: 0.9087\n",
      "Epoch 165/200\n",
      "10684/10684 - 1s - loss: 0.2446 - accuracy: 0.9179 - val_loss: 0.2755 - val_accuracy: 0.9072\n",
      "Epoch 166/200\n",
      "10684/10684 - 0s - loss: 0.2444 - accuracy: 0.9169 - val_loss: 0.2754 - val_accuracy: 0.9079\n",
      "Epoch 167/200\n",
      "10684/10684 - 0s - loss: 0.2443 - accuracy: 0.9176 - val_loss: 0.2755 - val_accuracy: 0.9072\n",
      "Epoch 168/200\n",
      "10684/10684 - 0s - loss: 0.2441 - accuracy: 0.9174 - val_loss: 0.2753 - val_accuracy: 0.9087\n",
      "Epoch 169/200\n",
      "10684/10684 - 1s - loss: 0.2440 - accuracy: 0.9172 - val_loss: 0.2753 - val_accuracy: 0.9079\n",
      "Epoch 170/200\n",
      "10684/10684 - 0s - loss: 0.2438 - accuracy: 0.9182 - val_loss: 0.2753 - val_accuracy: 0.9079\n",
      "Epoch 171/200\n",
      "10684/10684 - 0s - loss: 0.2437 - accuracy: 0.9176 - val_loss: 0.2752 - val_accuracy: 0.9079\n",
      "Epoch 172/200\n",
      "10684/10684 - 0s - loss: 0.2436 - accuracy: 0.9179 - val_loss: 0.2752 - val_accuracy: 0.9087\n",
      "Epoch 173/200\n",
      "10684/10684 - 0s - loss: 0.2434 - accuracy: 0.9184 - val_loss: 0.2752 - val_accuracy: 0.9087\n",
      "Epoch 174/200\n",
      "10684/10684 - 0s - loss: 0.2432 - accuracy: 0.9177 - val_loss: 0.2751 - val_accuracy: 0.9087\n",
      "Epoch 175/200\n",
      "10684/10684 - 1s - loss: 0.2431 - accuracy: 0.9181 - val_loss: 0.2751 - val_accuracy: 0.9087\n",
      "Epoch 176/200\n",
      "10684/10684 - 1s - loss: 0.2430 - accuracy: 0.9174 - val_loss: 0.2750 - val_accuracy: 0.9087\n",
      "Epoch 177/200\n",
      "10684/10684 - 1s - loss: 0.2428 - accuracy: 0.9177 - val_loss: 0.2750 - val_accuracy: 0.9087\n",
      "Epoch 178/200\n",
      "10684/10684 - 1s - loss: 0.2427 - accuracy: 0.9181 - val_loss: 0.2750 - val_accuracy: 0.9087\n",
      "Epoch 179/200\n",
      "10684/10684 - 1s - loss: 0.2425 - accuracy: 0.9174 - val_loss: 0.2749 - val_accuracy: 0.9087\n",
      "Epoch 180/200\n",
      "10684/10684 - 0s - loss: 0.2424 - accuracy: 0.9187 - val_loss: 0.2749 - val_accuracy: 0.9079\n",
      "Epoch 181/200\n",
      "10684/10684 - 0s - loss: 0.2422 - accuracy: 0.9180 - val_loss: 0.2748 - val_accuracy: 0.9087\n",
      "Epoch 182/200\n",
      "10684/10684 - 0s - loss: 0.2421 - accuracy: 0.9187 - val_loss: 0.2748 - val_accuracy: 0.9087\n",
      "Epoch 183/200\n",
      "10684/10684 - 1s - loss: 0.2420 - accuracy: 0.9188 - val_loss: 0.2748 - val_accuracy: 0.9087\n",
      "Epoch 184/200\n",
      "10684/10684 - 0s - loss: 0.2419 - accuracy: 0.9183 - val_loss: 0.2747 - val_accuracy: 0.9087\n",
      "Epoch 185/200\n",
      "10684/10684 - 0s - loss: 0.2417 - accuracy: 0.9187 - val_loss: 0.2748 - val_accuracy: 0.9079\n",
      "Epoch 186/200\n",
      "10684/10684 - 1s - loss: 0.2416 - accuracy: 0.9187 - val_loss: 0.2747 - val_accuracy: 0.9087\n",
      "Epoch 187/200\n",
      "10684/10684 - 0s - loss: 0.2414 - accuracy: 0.9183 - val_loss: 0.2746 - val_accuracy: 0.9079\n",
      "Epoch 188/200\n",
      "10684/10684 - 0s - loss: 0.2413 - accuracy: 0.9184 - val_loss: 0.2747 - val_accuracy: 0.9072\n",
      "Epoch 189/200\n",
      "10684/10684 - 0s - loss: 0.2412 - accuracy: 0.9188 - val_loss: 0.2747 - val_accuracy: 0.9079\n",
      "Epoch 190/200\n",
      "10684/10684 - 1s - loss: 0.2411 - accuracy: 0.9187 - val_loss: 0.2746 - val_accuracy: 0.9087\n",
      "Epoch 191/200\n",
      "10684/10684 - 1s - loss: 0.2409 - accuracy: 0.9185 - val_loss: 0.2745 - val_accuracy: 0.9087\n",
      "Epoch 192/200\n",
      "10684/10684 - 0s - loss: 0.2408 - accuracy: 0.9186 - val_loss: 0.2747 - val_accuracy: 0.9087\n",
      "Epoch 193/200\n",
      "10684/10684 - 0s - loss: 0.2407 - accuracy: 0.9191 - val_loss: 0.2744 - val_accuracy: 0.9087\n",
      "Epoch 194/200\n",
      "10684/10684 - 0s - loss: 0.2406 - accuracy: 0.9197 - val_loss: 0.2745 - val_accuracy: 0.9087\n",
      "Epoch 195/200\n",
      "10684/10684 - 0s - loss: 0.2404 - accuracy: 0.9185 - val_loss: 0.2745 - val_accuracy: 0.9087\n",
      "Epoch 196/200\n",
      "10684/10684 - 0s - loss: 0.2403 - accuracy: 0.9193 - val_loss: 0.2746 - val_accuracy: 0.9087\n",
      "Epoch 197/200\n",
      "10684/10684 - 0s - loss: 0.2402 - accuracy: 0.9188 - val_loss: 0.2747 - val_accuracy: 0.9094\n",
      "Epoch 198/200\n",
      "10684/10684 - 0s - loss: 0.2401 - accuracy: 0.9188 - val_loss: 0.2744 - val_accuracy: 0.9094\n",
      "Epoch 199/200\n",
      "10684/10684 - 0s - loss: 0.2400 - accuracy: 0.9194 - val_loss: 0.2743 - val_accuracy: 0.9094\n",
      "Epoch 200/200\n",
      "10684/10684 - 1s - loss: 0.2398 - accuracy: 0.9195 - val_loss: 0.2744 - val_accuracy: 0.9087\n"
     ]
    }
   ],
   "source": [
    "history = model.fit(train_v,train_t,\n",
    "                    epochs=200, \n",
    "                    validation_data=(valid_v, valid_t),\n",
    "                    verbose=2\n",
    "                   )"
   ]
  },
  {
   "cell_type": "code",
   "execution_count": 32,
   "metadata": {},
   "outputs": [
    {
     "data": {
      "image/png": "[encoded data removed]",
      "text/plain": [
       "<Figure size 432x288 with 1 Axes>"
      ]
     },
     "metadata": {
      "needs_background": "light"
     },
     "output_type": "display_data"
    },
    {
     "data": {
      "image/png": "[encoded data removed]",
      "text/plain": [
       "<Figure size 432x288 with 1 Axes>"
      ]
     },
     "metadata": {
      "needs_background": "light"
     },
     "output_type": "display_data"
    }
   ],
   "source": [
    "import matplotlib.pyplot as plt\n",
    "\n",
    "# 精度のplot\n",
    "plt.plot(history.history['accuracy'], marker='.', label='acc')\n",
    "plt.plot(history.history['val_accuracy'], marker='.', label='val_acc')\n",
    "plt.title('model accuracy')\n",
    "plt.grid()\n",
    "plt.xlabel('epoch')\n",
    "plt.ylabel('accuracy')\n",
    "plt.legend(loc='best')\n",
    "plt.show()\n",
    "\n",
    "# 損失のplot\n",
    "plt.plot(history.history['loss'], marker='.', label='loss')\n",
    "plt.plot(history.history['val_loss'], marker='.', label='val_loss')\n",
    "plt.title('model loss')\n",
    "plt.grid()\n",
    "plt.xlabel('epoch')\n",
    "plt.ylabel('loss')\n",
    "plt.legend(loc='best')\n",
    "plt.show()"
   ]
  },
  {
   "cell_type": "code",
   "execution_count": 33,
   "metadata": {},
   "outputs": [],
   "source": [
    "model = NN(4)\n",
    "model.compile(optimizer=tf.keras.optimizers.SGD(learning_rate=0.01),\n",
    "              loss=loss,\n",
    "              metrics=['accuracy']\n",
    "             )"
   ]
  },
  {
   "cell_type": "code",
   "execution_count": 34,
   "metadata": {},
   "outputs": [],
   "source": [
    "epochs = 500"
   ]
  },
  {
   "cell_type": "code",
   "execution_count": 36,
   "metadata": {},
   "outputs": [
    {
     "name": "stdout",
     "output_type": "stream",
     "text": [
      "rm: ./log: No such file or directory\r\n"
     ]
    }
   ],
   "source": [
    "!rm -r ./log"
   ]
  },
  {
   "cell_type": "code",
   "execution_count": 37,
   "metadata": {},
   "outputs": [],
   "source": [
    "tb_cb = tf.keras.callbacks.TensorBoard(\n",
    "    log_dir='./log/',\n",
    "    histogram_freq=1,\n",
    "    write_images=True\n",
    ")"
   ]
  },
  {
   "cell_type": "code",
   "execution_count": 38,
   "metadata": {
    "scrolled": false
   },
   "outputs": [
    {
     "data": {
      "text/html": [
       "\n",
       "      <iframe id=\"tensorboard-frame-378adcf7f614e4e\" width=\"100%\" height=\"800\" frameborder=\"0\">\n",
       "      </iframe>\n",
       "      <script>\n",
       "        (function() {\n",
       "          const frame = document.getElementById(\"tensorboard-frame-378adcf7f614e4e\");\n",
       "          const url = new URL(\"/\", window.location);\n",
       "          url.port = 6006;\n",
       "          frame.src = url;\n",
       "        })();\n",
       "      </script>\n",
       "  "
      ],
      "text/plain": [
       "<IPython.core.display.HTML object>"
      ]
     },
     "metadata": {},
     "output_type": "display_data"
    }
   ],
   "source": [
    "%reload_ext tensorboard\n",
    "%tensorboard  --logdir log --bind_all  --reload_multifile true"
   ]
  },
  {
   "cell_type": "code",
   "execution_count": 39,
   "metadata": {
    "scrolled": true
   },
   "outputs": [],
   "source": [
    "history = model.fit(train_v,train_t,\n",
    "                    epochs=epochs, \n",
    "                    validation_data=(valid_v, valid_t),\n",
    "                    verbose=0,\n",
    "                    callbacks=[tb_cb]\n",
    "                   )"
   ]
  },
  {
   "cell_type": "code",
   "execution_count": 41,
   "metadata": {},
   "outputs": [
    {
     "data": {
      "image/png": "[encoded data removed]",
      "text/plain": [
       "<Figure size 432x288 with 1 Axes>"
      ]
     },
     "metadata": {
      "needs_background": "light"
     },
     "output_type": "display_data"
    },
    {
     "data": {
      "image/png": "[encoded data removed]",
      "text/plain": [
       "<Figure size 432x288 with 1 Axes>"
      ]
     },
     "metadata": {
      "needs_background": "light"
     },
     "output_type": "display_data"
    }
   ],
   "source": [
    "# 精度のplot\n",
    "plt.plot(history.history['accuracy'], marker='.', label='acc')\n",
    "plt.plot(history.history['val_accuracy'], marker='.', label='val_acc')\n",
    "plt.title('model accuracy')\n",
    "plt.grid()\n",
    "plt.xlabel('epoch')\n",
    "plt.ylabel('accuracy')\n",
    "plt.legend(loc='best')\n",
    "plt.show()\n",
    "\n",
    "# 損失のplot\n",
    "plt.plot(history.history['loss'], marker='.', label='loss')\n",
    "plt.plot(history.history['val_loss'], marker='.', label='val_loss')\n",
    "plt.title('model loss')\n",
    "plt.grid()\n",
    "plt.xlabel('epoch')\n",
    "plt.ylabel('loss')\n",
    "plt.legend(loc='best')\n",
    "plt.show()"
   ]
  },
  {
   "cell_type": "markdown",
   "metadata": {},
   "source": [
    "# 76"
   ]
  },
  {
   "cell_type": "code",
   "execution_count": 16,
   "metadata": {},
   "outputs": [],
   "source": [
    "f_model = './model'"
   ]
  },
  {
   "cell_type": "code",
   "execution_count": 17,
   "metadata": {},
   "outputs": [],
   "source": [
    "model = NN(4)\n",
    "model.compile(optimizer=tf.keras.optimizers.SGD(learning_rate=0.01),\n",
    "              loss=loss,\n",
    "              metrics=['accuracy']\n",
    "             )"
   ]
  },
  {
   "cell_type": "code",
   "execution_count": 18,
   "metadata": {},
   "outputs": [],
   "source": [
    "!rm -r ./log\n",
    "!rm -r ./model/checkpoint"
   ]
  },
  {
   "cell_type": "code",
   "execution_count": 19,
   "metadata": {},
   "outputs": [],
   "source": [
    "tb_cb = tf.keras.callbacks.TensorBoard(\n",
    "    log_dir='./log/',\n",
    "    histogram_freq=1,\n",
    "    write_images=True\n",
    ")"
   ]
  },
  {
   "cell_type": "code",
   "execution_count": 20,
   "metadata": {},
   "outputs": [
    {
     "name": "stdout",
     "output_type": "stream",
     "text": [
      "WARNING:tensorflow:`period` argument is deprecated. Please use `save_freq` to specify the frequency in number of samples seen.\n"
     ]
    }
   ],
   "source": [
    "# Include the epoch in the file name (uses `str.format`)\n",
    "checkpoint_path = \"./model/checkpoint/cp-{epoch:04d}.ckpt\"\n",
    "checkpoint_dir = os.path.dirname(checkpoint_path)\n",
    "\n",
    "# Create a callback that saves the model's weights every 5 epochs\n",
    "cp_callback = tf.keras.callbacks.ModelCheckpoint(\n",
    "    filepath=checkpoint_path, \n",
    "    verbose=1, \n",
    "    save_weights_only=True,\n",
    "    period=5)\n"
   ]
  },
  {
   "cell_type": "code",
   "execution_count": 99,
   "metadata": {},
   "outputs": [
    {
     "data": {
      "text/html": [
       "\n",
       "      <iframe id=\"tensorboard-frame-8ee6729f232364b7\" width=\"100%\" height=\"800\" frameborder=\"0\">\n",
       "      </iframe>\n",
       "      <script>\n",
       "        (function() {\n",
       "          const frame = document.getElementById(\"tensorboard-frame-8ee6729f232364b7\");\n",
       "          const url = new URL(\"/\", window.location);\n",
       "          url.port = 6006;\n",
       "          frame.src = url;\n",
       "        })();\n",
       "      </script>\n",
       "  "
      ],
      "text/plain": [
       "<IPython.core.display.HTML object>"
      ]
     },
     "metadata": {},
     "output_type": "display_data"
    }
   ],
   "source": [
    "%reload_ext tensorboard\n",
    "%tensorboard --logdir log --bind_all --reload_multifile true"
   ]
  },
  {
   "cell_type": "code",
   "execution_count": 22,
   "metadata": {
    "scrolled": true
   },
   "outputs": [
    {
     "name": "stdout",
     "output_type": "stream",
     "text": [
      "Train on 10684 samples, validate on 1336 samples\n",
      "Epoch 1/200\n",
      "10684/10684 [==============================] - 1s 110us/sample - loss: 1.2183 - accuracy: 0.6822 - val_loss: 1.1110 - val_accuracy: 0.7620\n",
      "Epoch 2/200\n",
      "10684/10684 [==============================] - 1s 84us/sample - loss: 1.0411 - accuracy: 0.7745 - val_loss: 0.9842 - val_accuracy: 0.7702\n",
      "Epoch 3/200\n",
      "10684/10684 [==============================] - 1s 71us/sample - loss: 0.9419 - accuracy: 0.7786 - val_loss: 0.9058 - val_accuracy: 0.7710\n",
      "Epoch 4/200\n",
      "10684/10684 [==============================] - 1s 70us/sample - loss: 0.8772 - accuracy: 0.7792 - val_loss: 0.8511 - val_accuracy: 0.7710\n",
      "Epoch 5/200\n",
      " 9984/10684 [===========================>..] - ETA: 0s - loss: 0.8331 - accuracy: 0.7783\n",
      "Epoch 00005: saving model to ./model/checkpoint/cp-0005.ckpt\n",
      "10684/10684 [==============================] - 1s 89us/sample - loss: 0.8306 - accuracy: 0.7797 - val_loss: 0.8099 - val_accuracy: 0.7732\n",
      "Epoch 6/200\n",
      "10684/10684 [==============================] - 1s 75us/sample - loss: 0.7947 - accuracy: 0.7793 - val_loss: 0.7772 - val_accuracy: 0.7725\n",
      "Epoch 7/200\n",
      "10684/10684 [==============================] - 1s 75us/sample - loss: 0.7657 - accuracy: 0.7793 - val_loss: 0.7502 - val_accuracy: 0.7725\n",
      "Epoch 8/200\n",
      "10684/10684 [==============================] - 1s 73us/sample - loss: 0.7413 - accuracy: 0.7799 - val_loss: 0.7271 - val_accuracy: 0.7732\n",
      "Epoch 9/200\n",
      "10684/10684 [==============================] - 1s 74us/sample - loss: 0.7204 - accuracy: 0.7800 - val_loss: 0.7070 - val_accuracy: 0.7747\n",
      "Epoch 10/200\n",
      "10112/10684 [===========================>..] - ETA: 0s - loss: 0.7025 - accuracy: 0.7805\n",
      "Epoch 00010: saving model to ./model/checkpoint/cp-0010.ckpt\n",
      "10684/10684 [==============================] - 1s 67us/sample - loss: 0.7020 - accuracy: 0.7808 - val_loss: 0.6892 - val_accuracy: 0.7762\n",
      "Epoch 11/200\n",
      "10684/10684 [==============================] - 1s 69us/sample - loss: 0.6857 - accuracy: 0.7806 - val_loss: 0.6734 - val_accuracy: 0.7762\n",
      "Epoch 12/200\n",
      "10684/10684 [==============================] - 1s 96us/sample - loss: 0.6711 - accuracy: 0.7812 - val_loss: 0.6590 - val_accuracy: 0.7762\n",
      "Epoch 13/200\n",
      "10684/10684 [==============================] - 1s 70us/sample - loss: 0.6577 - accuracy: 0.7816 - val_loss: 0.6460 - val_accuracy: 0.7784\n",
      "Epoch 14/200\n",
      "10684/10684 [==============================] - 1s 70us/sample - loss: 0.6456 - accuracy: 0.7825 - val_loss: 0.6339 - val_accuracy: 0.7799\n",
      "Epoch 15/200\n",
      "10240/10684 [===========================>..] - ETA: 0s - loss: 0.6368 - accuracy: 0.7813\n",
      "Epoch 00015: saving model to ./model/checkpoint/cp-0015.ckpt\n",
      "10684/10684 [==============================] - 1s 66us/sample - loss: 0.6343 - accuracy: 0.7829 - val_loss: 0.6229 - val_accuracy: 0.7814\n",
      "Epoch 16/200\n",
      "10684/10684 [==============================] - 1s 90us/sample - loss: 0.6239 - accuracy: 0.7844 - val_loss: 0.6126 - val_accuracy: 0.7822\n",
      "Epoch 17/200\n",
      "10684/10684 [==============================] - 1s 67us/sample - loss: 0.6143 - accuracy: 0.7851 - val_loss: 0.6031 - val_accuracy: 0.7822\n",
      "Epoch 18/200\n",
      "10684/10684 [==============================] - 1s 103us/sample - loss: 0.6052 - accuracy: 0.7873 - val_loss: 0.5941 - val_accuracy: 0.7829\n",
      "Epoch 19/200\n",
      "10684/10684 [==============================] - 1s 90us/sample - loss: 0.5967 - accuracy: 0.7887 - val_loss: 0.5857 - val_accuracy: 0.7844\n",
      "Epoch 20/200\n",
      "10240/10684 [===========================>..] - ETA: 0s - loss: 0.5910 - accuracy: 0.7890\n",
      "Epoch 00020: saving model to ./model/checkpoint/cp-0020.ckpt\n",
      "10684/10684 [==============================] - 2s 145us/sample - loss: 0.5887 - accuracy: 0.7905 - val_loss: 0.5778 - val_accuracy: 0.7897\n",
      "Epoch 21/200\n",
      "10684/10684 [==============================] - 1s 92us/sample - loss: 0.5812 - accuracy: 0.7928 - val_loss: 0.5703 - val_accuracy: 0.7912\n",
      "Epoch 22/200\n",
      "10684/10684 [==============================] - 1s 80us/sample - loss: 0.5740 - accuracy: 0.7951 - val_loss: 0.5633 - val_accuracy: 0.7964\n",
      "Epoch 23/200\n",
      "10684/10684 [==============================] - 1s 79us/sample - loss: 0.5673 - accuracy: 0.7971 - val_loss: 0.5566 - val_accuracy: 0.7987\n",
      "Epoch 24/200\n",
      "10684/10684 [==============================] - 1s 67us/sample - loss: 0.5608 - accuracy: 0.7996 - val_loss: 0.5502 - val_accuracy: 0.8009\n",
      "Epoch 25/200\n",
      "10656/10684 [============================>.] - ETA: 0s - loss: 0.5548 - accuracy: 0.8027\n",
      "Epoch 00025: saving model to ./model/checkpoint/cp-0025.ckpt\n",
      "10684/10684 [==============================] - 1s 77us/sample - loss: 0.5547 - accuracy: 0.8028 - val_loss: 0.5441 - val_accuracy: 0.8039\n",
      "Epoch 26/200\n",
      "10684/10684 [==============================] - 1s 118us/sample - loss: 0.5488 - accuracy: 0.8057 - val_loss: 0.5383 - val_accuracy: 0.8076\n",
      "Epoch 27/200\n",
      "10684/10684 [==============================] - 1s 71us/sample - loss: 0.5432 - accuracy: 0.8082 - val_loss: 0.5328 - val_accuracy: 0.8099\n",
      "Epoch 28/200\n",
      "10684/10684 [==============================] - 1s 66us/sample - loss: 0.5379 - accuracy: 0.8108 - val_loss: 0.5275 - val_accuracy: 0.8099\n",
      "Epoch 29/200\n",
      "10684/10684 [==============================] - 1s 65us/sample - loss: 0.5328 - accuracy: 0.8128 - val_loss: 0.5224 - val_accuracy: 0.8121\n",
      "Epoch 30/200\n",
      "10496/10684 [============================>.] - ETA: 0s - loss: 0.5282 - accuracy: 0.8163\n",
      "Epoch 00030: saving model to ./model/checkpoint/cp-0030.ckpt\n",
      "10684/10684 [==============================] - 1s 87us/sample - loss: 0.5278 - accuracy: 0.8163 - val_loss: 0.5176 - val_accuracy: 0.8129\n",
      "Epoch 31/200\n",
      "10684/10684 [==============================] - 1s 122us/sample - loss: 0.5231 - accuracy: 0.8180 - val_loss: 0.5129 - val_accuracy: 0.8166\n",
      "Epoch 32/200\n",
      "10684/10684 [==============================] - 1s 96us/sample - loss: 0.5186 - accuracy: 0.8215 - val_loss: 0.5085 - val_accuracy: 0.8189\n",
      "Epoch 33/200\n",
      "10684/10684 [==============================] - 1s 98us/sample - loss: 0.5142 - accuracy: 0.8237 - val_loss: 0.5042 - val_accuracy: 0.8211\n",
      "Epoch 34/200\n",
      "10684/10684 [==============================] - 1s 76us/sample - loss: 0.5100 - accuracy: 0.8252 - val_loss: 0.5000 - val_accuracy: 0.8211\n",
      "Epoch 35/200\n",
      "10400/10684 [============================>.] - ETA: 0s - loss: 0.5070 - accuracy: 0.8265\n",
      "Epoch 00035: saving model to ./model/checkpoint/cp-0035.ckpt\n",
      "10684/10684 [==============================] - 1s 78us/sample - loss: 0.5059 - accuracy: 0.8269 - val_loss: 0.4960 - val_accuracy: 0.8241\n",
      "Epoch 36/200\n",
      "10684/10684 [==============================] - 1s 132us/sample - loss: 0.5020 - accuracy: 0.8288 - val_loss: 0.4922 - val_accuracy: 0.8256\n",
      "Epoch 37/200\n",
      "10684/10684 [==============================] - 1s 124us/sample - loss: 0.4982 - accuracy: 0.8297 - val_loss: 0.4885 - val_accuracy: 0.8263\n",
      "Epoch 38/200\n",
      "10684/10684 [==============================] - 1s 78us/sample - loss: 0.4945 - accuracy: 0.8311 - val_loss: 0.4849 - val_accuracy: 0.8286\n",
      "Epoch 39/200\n",
      "10684/10684 [==============================] - 1s 75us/sample - loss: 0.4910 - accuracy: 0.8320 - val_loss: 0.4814 - val_accuracy: 0.8308\n",
      "Epoch 40/200\n",
      "10432/10684 [============================>.] - ETA: 0s - loss: 0.4885 - accuracy: 0.8333\n",
      "Epoch 00040: saving model to ./model/checkpoint/cp-0040.ckpt\n",
      "10684/10684 [==============================] - 1s 126us/sample - loss: 0.4875 - accuracy: 0.8341 - val_loss: 0.4781 - val_accuracy: 0.8316\n",
      "Epoch 41/200\n",
      "10684/10684 [==============================] - 1s 100us/sample - loss: 0.4842 - accuracy: 0.8361 - val_loss: 0.4748 - val_accuracy: 0.8331\n",
      "Epoch 42/200\n",
      "10684/10684 [==============================] - 1s 67us/sample - loss: 0.4810 - accuracy: 0.8367 - val_loss: 0.4717 - val_accuracy: 0.8346\n",
      "Epoch 43/200\n",
      "10684/10684 [==============================] - 1s 67us/sample - loss: 0.4779 - accuracy: 0.8383 - val_loss: 0.4686 - val_accuracy: 0.8361\n",
      "Epoch 44/200\n",
      "10684/10684 [==============================] - 1s 66us/sample - loss: 0.4748 - accuracy: 0.8396 - val_loss: 0.4657 - val_accuracy: 0.8376\n",
      "Epoch 45/200\n",
      "10272/10684 [===========================>..] - ETA: 0s - loss: 0.4718 - accuracy: 0.8409\n",
      "Epoch 00045: saving model to ./model/checkpoint/cp-0045.ckpt\n",
      "10684/10684 [==============================] - 1s 66us/sample - loss: 0.4719 - accuracy: 0.8406 - val_loss: 0.4628 - val_accuracy: 0.8391\n"
     ]
    },
    {
     "name": "stdout",
     "output_type": "stream",
     "text": [
      "Epoch 46/200\n",
      "10684/10684 [==============================] - 1s 71us/sample - loss: 0.4691 - accuracy: 0.8425 - val_loss: 0.4600 - val_accuracy: 0.8413\n",
      "Epoch 47/200\n",
      "10684/10684 [==============================] - 1s 64us/sample - loss: 0.4663 - accuracy: 0.8442 - val_loss: 0.4573 - val_accuracy: 0.8436\n",
      "Epoch 48/200\n",
      "10684/10684 [==============================] - 1s 104us/sample - loss: 0.4636 - accuracy: 0.8458 - val_loss: 0.4547 - val_accuracy: 0.8443\n",
      "Epoch 49/200\n",
      "10684/10684 [==============================] - 1s 126us/sample - loss: 0.4610 - accuracy: 0.8464 - val_loss: 0.4522 - val_accuracy: 0.8458\n",
      "Epoch 50/200\n",
      "10272/10684 [===========================>..] - ETA: 0s - loss: 0.4594 - accuracy: 0.8466\n",
      "Epoch 00050: saving model to ./model/checkpoint/cp-0050.ckpt\n",
      "10684/10684 [==============================] - 1s 99us/sample - loss: 0.4584 - accuracy: 0.8469 - val_loss: 0.4497 - val_accuracy: 0.8481\n",
      "Epoch 51/200\n",
      "10684/10684 [==============================] - 1s 100us/sample - loss: 0.4560 - accuracy: 0.8479 - val_loss: 0.4473 - val_accuracy: 0.8481\n",
      "Epoch 52/200\n",
      "10684/10684 [==============================] - 2s 140us/sample - loss: 0.4535 - accuracy: 0.8491 - val_loss: 0.4449 - val_accuracy: 0.8496\n",
      "Epoch 53/200\n",
      "10684/10684 [==============================] - 1s 87us/sample - loss: 0.4512 - accuracy: 0.8503 - val_loss: 0.4427 - val_accuracy: 0.8488\n",
      "Epoch 54/200\n",
      "10684/10684 [==============================] - 1s 68us/sample - loss: 0.4489 - accuracy: 0.8516 - val_loss: 0.4405 - val_accuracy: 0.8510\n",
      "Epoch 55/200\n",
      "10304/10684 [===========================>..] - ETA: 0s - loss: 0.4451 - accuracy: 0.8532\n",
      "Epoch 00055: saving model to ./model/checkpoint/cp-0055.ckpt\n",
      "10684/10684 [==============================] - 1s 86us/sample - loss: 0.4467 - accuracy: 0.8524 - val_loss: 0.4383 - val_accuracy: 0.8510\n",
      "Epoch 56/200\n",
      "10684/10684 [==============================] - 1s 97us/sample - loss: 0.4445 - accuracy: 0.8532 - val_loss: 0.4362 - val_accuracy: 0.8525\n",
      "Epoch 57/200\n",
      "10684/10684 [==============================] - 1s 81us/sample - loss: 0.4424 - accuracy: 0.8539 - val_loss: 0.4342 - val_accuracy: 0.8540\n",
      "Epoch 58/200\n",
      "10684/10684 [==============================] - 1s 86us/sample - loss: 0.4403 - accuracy: 0.8542 - val_loss: 0.4322 - val_accuracy: 0.8555\n",
      "Epoch 59/200\n",
      "10684/10684 [==============================] - 1s 71us/sample - loss: 0.4383 - accuracy: 0.8545 - val_loss: 0.4302 - val_accuracy: 0.8570\n",
      "Epoch 60/200\n",
      "10368/10684 [============================>.] - ETA: 0s - loss: 0.4379 - accuracy: 0.8543\n",
      "Epoch 00060: saving model to ./model/checkpoint/cp-0060.ckpt\n",
      "10684/10684 [==============================] - 1s 71us/sample - loss: 0.4363 - accuracy: 0.8551 - val_loss: 0.4283 - val_accuracy: 0.8578\n",
      "Epoch 61/200\n",
      "10684/10684 [==============================] - 1s 69us/sample - loss: 0.4344 - accuracy: 0.8559 - val_loss: 0.4265 - val_accuracy: 0.8585\n",
      "Epoch 62/200\n",
      "10684/10684 [==============================] - 1s 72us/sample - loss: 0.4325 - accuracy: 0.8568 - val_loss: 0.4247 - val_accuracy: 0.8585\n",
      "Epoch 63/200\n",
      "10684/10684 [==============================] - 1s 66us/sample - loss: 0.4307 - accuracy: 0.8575 - val_loss: 0.4229 - val_accuracy: 0.8585\n",
      "Epoch 64/200\n",
      "10684/10684 [==============================] - 1s 71us/sample - loss: 0.4289 - accuracy: 0.8583 - val_loss: 0.4212 - val_accuracy: 0.8593\n",
      "Epoch 65/200\n",
      "10304/10684 [===========================>..] - ETA: 0s - loss: 0.4254 - accuracy: 0.8602\n",
      "Epoch 00065: saving model to ./model/checkpoint/cp-0065.ckpt\n",
      "10684/10684 [==============================] - 1s 71us/sample - loss: 0.4271 - accuracy: 0.8591 - val_loss: 0.4195 - val_accuracy: 0.8608\n",
      "Epoch 66/200\n",
      "10684/10684 [==============================] - 1s 76us/sample - loss: 0.4254 - accuracy: 0.8599 - val_loss: 0.4179 - val_accuracy: 0.8615\n",
      "Epoch 67/200\n",
      "10684/10684 [==============================] - 1s 73us/sample - loss: 0.4237 - accuracy: 0.8604 - val_loss: 0.4163 - val_accuracy: 0.8623\n",
      "Epoch 68/200\n",
      "10684/10684 [==============================] - 1s 100us/sample - loss: 0.4221 - accuracy: 0.8606 - val_loss: 0.4147 - val_accuracy: 0.8638\n",
      "Epoch 69/200\n",
      "10684/10684 [==============================] - 1s 107us/sample - loss: 0.4205 - accuracy: 0.8621 - val_loss: 0.4132 - val_accuracy: 0.8645\n",
      "Epoch 70/200\n",
      "10528/10684 [============================>.] - ETA: 0s - loss: 0.4184 - accuracy: 0.8635\n",
      "Epoch 00070: saving model to ./model/checkpoint/cp-0070.ckpt\n",
      "10684/10684 [==============================] - 1s 76us/sample - loss: 0.4189 - accuracy: 0.8634 - val_loss: 0.4117 - val_accuracy: 0.8645\n",
      "Epoch 71/200\n",
      "10684/10684 [==============================] - 1s 77us/sample - loss: 0.4173 - accuracy: 0.8635 - val_loss: 0.4102 - val_accuracy: 0.8638\n",
      "Epoch 72/200\n",
      "10684/10684 [==============================] - 1s 97us/sample - loss: 0.4158 - accuracy: 0.8644 - val_loss: 0.4087 - val_accuracy: 0.8638\n",
      "Epoch 73/200\n",
      "10684/10684 [==============================] - 1s 76us/sample - loss: 0.4143 - accuracy: 0.8646 - val_loss: 0.4073 - val_accuracy: 0.8638\n",
      "Epoch 74/200\n",
      "10684/10684 [==============================] - 1s 71us/sample - loss: 0.4129 - accuracy: 0.8655 - val_loss: 0.4060 - val_accuracy: 0.8630\n",
      "Epoch 75/200\n",
      "10368/10684 [============================>.] - ETA: 0s - loss: 0.4111 - accuracy: 0.8660\n",
      "Epoch 00075: saving model to ./model/checkpoint/cp-0075.ckpt\n",
      "10684/10684 [==============================] - 1s 102us/sample - loss: 0.4114 - accuracy: 0.8658 - val_loss: 0.4046 - val_accuracy: 0.8638\n",
      "Epoch 76/200\n",
      "10684/10684 [==============================] - 1s 94us/sample - loss: 0.4101 - accuracy: 0.8662 - val_loss: 0.4033 - val_accuracy: 0.8645\n",
      "Epoch 77/200\n",
      "10684/10684 [==============================] - 1s 66us/sample - loss: 0.4087 - accuracy: 0.8664 - val_loss: 0.4020 - val_accuracy: 0.8660\n",
      "Epoch 78/200\n",
      "10684/10684 [==============================] - 1s 66us/sample - loss: 0.4073 - accuracy: 0.8673 - val_loss: 0.4007 - val_accuracy: 0.8675\n",
      "Epoch 79/200\n",
      "10684/10684 [==============================] - 1s 66us/sample - loss: 0.4060 - accuracy: 0.8678 - val_loss: 0.3995 - val_accuracy: 0.8675\n",
      "Epoch 80/200\n",
      " 9984/10684 [===========================>..] - ETA: 0s - loss: 0.4051 - accuracy: 0.8685\n",
      "Epoch 00080: saving model to ./model/checkpoint/cp-0080.ckpt\n",
      "10684/10684 [==============================] - 1s 68us/sample - loss: 0.4047 - accuracy: 0.8687 - val_loss: 0.3983 - val_accuracy: 0.8683\n",
      "Epoch 81/200\n",
      "10684/10684 [==============================] - 1s 75us/sample - loss: 0.4035 - accuracy: 0.8693 - val_loss: 0.3971 - val_accuracy: 0.8690\n",
      "Epoch 82/200\n",
      "10684/10684 [==============================] - 1s 81us/sample - loss: 0.4022 - accuracy: 0.8692 - val_loss: 0.3959 - val_accuracy: 0.8690\n",
      "Epoch 83/200\n",
      "10684/10684 [==============================] - 1s 66us/sample - loss: 0.4010 - accuracy: 0.8706 - val_loss: 0.3947 - val_accuracy: 0.8690\n",
      "Epoch 84/200\n",
      "10684/10684 [==============================] - 1s 66us/sample - loss: 0.3998 - accuracy: 0.8707 - val_loss: 0.3936 - val_accuracy: 0.8698\n",
      "Epoch 85/200\n",
      " 9984/10684 [===========================>..] - ETA: 0s - loss: 0.3971 - accuracy: 0.8713\n",
      "Epoch 00085: saving model to ./model/checkpoint/cp-0085.ckpt\n",
      "10684/10684 [==============================] - 1s 67us/sample - loss: 0.3986 - accuracy: 0.8712 - val_loss: 0.3925 - val_accuracy: 0.8698\n",
      "Epoch 86/200\n",
      "10684/10684 [==============================] - 1s 80us/sample - loss: 0.3974 - accuracy: 0.8719 - val_loss: 0.3914 - val_accuracy: 0.8698\n",
      "Epoch 87/200\n",
      "10684/10684 [==============================] - 1s 101us/sample - loss: 0.3963 - accuracy: 0.8726 - val_loss: 0.3903 - val_accuracy: 0.8705\n",
      "Epoch 88/200\n",
      "10684/10684 [==============================] - 1s 80us/sample - loss: 0.3952 - accuracy: 0.8729 - val_loss: 0.3893 - val_accuracy: 0.8705\n",
      "Epoch 89/200\n",
      "10684/10684 [==============================] - 1s 74us/sample - loss: 0.3941 - accuracy: 0.8733 - val_loss: 0.3882 - val_accuracy: 0.8720\n",
      "Epoch 90/200\n",
      "10080/10684 [===========================>..] - ETA: 0s - loss: 0.3922 - accuracy: 0.8743\n",
      "Epoch 00090: saving model to ./model/checkpoint/cp-0090.ckpt\n",
      "10684/10684 [==============================] - 1s 67us/sample - loss: 0.3930 - accuracy: 0.8735 - val_loss: 0.3872 - val_accuracy: 0.8720\n",
      "Epoch 91/200\n"
     ]
    },
    {
     "name": "stdout",
     "output_type": "stream",
     "text": [
      "10684/10684 [==============================] - 1s 74us/sample - loss: 0.3919 - accuracy: 0.8739 - val_loss: 0.3862 - val_accuracy: 0.8720\n",
      "Epoch 92/200\n",
      "10684/10684 [==============================] - 1s 64us/sample - loss: 0.3909 - accuracy: 0.8741 - val_loss: 0.3852 - val_accuracy: 0.8728\n",
      "Epoch 93/200\n",
      "10684/10684 [==============================] - 1s 63us/sample - loss: 0.3898 - accuracy: 0.8750 - val_loss: 0.3843 - val_accuracy: 0.8735\n",
      "Epoch 94/200\n",
      "10684/10684 [==============================] - 1s 66us/sample - loss: 0.3888 - accuracy: 0.8751 - val_loss: 0.3833 - val_accuracy: 0.8743\n",
      "Epoch 95/200\n",
      "10240/10684 [===========================>..] - ETA: 0s - loss: 0.3863 - accuracy: 0.8765\n",
      "Epoch 00095: saving model to ./model/checkpoint/cp-0095.ckpt\n",
      "10684/10684 [==============================] - 1s 66us/sample - loss: 0.3878 - accuracy: 0.8755 - val_loss: 0.3824 - val_accuracy: 0.8743\n",
      "Epoch 96/200\n",
      "10684/10684 [==============================] - 1s 69us/sample - loss: 0.3869 - accuracy: 0.8760 - val_loss: 0.3815 - val_accuracy: 0.8750\n",
      "Epoch 97/200\n",
      "10684/10684 [==============================] - 1s 66us/sample - loss: 0.3859 - accuracy: 0.8762 - val_loss: 0.3806 - val_accuracy: 0.8750\n",
      "Epoch 98/200\n",
      "10684/10684 [==============================] - 1s 65us/sample - loss: 0.3849 - accuracy: 0.8764 - val_loss: 0.3797 - val_accuracy: 0.8757\n",
      "Epoch 99/200\n",
      "10684/10684 [==============================] - 1s 92us/sample - loss: 0.3840 - accuracy: 0.8764 - val_loss: 0.3788 - val_accuracy: 0.8757\n",
      "Epoch 100/200\n",
      "10624/10684 [============================>.] - ETA: 0s - loss: 0.3833 - accuracy: 0.8767\n",
      "Epoch 00100: saving model to ./model/checkpoint/cp-0100.ckpt\n",
      "10684/10684 [==============================] - 1s 109us/sample - loss: 0.3831 - accuracy: 0.8769 - val_loss: 0.3780 - val_accuracy: 0.8757\n",
      "Epoch 101/200\n",
      "10684/10684 [==============================] - 1s 109us/sample - loss: 0.3822 - accuracy: 0.8777 - val_loss: 0.3771 - val_accuracy: 0.8772\n",
      "Epoch 102/200\n",
      "10684/10684 [==============================] - 1s 83us/sample - loss: 0.3813 - accuracy: 0.8777 - val_loss: 0.3763 - val_accuracy: 0.8780\n",
      "Epoch 103/200\n",
      "10684/10684 [==============================] - 1s 65us/sample - loss: 0.3804 - accuracy: 0.8779 - val_loss: 0.3755 - val_accuracy: 0.8772\n",
      "Epoch 104/200\n",
      "10684/10684 [==============================] - 1s 74us/sample - loss: 0.3795 - accuracy: 0.8784 - val_loss: 0.3747 - val_accuracy: 0.8765\n",
      "Epoch 105/200\n",
      "10400/10684 [============================>.] - ETA: 0s - loss: 0.3789 - accuracy: 0.8792\n",
      "Epoch 00105: saving model to ./model/checkpoint/cp-0105.ckpt\n",
      "10684/10684 [==============================] - 1s 124us/sample - loss: 0.3787 - accuracy: 0.8788 - val_loss: 0.3739 - val_accuracy: 0.8772\n",
      "Epoch 106/200\n",
      "10684/10684 [==============================] - 1s 94us/sample - loss: 0.3778 - accuracy: 0.8794 - val_loss: 0.3731 - val_accuracy: 0.8772\n",
      "Epoch 107/200\n",
      "10684/10684 [==============================] - 1s 71us/sample - loss: 0.3770 - accuracy: 0.8795 - val_loss: 0.3724 - val_accuracy: 0.8780\n",
      "Epoch 108/200\n",
      "10684/10684 [==============================] - 1s 65us/sample - loss: 0.3762 - accuracy: 0.8801 - val_loss: 0.3716 - val_accuracy: 0.8780\n",
      "Epoch 109/200\n",
      "10684/10684 [==============================] - 1s 64us/sample - loss: 0.3754 - accuracy: 0.8804 - val_loss: 0.3709 - val_accuracy: 0.8780\n",
      "Epoch 110/200\n",
      "10112/10684 [===========================>..] - ETA: 0s - loss: 0.3752 - accuracy: 0.8802\n",
      "Epoch 00110: saving model to ./model/checkpoint/cp-0110.ckpt\n",
      "10684/10684 [==============================] - 1s 67us/sample - loss: 0.3746 - accuracy: 0.8805 - val_loss: 0.3701 - val_accuracy: 0.8780\n",
      "Epoch 111/200\n",
      "10684/10684 [==============================] - 1s 81us/sample - loss: 0.3738 - accuracy: 0.8802 - val_loss: 0.3694 - val_accuracy: 0.8780\n",
      "Epoch 112/200\n",
      "10684/10684 [==============================] - 1s 70us/sample - loss: 0.3730 - accuracy: 0.8812 - val_loss: 0.3687 - val_accuracy: 0.8780\n",
      "Epoch 113/200\n",
      "10684/10684 [==============================] - 1s 66us/sample - loss: 0.3722 - accuracy: 0.8814 - val_loss: 0.3680 - val_accuracy: 0.8780\n",
      "Epoch 114/200\n",
      "10684/10684 [==============================] - 1s 67us/sample - loss: 0.3715 - accuracy: 0.8816 - val_loss: 0.3673 - val_accuracy: 0.8780\n",
      "Epoch 115/200\n",
      "10336/10684 [============================>.] - ETA: 0s - loss: 0.3709 - accuracy: 0.8827\n",
      "Epoch 00115: saving model to ./model/checkpoint/cp-0115.ckpt\n",
      "10684/10684 [==============================] - 1s 76us/sample - loss: 0.3707 - accuracy: 0.8822 - val_loss: 0.3666 - val_accuracy: 0.8780\n",
      "Epoch 116/200\n",
      "10684/10684 [==============================] - 1s 86us/sample - loss: 0.3700 - accuracy: 0.8825 - val_loss: 0.3660 - val_accuracy: 0.8765\n",
      "Epoch 117/200\n",
      "10684/10684 [==============================] - 1s 67us/sample - loss: 0.3693 - accuracy: 0.8824 - val_loss: 0.3653 - val_accuracy: 0.8780\n",
      "Epoch 118/200\n",
      "10684/10684 [==============================] - 1s 71us/sample - loss: 0.3686 - accuracy: 0.8829 - val_loss: 0.3646 - val_accuracy: 0.8772\n",
      "Epoch 119/200\n",
      "10684/10684 [==============================] - 1s 66us/sample - loss: 0.3679 - accuracy: 0.8830 - val_loss: 0.3640 - val_accuracy: 0.8772\n",
      "Epoch 120/200\n",
      "10336/10684 [============================>.] - ETA: 0s - loss: 0.3674 - accuracy: 0.8826\n",
      "Epoch 00120: saving model to ./model/checkpoint/cp-0120.ckpt\n",
      "10684/10684 [==============================] - 1s 66us/sample - loss: 0.3672 - accuracy: 0.8832 - val_loss: 0.3634 - val_accuracy: 0.8772\n",
      "Epoch 121/200\n",
      "10684/10684 [==============================] - 1s 70us/sample - loss: 0.3665 - accuracy: 0.8834 - val_loss: 0.3627 - val_accuracy: 0.8772\n",
      "Epoch 122/200\n",
      "10684/10684 [==============================] - 1s 70us/sample - loss: 0.3658 - accuracy: 0.8832 - val_loss: 0.3621 - val_accuracy: 0.8787\n",
      "Epoch 123/200\n",
      "10684/10684 [==============================] - 1s 67us/sample - loss: 0.3651 - accuracy: 0.8836 - val_loss: 0.3615 - val_accuracy: 0.8787\n",
      "Epoch 124/200\n",
      "10684/10684 [==============================] - 1s 68us/sample - loss: 0.3645 - accuracy: 0.8835 - val_loss: 0.3609 - val_accuracy: 0.8787\n",
      "Epoch 125/200\n",
      "10560/10684 [============================>.] - ETA: 0s - loss: 0.3635 - accuracy: 0.8831\n",
      "Epoch 00125: saving model to ./model/checkpoint/cp-0125.ckpt\n",
      "10684/10684 [==============================] - 1s 74us/sample - loss: 0.3638 - accuracy: 0.8836 - val_loss: 0.3603 - val_accuracy: 0.8787\n",
      "Epoch 126/200\n",
      "10684/10684 [==============================] - 1s 74us/sample - loss: 0.3632 - accuracy: 0.8838 - val_loss: 0.3597 - val_accuracy: 0.8787\n",
      "Epoch 127/200\n",
      "10684/10684 [==============================] - 1s 70us/sample - loss: 0.3625 - accuracy: 0.8837 - val_loss: 0.3591 - val_accuracy: 0.8787\n",
      "Epoch 128/200\n",
      "10684/10684 [==============================] - 1s 74us/sample - loss: 0.3619 - accuracy: 0.8838 - val_loss: 0.3586 - val_accuracy: 0.8787\n",
      "Epoch 129/200\n",
      "10684/10684 [==============================] - 1s 65us/sample - loss: 0.3613 - accuracy: 0.8839 - val_loss: 0.3580 - val_accuracy: 0.8787\n",
      "Epoch 130/200\n",
      "10624/10684 [============================>.] - ETA: 0s - loss: 0.3609 - accuracy: 0.8840 ETA: 0s - loss: 0.3563 - accuracy\n",
      "Epoch 00130: saving model to ./model/checkpoint/cp-0130.ckpt\n",
      "10684/10684 [==============================] - 1s 69us/sample - loss: 0.3607 - accuracy: 0.8842 - val_loss: 0.3575 - val_accuracy: 0.8795\n",
      "Epoch 131/200\n",
      "10684/10684 [==============================] - 1s 81us/sample - loss: 0.3601 - accuracy: 0.8841 - val_loss: 0.3569 - val_accuracy: 0.8787\n",
      "Epoch 132/200\n",
      "10684/10684 [==============================] - 1s 72us/sample - loss: 0.3594 - accuracy: 0.8840 - val_loss: 0.3564 - val_accuracy: 0.8787\n",
      "Epoch 133/200\n",
      "10684/10684 [==============================] - 1s 66us/sample - loss: 0.3589 - accuracy: 0.8843 - val_loss: 0.3558 - val_accuracy: 0.8795\n",
      "Epoch 134/200\n",
      "10684/10684 [==============================] - 1s 70us/sample - loss: 0.3583 - accuracy: 0.8848 - val_loss: 0.3553 - val_accuracy: 0.8802\n",
      "Epoch 135/200\n",
      "10304/10684 [===========================>..] - ETA: 0s - loss: 0.3579 - accuracy: 0.8845\n",
      "Epoch 00135: saving model to ./model/checkpoint/cp-0135.ckpt\n",
      "10684/10684 [==============================] - 1s 66us/sample - loss: 0.3577 - accuracy: 0.8847 - val_loss: 0.3548 - val_accuracy: 0.8802\n"
     ]
    },
    {
     "name": "stdout",
     "output_type": "stream",
     "text": [
      "Epoch 136/200\n",
      "10684/10684 [==============================] - 1s 72us/sample - loss: 0.3571 - accuracy: 0.8851 - val_loss: 0.3543 - val_accuracy: 0.8810\n",
      "Epoch 137/200\n",
      "10684/10684 [==============================] - 1s 63us/sample - loss: 0.3565 - accuracy: 0.8852 - val_loss: 0.3538 - val_accuracy: 0.8810\n",
      "Epoch 138/200\n",
      "10684/10684 [==============================] - 1s 70us/sample - loss: 0.3560 - accuracy: 0.8854 - val_loss: 0.3533 - val_accuracy: 0.8810\n",
      "Epoch 139/200\n",
      "10684/10684 [==============================] - 1s 65us/sample - loss: 0.3554 - accuracy: 0.8856 - val_loss: 0.3528 - val_accuracy: 0.8817\n",
      "Epoch 140/200\n",
      " 9856/10684 [==========================>...] - ETA: 0s - loss: 0.3526 - accuracy: 0.8876\n",
      "Epoch 00140: saving model to ./model/checkpoint/cp-0140.ckpt\n",
      "10684/10684 [==============================] - 1s 63us/sample - loss: 0.3549 - accuracy: 0.8857 - val_loss: 0.3523 - val_accuracy: 0.8817\n",
      "Epoch 141/200\n",
      "10684/10684 [==============================] - 1s 70us/sample - loss: 0.3543 - accuracy: 0.8859 - val_loss: 0.3518 - val_accuracy: 0.8817\n",
      "Epoch 142/200\n",
      "10684/10684 [==============================] - 1s 66us/sample - loss: 0.3538 - accuracy: 0.8863 - val_loss: 0.3513 - val_accuracy: 0.8817\n",
      "Epoch 143/200\n",
      "10684/10684 [==============================] - 1s 63us/sample - loss: 0.3533 - accuracy: 0.8865 - val_loss: 0.3508 - val_accuracy: 0.8825\n",
      "Epoch 144/200\n",
      "10684/10684 [==============================] - 1s 65us/sample - loss: 0.3527 - accuracy: 0.8866 - val_loss: 0.3504 - val_accuracy: 0.8825\n",
      "Epoch 145/200\n",
      "10528/10684 [============================>.] - ETA: 0s - loss: 0.3523 - accuracy: 0.8868\n",
      "Epoch 00145: saving model to ./model/checkpoint/cp-0145.ckpt\n",
      "10684/10684 [==============================] - 1s 70us/sample - loss: 0.3522 - accuracy: 0.8867 - val_loss: 0.3499 - val_accuracy: 0.8825\n",
      "Epoch 146/200\n",
      "10684/10684 [==============================] - 1s 67us/sample - loss: 0.3517 - accuracy: 0.8867 - val_loss: 0.3494 - val_accuracy: 0.8817\n",
      "Epoch 147/200\n",
      "10684/10684 [==============================] - 1s 71us/sample - loss: 0.3512 - accuracy: 0.8869 - val_loss: 0.3490 - val_accuracy: 0.8817\n",
      "Epoch 148/200\n",
      "10684/10684 [==============================] - 1s 65us/sample - loss: 0.3507 - accuracy: 0.8869 - val_loss: 0.3485 - val_accuracy: 0.8832\n",
      "Epoch 149/200\n",
      "10684/10684 [==============================] - 1s 62us/sample - loss: 0.3502 - accuracy: 0.8873 - val_loss: 0.3481 - val_accuracy: 0.8832\n",
      "Epoch 150/200\n",
      " 9888/10684 [==========================>...] - ETA: 0s - loss: 0.3480 - accuracy: 0.8877\n",
      "Epoch 00150: saving model to ./model/checkpoint/cp-0150.ckpt\n",
      "10684/10684 [==============================] - 1s 63us/sample - loss: 0.3497 - accuracy: 0.8872 - val_loss: 0.3477 - val_accuracy: 0.8832\n",
      "Epoch 151/200\n",
      "10684/10684 [==============================] - 1s 74us/sample - loss: 0.3492 - accuracy: 0.8875 - val_loss: 0.3472 - val_accuracy: 0.8832\n",
      "Epoch 152/200\n",
      "10684/10684 [==============================] - 1s 71us/sample - loss: 0.3487 - accuracy: 0.8878 - val_loss: 0.3468 - val_accuracy: 0.8832\n",
      "Epoch 153/200\n",
      "10684/10684 [==============================] - 1s 66us/sample - loss: 0.3483 - accuracy: 0.8877 - val_loss: 0.3464 - val_accuracy: 0.8847\n",
      "Epoch 154/200\n",
      "10684/10684 [==============================] - 1s 63us/sample - loss: 0.3478 - accuracy: 0.8882 - val_loss: 0.3460 - val_accuracy: 0.8870\n",
      "Epoch 155/200\n",
      " 9952/10684 [==========================>...] - ETA: 0s - loss: 0.3484 - accuracy: 0.8878\n",
      "Epoch 00155: saving model to ./model/checkpoint/cp-0155.ckpt\n",
      "10684/10684 [==============================] - 1s 63us/sample - loss: 0.3473 - accuracy: 0.8888 - val_loss: 0.3455 - val_accuracy: 0.8877\n",
      "Epoch 156/200\n",
      "10684/10684 [==============================] - 1s 72us/sample - loss: 0.3468 - accuracy: 0.8886 - val_loss: 0.3451 - val_accuracy: 0.8877\n",
      "Epoch 157/200\n",
      "10684/10684 [==============================] - 1s 72us/sample - loss: 0.3464 - accuracy: 0.8889 - val_loss: 0.3447 - val_accuracy: 0.8877\n",
      "Epoch 158/200\n",
      "10684/10684 [==============================] - 1s 64us/sample - loss: 0.3459 - accuracy: 0.8896 - val_loss: 0.3443 - val_accuracy: 0.8870\n",
      "Epoch 159/200\n",
      "10684/10684 [==============================] - 1s 71us/sample - loss: 0.3455 - accuracy: 0.8898 - val_loss: 0.3439 - val_accuracy: 0.8870\n",
      "Epoch 160/200\n",
      "10112/10684 [===========================>..] - ETA: 0s - loss: 0.3473 - accuracy: 0.8892\n",
      "Epoch 00160: saving model to ./model/checkpoint/cp-0160.ckpt\n",
      "10684/10684 [==============================] - 1s 66us/sample - loss: 0.3450 - accuracy: 0.8899 - val_loss: 0.3435 - val_accuracy: 0.8870\n",
      "Epoch 161/200\n",
      "10684/10684 [==============================] - 1s 74us/sample - loss: 0.3446 - accuracy: 0.8902 - val_loss: 0.3431 - val_accuracy: 0.8862\n",
      "Epoch 162/200\n",
      "10684/10684 [==============================] - 1s 81us/sample - loss: 0.3441 - accuracy: 0.8899 - val_loss: 0.3428 - val_accuracy: 0.8862\n",
      "Epoch 163/200\n",
      "10684/10684 [==============================] - 1s 70us/sample - loss: 0.3437 - accuracy: 0.8904 - val_loss: 0.3424 - val_accuracy: 0.8862\n",
      "Epoch 164/200\n",
      "10684/10684 [==============================] - 1s 74us/sample - loss: 0.3433 - accuracy: 0.8903 - val_loss: 0.3420 - val_accuracy: 0.8862\n",
      "Epoch 165/200\n",
      " 9984/10684 [===========================>..] - ETA: 0s - loss: 0.3451 - accuracy: 0.8894\n",
      "Epoch 00165: saving model to ./model/checkpoint/cp-0165.ckpt\n",
      "10684/10684 [==============================] - 1s 92us/sample - loss: 0.3429 - accuracy: 0.8905 - val_loss: 0.3416 - val_accuracy: 0.8862\n",
      "Epoch 166/200\n",
      "10684/10684 [==============================] - 1s 79us/sample - loss: 0.3424 - accuracy: 0.8903 - val_loss: 0.3413 - val_accuracy: 0.8862\n",
      "Epoch 167/200\n",
      "10684/10684 [==============================] - 1s 64us/sample - loss: 0.3420 - accuracy: 0.8907 - val_loss: 0.3409 - val_accuracy: 0.8862\n",
      "Epoch 168/200\n",
      "10684/10684 [==============================] - 1s 64us/sample - loss: 0.3416 - accuracy: 0.8907 - val_loss: 0.3405 - val_accuracy: 0.8862\n",
      "Epoch 169/200\n",
      "10684/10684 [==============================] - 1s 62us/sample - loss: 0.3412 - accuracy: 0.8906 - val_loss: 0.3402 - val_accuracy: 0.8862\n",
      "Epoch 170/200\n",
      "10112/10684 [===========================>..] - ETA: 0s - loss: 0.3407 - accuracy: 0.8910 ETA: 0s - loss: 0.3429 - accuracy: \n",
      "Epoch 00170: saving model to ./model/checkpoint/cp-0170.ckpt\n",
      "10684/10684 [==============================] - 1s 73us/sample - loss: 0.3408 - accuracy: 0.8907 - val_loss: 0.3398 - val_accuracy: 0.8862\n",
      "Epoch 171/200\n",
      "10684/10684 [==============================] - 1s 73us/sample - loss: 0.3404 - accuracy: 0.8908 - val_loss: 0.3395 - val_accuracy: 0.8862\n",
      "Epoch 172/200\n",
      "10684/10684 [==============================] - 1s 74us/sample - loss: 0.3400 - accuracy: 0.8911 - val_loss: 0.3391 - val_accuracy: 0.8862\n",
      "Epoch 173/200\n",
      "10684/10684 [==============================] - 1s 66us/sample - loss: 0.3396 - accuracy: 0.8912 - val_loss: 0.3388 - val_accuracy: 0.8862\n",
      "Epoch 174/200\n",
      "10684/10684 [==============================] - 1s 63us/sample - loss: 0.3392 - accuracy: 0.8911 - val_loss: 0.3384 - val_accuracy: 0.8862\n",
      "Epoch 175/200\n",
      "10432/10684 [============================>.] - ETA: 0s - loss: 0.3397 - accuracy: 0.8907\n",
      "Epoch 00175: saving model to ./model/checkpoint/cp-0175.ckpt\n",
      "10684/10684 [==============================] - 1s 65us/sample - loss: 0.3388 - accuracy: 0.8911 - val_loss: 0.3381 - val_accuracy: 0.8862\n",
      "Epoch 176/200\n",
      "10684/10684 [==============================] - 1s 67us/sample - loss: 0.3384 - accuracy: 0.8913 - val_loss: 0.3378 - val_accuracy: 0.8862\n",
      "Epoch 177/200\n",
      "10684/10684 [==============================] - 1s 70us/sample - loss: 0.3380 - accuracy: 0.8912 - val_loss: 0.3374 - val_accuracy: 0.8870\n",
      "Epoch 178/200\n",
      "10684/10684 [==============================] - 1s 66us/sample - loss: 0.3377 - accuracy: 0.8918 - val_loss: 0.3371 - val_accuracy: 0.8870\n",
      "Epoch 179/200\n",
      "10684/10684 [==============================] - 1s 77us/sample - loss: 0.3373 - accuracy: 0.8919 - val_loss: 0.3368 - val_accuracy: 0.8877\n",
      "Epoch 180/200\n",
      "10368/10684 [============================>.] - ETA: 0s - loss: 0.3368 - accuracy: 0.8919\n",
      "Epoch 00180: saving model to ./model/checkpoint/cp-0180.ckpt\n",
      "10684/10684 [==============================] - 1s 66us/sample - loss: 0.3369 - accuracy: 0.8921 - val_loss: 0.3365 - val_accuracy: 0.8877\n"
     ]
    },
    {
     "name": "stdout",
     "output_type": "stream",
     "text": [
      "Epoch 181/200\n",
      "10684/10684 [==============================] - 1s 75us/sample - loss: 0.3365 - accuracy: 0.8923 - val_loss: 0.3361 - val_accuracy: 0.8877\n",
      "Epoch 182/200\n",
      "10684/10684 [==============================] - 1s 64us/sample - loss: 0.3362 - accuracy: 0.8926 - val_loss: 0.3358 - val_accuracy: 0.8877\n",
      "Epoch 183/200\n",
      "10684/10684 [==============================] - 1s 67us/sample - loss: 0.3358 - accuracy: 0.8925 - val_loss: 0.3355 - val_accuracy: 0.8885\n",
      "Epoch 184/200\n",
      "10684/10684 [==============================] - 1s 67us/sample - loss: 0.3355 - accuracy: 0.8925 - val_loss: 0.3352 - val_accuracy: 0.8877\n",
      "Epoch 185/200\n",
      " 9856/10684 [==========================>...] - ETA: 0s - loss: 0.3349 - accuracy: 0.8927\n",
      "Epoch 00185: saving model to ./model/checkpoint/cp-0185.ckpt\n",
      "10684/10684 [==============================] - 1s 63us/sample - loss: 0.3351 - accuracy: 0.8928 - val_loss: 0.3349 - val_accuracy: 0.8877\n",
      "Epoch 186/200\n",
      "10684/10684 [==============================] - 1s 72us/sample - loss: 0.3347 - accuracy: 0.8928 - val_loss: 0.3346 - val_accuracy: 0.8870\n",
      "Epoch 187/200\n",
      "10684/10684 [==============================] - 1s 62us/sample - loss: 0.3344 - accuracy: 0.8929 - val_loss: 0.3343 - val_accuracy: 0.8870\n",
      "Epoch 188/200\n",
      "10684/10684 [==============================] - 1s 65us/sample - loss: 0.3340 - accuracy: 0.8930 - val_loss: 0.3340 - val_accuracy: 0.8870\n",
      "Epoch 189/200\n",
      "10684/10684 [==============================] - 1s 62us/sample - loss: 0.3337 - accuracy: 0.8932 - val_loss: 0.3337 - val_accuracy: 0.8870\n",
      "Epoch 190/200\n",
      " 9952/10684 [==========================>...] - ETA: 0s - loss: 0.3323 - accuracy: 0.8944\n",
      "Epoch 00190: saving model to ./model/checkpoint/cp-0190.ckpt\n",
      "10684/10684 [==============================] - 1s 62us/sample - loss: 0.3334 - accuracy: 0.8936 - val_loss: 0.3334 - val_accuracy: 0.8862\n",
      "Epoch 191/200\n",
      "10684/10684 [==============================] - 1s 75us/sample - loss: 0.3330 - accuracy: 0.8932 - val_loss: 0.3331 - val_accuracy: 0.8862\n",
      "Epoch 192/200\n",
      "10684/10684 [==============================] - 1s 68us/sample - loss: 0.3327 - accuracy: 0.8937 - val_loss: 0.3328 - val_accuracy: 0.8862\n",
      "Epoch 193/200\n",
      "10684/10684 [==============================] - 1s 66us/sample - loss: 0.3323 - accuracy: 0.8938 - val_loss: 0.3325 - val_accuracy: 0.8862\n",
      "Epoch 194/200\n",
      "10684/10684 [==============================] - 1s 67us/sample - loss: 0.3320 - accuracy: 0.8940 - val_loss: 0.3323 - val_accuracy: 0.8862\n",
      "Epoch 195/200\n",
      "10208/10684 [===========================>..] - ETA: 0s - loss: 0.3316 - accuracy: 0.8938\n",
      "Epoch 00195: saving model to ./model/checkpoint/cp-0195.ckpt\n",
      "10684/10684 [==============================] - 1s 66us/sample - loss: 0.3317 - accuracy: 0.8942 - val_loss: 0.3320 - val_accuracy: 0.8862\n",
      "Epoch 196/200\n",
      "10684/10684 [==============================] - 1s 71us/sample - loss: 0.3314 - accuracy: 0.8945 - val_loss: 0.3317 - val_accuracy: 0.8862\n",
      "Epoch 197/200\n",
      "10684/10684 [==============================] - 1s 68us/sample - loss: 0.3310 - accuracy: 0.8944 - val_loss: 0.3314 - val_accuracy: 0.8862\n",
      "Epoch 198/200\n",
      "10684/10684 [==============================] - 1s 65us/sample - loss: 0.3307 - accuracy: 0.8947 - val_loss: 0.3311 - val_accuracy: 0.8870\n",
      "Epoch 199/200\n",
      "10684/10684 [==============================] - 1s 83us/sample - loss: 0.3304 - accuracy: 0.8948 - val_loss: 0.3309 - val_accuracy: 0.8870\n",
      "Epoch 200/200\n",
      " 9984/10684 [===========================>..] - ETA: 0s - loss: 0.3290 - accuracy: 0.8964\n",
      "Epoch 00200: saving model to ./model/checkpoint/cp-0200.ckpt\n",
      "10684/10684 [==============================] - 1s 68us/sample - loss: 0.3301 - accuracy: 0.8952 - val_loss: 0.3306 - val_accuracy: 0.8870\n"
     ]
    }
   ],
   "source": [
    "history = model.fit(train_v,train_t,\n",
    "                    epochs=200, \n",
    "                    validation_data=(valid_v, valid_t),\n",
    "                    verbose=1,\n",
    "                    callbacks=[tb_cb, cp_callback]\n",
    "                   )"
   ]
  },
  {
   "cell_type": "code",
   "execution_count": 23,
   "metadata": {
    "scrolled": true
   },
   "outputs": [
    {
     "name": "stdout",
     "output_type": "stream",
     "text": [
      "checkpoint                       cp-0105.ckpt.data-00000-of-00001\r\n",
      "cp-0005.ckpt.data-00000-of-00001 cp-0105.ckpt.index\r\n",
      "cp-0005.ckpt.index               cp-0110.ckpt.data-00000-of-00001\r\n",
      "cp-0010.ckpt.data-00000-of-00001 cp-0110.ckpt.index\r\n",
      "cp-0010.ckpt.index               cp-0115.ckpt.data-00000-of-00001\r\n",
      "cp-0015.ckpt.data-00000-of-00001 cp-0115.ckpt.index\r\n",
      "cp-0015.ckpt.index               cp-0120.ckpt.data-00000-of-00001\r\n",
      "cp-0020.ckpt.data-00000-of-00001 cp-0120.ckpt.index\r\n",
      "cp-0020.ckpt.index               cp-0125.ckpt.data-00000-of-00001\r\n",
      "cp-0025.ckpt.data-00000-of-00001 cp-0125.ckpt.index\r\n",
      "cp-0025.ckpt.index               cp-0130.ckpt.data-00000-of-00001\r\n",
      "cp-0030.ckpt.data-00000-of-00001 cp-0130.ckpt.index\r\n",
      "cp-0030.ckpt.index               cp-0135.ckpt.data-00000-of-00001\r\n",
      "cp-0035.ckpt.data-00000-of-00001 cp-0135.ckpt.index\r\n",
      "cp-0035.ckpt.index               cp-0140.ckpt.data-00000-of-00001\r\n",
      "cp-0040.ckpt.data-00000-of-00001 cp-0140.ckpt.index\r\n",
      "cp-0040.ckpt.index               cp-0145.ckpt.data-00000-of-00001\r\n",
      "cp-0045.ckpt.data-00000-of-00001 cp-0145.ckpt.index\r\n",
      "cp-0045.ckpt.index               cp-0150.ckpt.data-00000-of-00001\r\n",
      "cp-0050.ckpt.data-00000-of-00001 cp-0150.ckpt.index\r\n",
      "cp-0050.ckpt.index               cp-0155.ckpt.data-00000-of-00001\r\n",
      "cp-0055.ckpt.data-00000-of-00001 cp-0155.ckpt.index\r\n",
      "cp-0055.ckpt.index               cp-0160.ckpt.data-00000-of-00001\r\n",
      "cp-0060.ckpt.data-00000-of-00001 cp-0160.ckpt.index\r\n",
      "cp-0060.ckpt.index               cp-0165.ckpt.data-00000-of-00001\r\n",
      "cp-0065.ckpt.data-00000-of-00001 cp-0165.ckpt.index\r\n",
      "cp-0065.ckpt.index               cp-0170.ckpt.data-00000-of-00001\r\n",
      "cp-0070.ckpt.data-00000-of-00001 cp-0170.ckpt.index\r\n",
      "cp-0070.ckpt.index               cp-0175.ckpt.data-00000-of-00001\r\n",
      "cp-0075.ckpt.data-00000-of-00001 cp-0175.ckpt.index\r\n",
      "cp-0075.ckpt.index               cp-0180.ckpt.data-00000-of-00001\r\n",
      "cp-0080.ckpt.data-00000-of-00001 cp-0180.ckpt.index\r\n",
      "cp-0080.ckpt.index               cp-0185.ckpt.data-00000-of-00001\r\n",
      "cp-0085.ckpt.data-00000-of-00001 cp-0185.ckpt.index\r\n",
      "cp-0085.ckpt.index               cp-0190.ckpt.data-00000-of-00001\r\n",
      "cp-0090.ckpt.data-00000-of-00001 cp-0190.ckpt.index\r\n",
      "cp-0090.ckpt.index               cp-0195.ckpt.data-00000-of-00001\r\n",
      "cp-0095.ckpt.data-00000-of-00001 cp-0195.ckpt.index\r\n",
      "cp-0095.ckpt.index               cp-0200.ckpt.data-00000-of-00001\r\n",
      "cp-0100.ckpt.data-00000-of-00001 cp-0200.ckpt.index\r\n",
      "cp-0100.ckpt.index\r\n"
     ]
    }
   ],
   "source": [
    "! ls {checkpoint_dir}"
   ]
  },
  {
   "cell_type": "code",
   "execution_count": 25,
   "metadata": {},
   "outputs": [
    {
     "data": {
      "text/plain": [
       "'./model/checkpoint/cp-0200.ckpt'"
      ]
     },
     "execution_count": 25,
     "metadata": {},
     "output_type": "execute_result"
    }
   ],
   "source": [
    "latest = tf.train.latest_checkpoint(checkpoint_dir)\n",
    "latest"
   ]
  },
  {
   "cell_type": "code",
   "execution_count": 26,
   "metadata": {},
   "outputs": [
    {
     "name": "stdout",
     "output_type": "stream",
     "text": [
      "1336/1336 - 0s - loss: 0.3088 - accuracy: 0.8982\n",
      "Restored model, accuracy: 89.82%\n"
     ]
    }
   ],
   "source": [
    "model = NN(4)\n",
    "model.load_weights(latest)\n",
    "model.compile(optimizer=tf.keras.optimizers.SGD(learning_rate=0.01),\n",
    "              loss=loss,\n",
    "              metrics=['accuracy']\n",
    "             )\n",
    "\n",
    "loss, acc = model.evaluate(test_v,  test_t, verbose=2)\n",
    "print(\"Restored model, accuracy: {:5.2f}%\".format(100*acc))"
   ]
  },
  {
   "cell_type": "markdown",
   "metadata": {},
   "source": [
    "# 77"
   ]
  },
  {
   "cell_type": "code",
   "execution_count": 45,
   "metadata": {},
   "outputs": [],
   "source": [
    "from time import time\n",
    "from contextlib import contextmanager"
   ]
  },
  {
   "cell_type": "code",
   "execution_count": 46,
   "metadata": {},
   "outputs": [],
   "source": [
    "@contextmanager\n",
    "def timer(description):\n",
    "    start = time()\n",
    "    yield\n",
    "    print(description, ': {:.3f} 秒'.format(time()-start))"
   ]
  },
  {
   "cell_type": "code",
   "execution_count": 47,
   "metadata": {},
   "outputs": [],
   "source": [
    "B = [1, 2, 4, 8, 16, 32, 64, 128, 256, 512, 1024]"
   ]
  },
  {
   "cell_type": "code",
   "execution_count": 48,
   "metadata": {},
   "outputs": [],
   "source": [
    "epochs = 1"
   ]
  },
  {
   "cell_type": "code",
   "execution_count": 49,
   "metadata": {},
   "outputs": [
    {
     "name": "stdout",
     "output_type": "stream",
     "text": [
      "Train on 10684 samples, validate on 1336 samples\n",
      "10684/10684 [==============================] - 18s 2ms/sample - loss: 0.6868 - accuracy: 0.7781 - val_loss: 0.5144 - val_accuracy: 0.8196\n",
      "バッチサイズ 1 : 18.068 秒\n",
      "Train on 10684 samples, validate on 1336 samples\n",
      "10684/10684 [==============================] - 9s 819us/sample - loss: 0.8007 - accuracy: 0.7633 - val_loss: 0.6210 - val_accuracy: 0.7829\n",
      "バッチサイズ 2 : 8.849 秒\n",
      "Train on 10684 samples, validate on 1336 samples\n",
      "10684/10684 [==============================] - 5s 432us/sample - loss: 0.9203 - accuracy: 0.7541 - val_loss: 0.7387 - val_accuracy: 0.7732\n",
      "バッチサイズ 4 : 4.705 秒\n",
      "Train on 10684 samples, validate on 1336 samples\n",
      "10684/10684 [==============================] - 3s 279us/sample - loss: 1.0316 - accuracy: 0.7254 - val_loss: 0.8646 - val_accuracy: 0.7642\n",
      "バッチサイズ 8 : 3.078 秒\n",
      "Train on 10684 samples, validate on 1336 samples\n",
      "10684/10684 [==============================] - 1s 140us/sample - loss: 1.1583 - accuracy: 0.6844 - val_loss: 0.9998 - val_accuracy: 0.7650\n",
      "バッチサイズ 16 : 1.608 秒\n",
      "Train on 10684 samples, validate on 1336 samples\n",
      "10684/10684 [==============================] - 1s 125us/sample - loss: 1.2616 - accuracy: 0.5450 - val_loss: 1.1515 - val_accuracy: 0.7171\n",
      "バッチサイズ 32 : 1.438 秒\n",
      "Train on 10684 samples, validate on 1336 samples\n",
      "10684/10684 [==============================] - 1s 67us/sample - loss: 1.2754 - accuracy: 0.5343 - val_loss: 1.2092 - val_accuracy: 0.6572\n",
      "バッチサイズ 64 : 0.825 秒\n",
      "Train on 10684 samples, validate on 1336 samples\n",
      "10684/10684 [==============================] - 1s 69us/sample - loss: 1.3644 - accuracy: 0.3706 - val_loss: 1.3225 - val_accuracy: 0.4401\n",
      "バッチサイズ 128 : 0.913 秒\n",
      "Train on 10684 samples, validate on 1336 samples\n",
      "10684/10684 [==============================] - 0s 44us/sample - loss: 1.3524 - accuracy: 0.4140 - val_loss: 1.3308 - val_accuracy: 0.5247\n",
      "バッチサイズ 256 : 0.585 秒\n",
      "Train on 10684 samples, validate on 1336 samples\n",
      "10684/10684 [==============================] - 0s 36us/sample - loss: 1.3310 - accuracy: 0.4584 - val_loss: 1.3201 - val_accuracy: 0.4948\n",
      "バッチサイズ 512 : 0.497 秒\n",
      "Train on 10684 samples, validate on 1336 samples\n",
      "10684/10684 [==============================] - 2s 148us/sample - loss: 1.4161 - accuracy: 0.1513 - val_loss: 1.4125 - val_accuracy: 0.1722\n",
      "バッチサイズ 1024 : 1.684 秒\n"
     ]
    }
   ],
   "source": [
    "for b in B:\n",
    "    model = NN(4)\n",
    "    model.compile(optimizer=tf.keras.optimizers.SGD(learning_rate=0.01),\n",
    "              loss=loss,\n",
    "              metrics=['accuracy']\n",
    "             )\n",
    "    with timer(f'バッチサイズ {b}'):\n",
    "        history = model.fit(train_v,train_t,\n",
    "                    epochs=epochs, \n",
    "                    validation_data=(valid_v, valid_t),\n",
    "                    verbose=1,\n",
    "                    batch_size=b\n",
    "                   )"
   ]
  },
  {
   "cell_type": "markdown",
   "metadata": {},
   "source": [
    "# 78\n",
    "\n",
    "手元のPCはGUPないのでパス\n",
    "気が向いたらGCPでやるかも"
   ]
  },
  {
   "cell_type": "markdown",
   "metadata": {},
   "source": [
    "# 79"
   ]
  },
  {
   "cell_type": "code",
   "execution_count": null,
   "metadata": {},
   "outputs": [],
   "source": []
  }
 ],
 "metadata": {
  "kernelspec": {
   "display_name": "Python 3",
   "language": "python",
   "name": "python3"
  },
  "language_info": {
   "codemirror_mode": {
    "name": "ipython",
    "version": 3
   },
   "file_extension": ".py",
   "mimetype": "text/x-python",
   "name": "python",
   "nbconvert_exporter": "python",
   "pygments_lexer": "ipython3",
   "version": "3.7.7"
  }
 },
 "nbformat": 4,
 "nbformat_minor": 4
}
