{
 "cells": [
  {
   "cell_type": "markdown",
   "metadata": {},
   "source": [
    "[参考](https://qiita.com/nymwa/items/9c8484ff511123e03ba8)"
   ]
  },
  {
   "cell_type": "markdown",
   "metadata": {},
   "source": [
    "# 70"
   ]
  },
  {
   "cell_type": "code",
   "execution_count": 2,
   "metadata": {},
   "outputs": [],
   "source": [
    "import re\n",
    "import spacy\n",
    "import numpy as np\n",
    "from gensim.models import KeyedVectors"
   ]
  },
  {
   "cell_type": "code",
   "execution_count": 3,
   "metadata": {},
   "outputs": [],
   "source": [
    "nlp = spacy.load('en')\n",
    "categories = ['b', 't', 'e', 'm']\n",
    "category_names = ['business', 'science and technology', 'entertainment', 'health']"
   ]
  },
  {
   "cell_type": "code",
   "execution_count": 4,
   "metadata": {},
   "outputs": [],
   "source": [
    "def tokenize(x):\n",
    "    x = re.sub(r'\\s+', ' ', x)\n",
    "    x = nlp.make_doc(x)\n",
    "    x = [d.text for d in x]\n",
    "    return x\n",
    "\n",
    "def read_feature_dataset(filename):\n",
    "    with open(filename) as f:\n",
    "        dataset = f.read().splitlines()\n",
    "    dataset = [line.split('\\t') for line in dataset]\n",
    "    t_index = [categories.index(line[0]) for line in dataset]\n",
    "    dataset_t = []\n",
    "    for index in t_index:\n",
    "        label = [0]*4\n",
    "        label[index] = 1\n",
    "        dataset_t.append(label)\n",
    "    dataset_x = [tokenize(line[1]) for line in dataset]\n",
    "    return dataset_x, dataset_t"
   ]
  },
  {
   "cell_type": "code",
   "execution_count": 5,
   "metadata": {},
   "outputs": [],
   "source": [
    "train_x, train_t = read_feature_dataset('train.txt')\n",
    "valid_x, valid_t = read_feature_dataset('valid.txt')\n",
    "test_x, test_t = read_feature_dataset('test.txt')"
   ]
  },
  {
   "cell_type": "code",
   "execution_count": 6,
   "metadata": {},
   "outputs": [],
   "source": [
    "model = KeyedVectors.load('GoogleNews-vectors-negative300.kv', mmap='r')"
   ]
  },
  {
   "cell_type": "code",
   "execution_count": 7,
   "metadata": {},
   "outputs": [
    {
     "data": {
      "text/plain": [
       "<gensim.models.keyedvectors.Word2VecKeyedVectors at 0x1a26e37f10>"
      ]
     },
     "execution_count": 7,
     "metadata": {},
     "output_type": "execute_result"
    }
   ],
   "source": [
    "model"
   ]
  },
  {
   "cell_type": "markdown",
   "metadata": {},
   "source": [
    "### tenosrflowでいきます"
   ]
  },
  {
   "cell_type": "code",
   "execution_count": 8,
   "metadata": {},
   "outputs": [],
   "source": [
    "import tensorflow as tf"
   ]
  },
  {
   "cell_type": "code",
   "execution_count": 9,
   "metadata": {},
   "outputs": [],
   "source": [
    "def sent_to_vector(sent):\n",
    "    lst = [tf.constant(model[token]) for token in sent if token in model]\n",
    "    return sum(lst) / len(lst)\n",
    "\n",
    "def dataset_to_vector(dataset):\n",
    "    return tf.stack([sent_to_vector(x) for x in dataset])"
   ]
  },
  {
   "cell_type": "code",
   "execution_count": 10,
   "metadata": {
    "scrolled": false
   },
   "outputs": [],
   "source": [
    "train_v = dataset_to_vector(train_x)\n",
    "valid_v = dataset_to_vector(valid_x)\n",
    "test_v = dataset_to_vector(test_x)"
   ]
  },
  {
   "cell_type": "code",
   "execution_count": 11,
   "metadata": {},
   "outputs": [],
   "source": [
    "train_t = tf.constant(train_t)\n",
    "valid_t = tf.constant(valid_t)\n",
    "test_t = tf.constant(test_t)"
   ]
  },
  {
   "cell_type": "code",
   "execution_count": 12,
   "metadata": {},
   "outputs": [
    {
     "data": {
      "text/plain": [
       "<tf.Tensor: shape=(4,), dtype=int32, numpy=array([0, 1, 0, 0], dtype=int32)>"
      ]
     },
     "execution_count": 12,
     "metadata": {},
     "output_type": "execute_result"
    }
   ],
   "source": [
    "train_t[0]"
   ]
  },
  {
   "cell_type": "code",
   "execution_count": 13,
   "metadata": {},
   "outputs": [],
   "source": [
    "import pickle"
   ]
  },
  {
   "cell_type": "code",
   "execution_count": 14,
   "metadata": {},
   "outputs": [],
   "source": [
    "with open('data/train.feature.pickle', 'wb') as f:\n",
    "    pickle.dump(train_v, f)\n",
    "with open('data/train.label.pickle', 'wb') as f:\n",
    "    pickle.dump(train_t, f)\n",
    "\n",
    "with open('data/valid.feature.pickle', 'wb') as f:\n",
    "    pickle.dump(valid_v, f)\n",
    "with open('data/valid.label.pickle', 'wb') as f:\n",
    "    pickle.dump(valid_t, f)\n",
    "\n",
    "with open('data/test.feature.pickle', 'wb') as f:\n",
    "    pickle.dump(test_v, f)\n",
    "with open('data/test.label.pickle', 'wb') as f:\n",
    "    pickle.dump(test_t, f)"
   ]
  },
  {
   "cell_type": "markdown",
   "metadata": {},
   "source": [
    "# 71"
   ]
  },
  {
   "cell_type": "code",
   "execution_count": 15,
   "metadata": {},
   "outputs": [
    {
     "data": {
      "text/plain": [
       "TensorShape([10684, 300])"
      ]
     },
     "execution_count": 15,
     "metadata": {},
     "output_type": "execute_result"
    }
   ],
   "source": [
    "train_v.shape"
   ]
  },
  {
   "cell_type": "code",
   "execution_count": 16,
   "metadata": {},
   "outputs": [],
   "source": [
    "class NN(tf.keras.Model):\n",
    "    def __init__(self, out_dim, name=\"NN\"):\n",
    "        super().__init__(name=name)\n",
    "        self.out_dim = out_dim\n",
    "        self.l1 = tf.keras.layers.Dense(\n",
    "            self.out_dim, \n",
    "            use_bias=False, \n",
    "        )\n",
    "\n",
    "    def call(self, x):\n",
    "        y = self.l1(x)\n",
    "        return y"
   ]
  },
  {
   "cell_type": "code",
   "execution_count": 17,
   "metadata": {},
   "outputs": [],
   "source": [
    "model = NN(4)"
   ]
  },
  {
   "cell_type": "code",
   "execution_count": 18,
   "metadata": {},
   "outputs": [
    {
     "name": "stdout",
     "output_type": "stream",
     "text": [
      "tf.Tensor(\n",
      "[[0.24205768 0.25833377 0.22752768 0.27208087]\n",
      " [0.24059568 0.25315613 0.23430249 0.27194566]\n",
      " [0.25143775 0.23536032 0.2440684  0.2691336 ]\n",
      " [0.20186484 0.27978697 0.2643789  0.25396925]], shape=(4, 4), dtype=float32)\n"
     ]
    }
   ],
   "source": [
    "x = model(train_v[:4])\n",
    "y = tf.nn.softmax(x, axis=1)\n",
    "print(y)"
   ]
  },
  {
   "cell_type": "markdown",
   "metadata": {},
   "source": [
    "# 72"
   ]
  },
  {
   "cell_type": "code",
   "execution_count": 26,
   "metadata": {},
   "outputs": [],
   "source": [
    "class NN(tf.keras.Model):\n",
    "    def __init__(self, out_dim, name=\"NN\"):\n",
    "        super().__init__(name=name)\n",
    "        self.out_dim = out_dim\n",
    "        self.l1 = tf.keras.layers.Dense(\n",
    "            self.out_dim, \n",
    "            use_bias=False, \n",
    "        )\n",
    "\n",
    "    def call(self, x):\n",
    "        y = tf.nn.softmax(self.l1(x))\n",
    "        return y"
   ]
  },
  {
   "cell_type": "code",
   "execution_count": 20,
   "metadata": {
    "scrolled": true
   },
   "outputs": [],
   "source": [
    "model = NN(4)"
   ]
  },
  {
   "cell_type": "code",
   "execution_count": 21,
   "metadata": {},
   "outputs": [],
   "source": [
    "def loss(t, y):\n",
    "    return tf.keras.backend.mean(tf.keras.losses.categorical_crossentropy(t,y))"
   ]
  },
  {
   "cell_type": "code",
   "execution_count": 22,
   "metadata": {},
   "outputs": [
    {
     "data": {
      "text/plain": [
       "<tf.Tensor: shape=(), dtype=float32, numpy=1.3729831>"
      ]
     },
     "execution_count": 22,
     "metadata": {},
     "output_type": "execute_result"
    }
   ],
   "source": [
    "loss(train_t, model(train_v))"
   ]
  },
  {
   "cell_type": "code",
   "execution_count": 23,
   "metadata": {},
   "outputs": [
    {
     "data": {
      "text/plain": [
       "[<tf.Variable 'NN/dense_1/kernel:0' shape=(300, 4) dtype=float32, numpy=\n",
       " array([[-0.08018231, -0.07836997,  0.06459045, -0.11569107],\n",
       "        [-0.11248997, -0.04340583, -0.02464596, -0.0062388 ],\n",
       "        [ 0.12081949, -0.04805713, -0.06487939, -0.10366051],\n",
       "        ...,\n",
       "        [ 0.03656878,  0.04787686, -0.12316239,  0.03773969],\n",
       "        [ 0.006191  ,  0.08752255,  0.10096598,  0.091317  ],\n",
       "        [ 0.02447858,  0.09901376,  0.062989  ,  0.10405728]],\n",
       "       dtype=float32)>]"
      ]
     },
     "execution_count": 23,
     "metadata": {},
     "output_type": "execute_result"
    }
   ],
   "source": [
    "model.weights"
   ]
  },
  {
   "cell_type": "code",
   "execution_count": 24,
   "metadata": {},
   "outputs": [],
   "source": [
    "with tf.GradientTape() as t:\n",
    "    current_loss = loss(train_t, model(train_v))\n",
    "dW = t.gradient(current_loss, [model.weights])"
   ]
  },
  {
   "cell_type": "code",
   "execution_count": 25,
   "metadata": {},
   "outputs": [
    {
     "name": "stdout",
     "output_type": "stream",
     "text": [
      "損失 1.3729831\n",
      "勾配 [[<tf.Tensor: shape=(300, 4), dtype=float32, numpy=\n",
      "array([[ 2.44706264e-03,  2.07930035e-03, -1.00221448e-02,\n",
      "         5.49578201e-03],\n",
      "       [-3.79409967e-03,  3.17133032e-03, -4.27834038e-03,\n",
      "         4.90110973e-03],\n",
      "       [ 3.46939452e-03, -6.29567076e-03,  1.07000135e-02,\n",
      "        -7.87373632e-03],\n",
      "       ...,\n",
      "       [-9.97387245e-03, -4.36272494e-05,  1.20170508e-02,\n",
      "        -1.99955283e-03],\n",
      "       [-1.29404925e-02,  8.57167877e-03, -2.50385562e-03,\n",
      "         6.87266979e-03],\n",
      "       [ 1.35236718e-02, -2.14871787e-03, -5.50331734e-03,\n",
      "        -5.87163633e-03]], dtype=float32)>]]\n"
     ]
    }
   ],
   "source": [
    "print('損失', loss(train_t, model(train_v)).numpy())\n",
    "print('勾配', dW)"
   ]
  },
  {
   "cell_type": "markdown",
   "metadata": {},
   "source": [
    "# 73"
   ]
  },
  {
   "cell_type": "code",
   "execution_count": 27,
   "metadata": {},
   "outputs": [],
   "source": [
    "model.compile(optimizer=tf.keras.optimizers.SGD(learning_rate=0.1),\n",
    "              loss=loss,\n",
    "              metrics=['accuracy']\n",
    "             )"
   ]
  },
  {
   "cell_type": "code",
   "execution_count": 28,
   "metadata": {
    "scrolled": true
   },
   "outputs": [
    {
     "name": "stdout",
     "output_type": "stream",
     "text": [
      "Train on 10684 samples, validate on 1336 samples\n",
      "Epoch 1/20\n",
      "10684/10684 - 1s - loss: 0.8794 - accuracy: 0.7588 - val_loss: 0.6972 - val_accuracy: 0.7762\n",
      "Epoch 2/20\n",
      "10684/10684 - 1s - loss: 0.6406 - accuracy: 0.7822 - val_loss: 0.5822 - val_accuracy: 0.7897\n",
      "Epoch 3/20\n",
      "10684/10684 - 1s - loss: 0.5588 - accuracy: 0.8008 - val_loss: 0.5211 - val_accuracy: 0.8204\n",
      "Epoch 4/20\n",
      "10684/10684 - 1s - loss: 0.5092 - accuracy: 0.8238 - val_loss: 0.4807 - val_accuracy: 0.8308\n",
      "Epoch 5/20\n",
      "10684/10684 - 1s - loss: 0.4747 - accuracy: 0.8390 - val_loss: 0.4515 - val_accuracy: 0.8458\n",
      "Epoch 6/20\n",
      "10684/10684 - 1s - loss: 0.4490 - accuracy: 0.8519 - val_loss: 0.4299 - val_accuracy: 0.8496\n",
      "Epoch 7/20\n",
      "10684/10684 - 1s - loss: 0.4292 - accuracy: 0.8579 - val_loss: 0.4131 - val_accuracy: 0.8608\n",
      "Epoch 8/20\n",
      "10684/10684 - 1s - loss: 0.4133 - accuracy: 0.8661 - val_loss: 0.3996 - val_accuracy: 0.8645\n",
      "Epoch 9/20\n",
      "10684/10684 - 1s - loss: 0.4003 - accuracy: 0.8698 - val_loss: 0.3885 - val_accuracy: 0.8735\n",
      "Epoch 10/20\n",
      "10684/10684 - 1s - loss: 0.3894 - accuracy: 0.8731 - val_loss: 0.3790 - val_accuracy: 0.8765\n",
      "Epoch 11/20\n",
      "10684/10684 - 1s - loss: 0.3801 - accuracy: 0.8771 - val_loss: 0.3710 - val_accuracy: 0.8780\n",
      "Epoch 12/20\n",
      "10684/10684 - 1s - loss: 0.3721 - accuracy: 0.8815 - val_loss: 0.3642 - val_accuracy: 0.8795\n",
      "Epoch 13/20\n",
      "10684/10684 - 1s - loss: 0.3650 - accuracy: 0.8825 - val_loss: 0.3581 - val_accuracy: 0.8795\n",
      "Epoch 14/20\n",
      "10684/10684 - 1s - loss: 0.3589 - accuracy: 0.8844 - val_loss: 0.3528 - val_accuracy: 0.8810\n",
      "Epoch 15/20\n",
      "10684/10684 - 1s - loss: 0.3534 - accuracy: 0.8862 - val_loss: 0.3483 - val_accuracy: 0.8832\n",
      "Epoch 16/20\n",
      "10684/10684 - 1s - loss: 0.3484 - accuracy: 0.8874 - val_loss: 0.3441 - val_accuracy: 0.8847\n",
      "Epoch 17/20\n",
      "10684/10684 - 1s - loss: 0.3439 - accuracy: 0.8889 - val_loss: 0.3405 - val_accuracy: 0.8855\n",
      "Epoch 18/20\n",
      "10684/10684 - 1s - loss: 0.3398 - accuracy: 0.8907 - val_loss: 0.3370 - val_accuracy: 0.8855\n",
      "Epoch 19/20\n",
      "10684/10684 - 1s - loss: 0.3361 - accuracy: 0.8913 - val_loss: 0.3338 - val_accuracy: 0.8855\n",
      "Epoch 20/20\n",
      "10684/10684 - 1s - loss: 0.3326 - accuracy: 0.8929 - val_loss: 0.3312 - val_accuracy: 0.8855\n"
     ]
    }
   ],
   "source": [
    "history = model.fit(train_v,train_t,\n",
    "                    epochs=20, \n",
    "                    validation_data=(valid_v, valid_t),\n",
    "                    verbose=2\n",
    "                   )"
   ]
  },
  {
   "cell_type": "code",
   "execution_count": 29,
   "metadata": {},
   "outputs": [],
   "source": [
    "def acc(t,y):\n",
    "    return tf.keras.backend.mean(tf.keras.metrics.categorical_accuracy(t,y))"
   ]
  },
  {
   "cell_type": "code",
   "execution_count": 30,
   "metadata": {},
   "outputs": [
    {
     "name": "stdout",
     "output_type": "stream",
     "text": [
      "学習データでの正解率 : 0.8934856\n",
      "評価データでの正解率 : 0.88547903\n"
     ]
    }
   ],
   "source": [
    "print('学習データでの正解率 :', acc(train_t, model(train_v)).numpy())\n",
    "print('評価データでの正解率 :', acc(valid_t, model(valid_v)).numpy())"
   ]
  },
  {
   "cell_type": "markdown",
   "metadata": {},
   "source": [
    "# 75"
   ]
  },
  {
   "cell_type": "code",
   "execution_count": 35,
   "metadata": {},
   "outputs": [],
   "source": [
    "model = NN(4)\n",
    "model.compile(optimizer=tf.keras.optimizers.SGD(learning_rate=0.01),\n",
    "              loss=loss,\n",
    "              metrics=['accuracy']\n",
    "             )"
   ]
  },
  {
   "cell_type": "code",
   "execution_count": 36,
   "metadata": {},
   "outputs": [
    {
     "name": "stdout",
     "output_type": "stream",
     "text": [
      "学習データでの正解率 : 0.29623735\n",
      "評価データでの正解率 : 0.28368264\n"
     ]
    }
   ],
   "source": [
    "print('学習データでの正解率 :', acc(train_t, model(train_v)).numpy())\n",
    "print('評価データでの正解率 :', acc(valid_t, model(valid_v)).numpy())"
   ]
  },
  {
   "cell_type": "code",
   "execution_count": 37,
   "metadata": {},
   "outputs": [
    {
     "name": "stdout",
     "output_type": "stream",
     "text": [
      "Model: \"NN\"\n",
      "_________________________________________________________________\n",
      "Layer (type)                 Output Shape              Param #   \n",
      "=================================================================\n",
      "dense_3 (Dense)              multiple                  1200      \n",
      "=================================================================\n",
      "Total params: 1,200\n",
      "Trainable params: 1,200\n",
      "Non-trainable params: 0\n",
      "_________________________________________________________________\n"
     ]
    }
   ],
   "source": [
    "model.summary()"
   ]
  },
  {
   "cell_type": "code",
   "execution_count": 38,
   "metadata": {},
   "outputs": [
    {
     "name": "stdout",
     "output_type": "stream",
     "text": [
      "Train on 10684 samples, validate on 1336 samples\n",
      "Epoch 1/200\n",
      "10684/10684 - 1s - loss: 1.2375 - accuracy: 0.6425 - val_loss: 1.1280 - val_accuracy: 0.7418\n",
      "Epoch 2/200\n",
      "10684/10684 - 1s - loss: 1.0557 - accuracy: 0.7620 - val_loss: 0.9989 - val_accuracy: 0.7650\n",
      "Epoch 3/200\n",
      "10684/10684 - 1s - loss: 0.9549 - accuracy: 0.7714 - val_loss: 0.9195 - val_accuracy: 0.7650\n",
      "Epoch 4/200\n",
      "10684/10684 - 1s - loss: 0.8895 - accuracy: 0.7742 - val_loss: 0.8643 - val_accuracy: 0.7680\n",
      "Epoch 5/200\n",
      "10684/10684 - 1s - loss: 0.8425 - accuracy: 0.7767 - val_loss: 0.8227 - val_accuracy: 0.7695\n",
      "Epoch 6/200\n",
      "10684/10684 - 1s - loss: 0.8061 - accuracy: 0.7773 - val_loss: 0.7895 - val_accuracy: 0.7717\n",
      "Epoch 7/200\n",
      "10684/10684 - 1s - loss: 0.7765 - accuracy: 0.7777 - val_loss: 0.7618 - val_accuracy: 0.7717\n",
      "Epoch 8/200\n",
      "10684/10684 - 1s - loss: 0.7517 - accuracy: 0.7780 - val_loss: 0.7383 - val_accuracy: 0.7732\n",
      "Epoch 9/200\n",
      "10684/10684 - 1s - loss: 0.7303 - accuracy: 0.7781 - val_loss: 0.7177 - val_accuracy: 0.7747\n",
      "Epoch 10/200\n",
      "10684/10684 - 1s - loss: 0.7116 - accuracy: 0.7786 - val_loss: 0.6995 - val_accuracy: 0.7747\n",
      "Epoch 11/200\n",
      "10684/10684 - 1s - loss: 0.6949 - accuracy: 0.7792 - val_loss: 0.6832 - val_accuracy: 0.7754\n",
      "Epoch 12/200\n",
      "10684/10684 - 1s - loss: 0.6799 - accuracy: 0.7795 - val_loss: 0.6685 - val_accuracy: 0.7762\n",
      "Epoch 13/200\n",
      "10684/10684 - 1s - loss: 0.6662 - accuracy: 0.7807 - val_loss: 0.6550 - val_accuracy: 0.7762\n",
      "Epoch 14/200\n",
      "10684/10684 - 1s - loss: 0.6537 - accuracy: 0.7808 - val_loss: 0.6427 - val_accuracy: 0.7762\n",
      "Epoch 15/200\n",
      "10684/10684 - 1s - loss: 0.6422 - accuracy: 0.7813 - val_loss: 0.6313 - val_accuracy: 0.7762\n",
      "Epoch 16/200\n",
      "10684/10684 - 1s - loss: 0.6315 - accuracy: 0.7819 - val_loss: 0.6208 - val_accuracy: 0.7769\n",
      "Epoch 17/200\n",
      "10684/10684 - 1s - loss: 0.6215 - accuracy: 0.7827 - val_loss: 0.6109 - val_accuracy: 0.7769\n",
      "Epoch 18/200\n",
      "10684/10684 - 1s - loss: 0.6122 - accuracy: 0.7847 - val_loss: 0.6017 - val_accuracy: 0.7814\n",
      "Epoch 19/200\n",
      "10684/10684 - 1s - loss: 0.6035 - accuracy: 0.7858 - val_loss: 0.5930 - val_accuracy: 0.7844\n",
      "Epoch 20/200\n",
      "10684/10684 - 1s - loss: 0.5953 - accuracy: 0.7873 - val_loss: 0.5849 - val_accuracy: 0.7897\n",
      "Epoch 21/200\n",
      "10684/10684 - 1s - loss: 0.5875 - accuracy: 0.7892 - val_loss: 0.5772 - val_accuracy: 0.7934\n",
      "Epoch 22/200\n",
      "10684/10684 - 1s - loss: 0.5802 - accuracy: 0.7912 - val_loss: 0.5699 - val_accuracy: 0.7942\n",
      "Epoch 23/200\n",
      "10684/10684 - 1s - loss: 0.5732 - accuracy: 0.7935 - val_loss: 0.5630 - val_accuracy: 0.7964\n",
      "Epoch 24/200\n",
      "10684/10684 - 1s - loss: 0.5666 - accuracy: 0.7962 - val_loss: 0.5565 - val_accuracy: 0.7987\n",
      "Epoch 25/200\n",
      "10684/10684 - 1s - loss: 0.5602 - accuracy: 0.7981 - val_loss: 0.5502 - val_accuracy: 0.8016\n",
      "Epoch 26/200\n",
      "10684/10684 - 1s - loss: 0.5542 - accuracy: 0.8007 - val_loss: 0.5442 - val_accuracy: 0.8046\n",
      "Epoch 27/200\n",
      "10684/10684 - 1s - loss: 0.5484 - accuracy: 0.8033 - val_loss: 0.5385 - val_accuracy: 0.8091\n",
      "Epoch 28/200\n",
      "10684/10684 - 1s - loss: 0.5429 - accuracy: 0.8054 - val_loss: 0.5331 - val_accuracy: 0.8106\n",
      "Epoch 29/200\n",
      "10684/10684 - 1s - loss: 0.5376 - accuracy: 0.8087 - val_loss: 0.5279 - val_accuracy: 0.8114\n",
      "Epoch 30/200\n",
      "10684/10684 - 1s - loss: 0.5326 - accuracy: 0.8107 - val_loss: 0.5229 - val_accuracy: 0.8144\n",
      "Epoch 31/200\n",
      "10684/10684 - 1s - loss: 0.5277 - accuracy: 0.8130 - val_loss: 0.5181 - val_accuracy: 0.8151\n",
      "Epoch 32/200\n",
      "10684/10684 - 1s - loss: 0.5230 - accuracy: 0.8160 - val_loss: 0.5134 - val_accuracy: 0.8174\n",
      "Epoch 33/200\n",
      "10684/10684 - 1s - loss: 0.5185 - accuracy: 0.8185 - val_loss: 0.5090 - val_accuracy: 0.8189\n",
      "Epoch 34/200\n",
      "10684/10684 - 1s - loss: 0.5141 - accuracy: 0.8205 - val_loss: 0.5047 - val_accuracy: 0.8211\n",
      "Epoch 35/200\n",
      "10684/10684 - 1s - loss: 0.5099 - accuracy: 0.8216 - val_loss: 0.5006 - val_accuracy: 0.8241\n",
      "Epoch 36/200\n",
      "10684/10684 - 1s - loss: 0.5059 - accuracy: 0.8244 - val_loss: 0.4967 - val_accuracy: 0.8234\n",
      "Epoch 37/200\n",
      "10684/10684 - 1s - loss: 0.5020 - accuracy: 0.8263 - val_loss: 0.4929 - val_accuracy: 0.8241\n",
      "Epoch 38/200\n",
      "10684/10684 - 1s - loss: 0.4982 - accuracy: 0.8276 - val_loss: 0.4892 - val_accuracy: 0.8256\n",
      "Epoch 39/200\n",
      "10684/10684 - 1s - loss: 0.4946 - accuracy: 0.8284 - val_loss: 0.4856 - val_accuracy: 0.8286\n",
      "Epoch 40/200\n",
      "10684/10684 - 1s - loss: 0.4911 - accuracy: 0.8304 - val_loss: 0.4822 - val_accuracy: 0.8286\n",
      "Epoch 41/200\n",
      "10684/10684 - 1s - loss: 0.4876 - accuracy: 0.8317 - val_loss: 0.4788 - val_accuracy: 0.8301\n",
      "Epoch 42/200\n",
      "10684/10684 - 1s - loss: 0.4843 - accuracy: 0.8336 - val_loss: 0.4756 - val_accuracy: 0.8316\n",
      "Epoch 43/200\n",
      "10684/10684 - 1s - loss: 0.4811 - accuracy: 0.8351 - val_loss: 0.4725 - val_accuracy: 0.8346\n",
      "Epoch 44/200\n",
      "10684/10684 - 1s - loss: 0.4780 - accuracy: 0.8365 - val_loss: 0.4694 - val_accuracy: 0.8346\n",
      "Epoch 45/200\n",
      "10684/10684 - 1s - loss: 0.4750 - accuracy: 0.8387 - val_loss: 0.4665 - val_accuracy: 0.8361\n",
      "Epoch 46/200\n",
      "10684/10684 - 1s - loss: 0.4721 - accuracy: 0.8403 - val_loss: 0.4637 - val_accuracy: 0.8398\n",
      "Epoch 47/200\n",
      "10684/10684 - 1s - loss: 0.4692 - accuracy: 0.8418 - val_loss: 0.4609 - val_accuracy: 0.8406\n",
      "Epoch 48/200\n",
      "10684/10684 - 1s - loss: 0.4664 - accuracy: 0.8437 - val_loss: 0.4582 - val_accuracy: 0.8421\n",
      "Epoch 49/200\n",
      "10684/10684 - 1s - loss: 0.4638 - accuracy: 0.8455 - val_loss: 0.4556 - val_accuracy: 0.8428\n",
      "Epoch 50/200\n",
      "10684/10684 - 1s - loss: 0.4611 - accuracy: 0.8464 - val_loss: 0.4531 - val_accuracy: 0.8451\n",
      "Epoch 51/200\n",
      "10684/10684 - 1s - loss: 0.4586 - accuracy: 0.8473 - val_loss: 0.4506 - val_accuracy: 0.8466\n",
      "Epoch 52/200\n",
      "10684/10684 - 2s - loss: 0.4561 - accuracy: 0.8483 - val_loss: 0.4482 - val_accuracy: 0.8473\n",
      "Epoch 53/200\n",
      "10684/10684 - 1s - loss: 0.4537 - accuracy: 0.8498 - val_loss: 0.4459 - val_accuracy: 0.8496\n",
      "Epoch 54/200\n",
      "10684/10684 - 1s - loss: 0.4514 - accuracy: 0.8511 - val_loss: 0.4437 - val_accuracy: 0.8496\n",
      "Epoch 55/200\n",
      "10684/10684 - 1s - loss: 0.4491 - accuracy: 0.8529 - val_loss: 0.4415 - val_accuracy: 0.8496\n",
      "Epoch 56/200\n",
      "10684/10684 - 1s - loss: 0.4468 - accuracy: 0.8533 - val_loss: 0.4393 - val_accuracy: 0.8503\n",
      "Epoch 57/200\n",
      "10684/10684 - 1s - loss: 0.4447 - accuracy: 0.8541 - val_loss: 0.4372 - val_accuracy: 0.8503\n",
      "Epoch 58/200\n",
      "10684/10684 - 1s - loss: 0.4426 - accuracy: 0.8546 - val_loss: 0.4352 - val_accuracy: 0.8510\n",
      "Epoch 59/200\n",
      "10684/10684 - 1s - loss: 0.4405 - accuracy: 0.8551 - val_loss: 0.4332 - val_accuracy: 0.8510\n",
      "Epoch 60/200\n",
      "10684/10684 - 1s - loss: 0.4385 - accuracy: 0.8562 - val_loss: 0.4312 - val_accuracy: 0.8518\n",
      "Epoch 61/200\n",
      "10684/10684 - 1s - loss: 0.4365 - accuracy: 0.8568 - val_loss: 0.4294 - val_accuracy: 0.8525\n",
      "Epoch 62/200\n",
      "10684/10684 - 1s - loss: 0.4346 - accuracy: 0.8572 - val_loss: 0.4275 - val_accuracy: 0.8540\n",
      "Epoch 63/200\n",
      "10684/10684 - 1s - loss: 0.4327 - accuracy: 0.8575 - val_loss: 0.4257 - val_accuracy: 0.8555\n",
      "Epoch 64/200\n",
      "10684/10684 - 1s - loss: 0.4309 - accuracy: 0.8579 - val_loss: 0.4240 - val_accuracy: 0.8555\n",
      "Epoch 65/200\n",
      "10684/10684 - 1s - loss: 0.4291 - accuracy: 0.8581 - val_loss: 0.4222 - val_accuracy: 0.8555\n",
      "Epoch 66/200\n",
      "10684/10684 - 1s - loss: 0.4273 - accuracy: 0.8589 - val_loss: 0.4206 - val_accuracy: 0.8570\n",
      "Epoch 67/200\n",
      "10684/10684 - 1s - loss: 0.4256 - accuracy: 0.8595 - val_loss: 0.4189 - val_accuracy: 0.8578\n",
      "Epoch 68/200\n",
      "10684/10684 - 1s - loss: 0.4239 - accuracy: 0.8611 - val_loss: 0.4173 - val_accuracy: 0.8578\n",
      "Epoch 69/200\n",
      "10684/10684 - 1s - loss: 0.4223 - accuracy: 0.8620 - val_loss: 0.4158 - val_accuracy: 0.8600\n",
      "Epoch 70/200\n",
      "10684/10684 - 1s - loss: 0.4206 - accuracy: 0.8622 - val_loss: 0.4142 - val_accuracy: 0.8615\n",
      "Epoch 71/200\n",
      "10684/10684 - 1s - loss: 0.4191 - accuracy: 0.8630 - val_loss: 0.4127 - val_accuracy: 0.8623\n",
      "Epoch 72/200\n",
      "10684/10684 - 1s - loss: 0.4175 - accuracy: 0.8636 - val_loss: 0.4113 - val_accuracy: 0.8630\n",
      "Epoch 73/200\n",
      "10684/10684 - 1s - loss: 0.4160 - accuracy: 0.8639 - val_loss: 0.4098 - val_accuracy: 0.8653\n",
      "Epoch 74/200\n",
      "10684/10684 - 1s - loss: 0.4145 - accuracy: 0.8643 - val_loss: 0.4084 - val_accuracy: 0.8668\n",
      "Epoch 75/200\n",
      "10684/10684 - 1s - loss: 0.4131 - accuracy: 0.8656 - val_loss: 0.4071 - val_accuracy: 0.8668\n",
      "Epoch 76/200\n",
      "10684/10684 - 1s - loss: 0.4117 - accuracy: 0.8664 - val_loss: 0.4057 - val_accuracy: 0.8668\n",
      "Epoch 77/200\n",
      "10684/10684 - 1s - loss: 0.4103 - accuracy: 0.8666 - val_loss: 0.4044 - val_accuracy: 0.8668\n"
     ]
    },
    {
     "name": "stdout",
     "output_type": "stream",
     "text": [
      "Epoch 78/200\n",
      "10684/10684 - 1s - loss: 0.4089 - accuracy: 0.8670 - val_loss: 0.4031 - val_accuracy: 0.8668\n",
      "Epoch 79/200\n",
      "10684/10684 - 1s - loss: 0.4075 - accuracy: 0.8677 - val_loss: 0.4018 - val_accuracy: 0.8668\n",
      "Epoch 80/200\n",
      "10684/10684 - 1s - loss: 0.4062 - accuracy: 0.8677 - val_loss: 0.4006 - val_accuracy: 0.8660\n",
      "Epoch 81/200\n",
      "10684/10684 - 1s - loss: 0.4049 - accuracy: 0.8682 - val_loss: 0.3994 - val_accuracy: 0.8660\n",
      "Epoch 82/200\n",
      "10684/10684 - 1s - loss: 0.4037 - accuracy: 0.8685 - val_loss: 0.3982 - val_accuracy: 0.8668\n",
      "Epoch 83/200\n",
      "10684/10684 - 1s - loss: 0.4024 - accuracy: 0.8691 - val_loss: 0.3970 - val_accuracy: 0.8668\n",
      "Epoch 84/200\n",
      "10684/10684 - 1s - loss: 0.4012 - accuracy: 0.8693 - val_loss: 0.3959 - val_accuracy: 0.8668\n",
      "Epoch 85/200\n",
      "10684/10684 - 1s - loss: 0.4000 - accuracy: 0.8696 - val_loss: 0.3947 - val_accuracy: 0.8668\n",
      "Epoch 86/200\n",
      "10684/10684 - 1s - loss: 0.3988 - accuracy: 0.8700 - val_loss: 0.3936 - val_accuracy: 0.8683\n",
      "Epoch 87/200\n",
      "10684/10684 - 1s - loss: 0.3977 - accuracy: 0.8704 - val_loss: 0.3925 - val_accuracy: 0.8698\n",
      "Epoch 88/200\n",
      "10684/10684 - 1s - loss: 0.3965 - accuracy: 0.8709 - val_loss: 0.3915 - val_accuracy: 0.8698\n",
      "Epoch 89/200\n",
      "10684/10684 - 1s - loss: 0.3954 - accuracy: 0.8713 - val_loss: 0.3904 - val_accuracy: 0.8713\n",
      "Epoch 90/200\n",
      "10684/10684 - 1s - loss: 0.3943 - accuracy: 0.8721 - val_loss: 0.3894 - val_accuracy: 0.8705\n",
      "Epoch 91/200\n",
      "10684/10684 - 1s - loss: 0.3932 - accuracy: 0.8722 - val_loss: 0.3884 - val_accuracy: 0.8720\n",
      "Epoch 92/200\n",
      "10684/10684 - 1s - loss: 0.3921 - accuracy: 0.8726 - val_loss: 0.3874 - val_accuracy: 0.8720\n",
      "Epoch 93/200\n",
      "10684/10684 - 1s - loss: 0.3911 - accuracy: 0.8727 - val_loss: 0.3864 - val_accuracy: 0.8720\n",
      "Epoch 94/200\n",
      "10684/10684 - 1s - loss: 0.3901 - accuracy: 0.8727 - val_loss: 0.3855 - val_accuracy: 0.8720\n",
      "Epoch 95/200\n",
      "10684/10684 - 1s - loss: 0.3891 - accuracy: 0.8729 - val_loss: 0.3845 - val_accuracy: 0.8728\n",
      "Epoch 96/200\n",
      "10684/10684 - 1s - loss: 0.3881 - accuracy: 0.8733 - val_loss: 0.3836 - val_accuracy: 0.8735\n",
      "Epoch 97/200\n",
      "10684/10684 - 1s - loss: 0.3871 - accuracy: 0.8736 - val_loss: 0.3827 - val_accuracy: 0.8743\n",
      "Epoch 98/200\n",
      "10684/10684 - 1s - loss: 0.3861 - accuracy: 0.8741 - val_loss: 0.3818 - val_accuracy: 0.8743\n",
      "Epoch 99/200\n",
      "10684/10684 - 1s - loss: 0.3852 - accuracy: 0.8743 - val_loss: 0.3809 - val_accuracy: 0.8743\n",
      "Epoch 100/200\n",
      "10684/10684 - 1s - loss: 0.3842 - accuracy: 0.8747 - val_loss: 0.3800 - val_accuracy: 0.8743\n",
      "Epoch 101/200\n",
      "10684/10684 - 1s - loss: 0.3833 - accuracy: 0.8750 - val_loss: 0.3792 - val_accuracy: 0.8750\n",
      "Epoch 102/200\n",
      "10684/10684 - 1s - loss: 0.3824 - accuracy: 0.8757 - val_loss: 0.3783 - val_accuracy: 0.8750\n",
      "Epoch 103/200\n",
      "10684/10684 - 1s - loss: 0.3815 - accuracy: 0.8758 - val_loss: 0.3775 - val_accuracy: 0.8757\n",
      "Epoch 104/200\n",
      "10684/10684 - 1s - loss: 0.3806 - accuracy: 0.8762 - val_loss: 0.3767 - val_accuracy: 0.8757\n",
      "Epoch 105/200\n",
      "10684/10684 - 1s - loss: 0.3798 - accuracy: 0.8765 - val_loss: 0.3759 - val_accuracy: 0.8757\n",
      "Epoch 106/200\n",
      "10684/10684 - 1s - loss: 0.3789 - accuracy: 0.8769 - val_loss: 0.3751 - val_accuracy: 0.8757\n",
      "Epoch 107/200\n",
      "10684/10684 - 1s - loss: 0.3781 - accuracy: 0.8776 - val_loss: 0.3743 - val_accuracy: 0.8757\n",
      "Epoch 108/200\n",
      "10684/10684 - 1s - loss: 0.3772 - accuracy: 0.8780 - val_loss: 0.3736 - val_accuracy: 0.8772\n",
      "Epoch 109/200\n",
      "10684/10684 - 1s - loss: 0.3764 - accuracy: 0.8782 - val_loss: 0.3728 - val_accuracy: 0.8780\n",
      "Epoch 110/200\n",
      "10684/10684 - 1s - loss: 0.3756 - accuracy: 0.8783 - val_loss: 0.3721 - val_accuracy: 0.8787\n",
      "Epoch 111/200\n",
      "10684/10684 - 1s - loss: 0.3748 - accuracy: 0.8792 - val_loss: 0.3714 - val_accuracy: 0.8787\n",
      "Epoch 112/200\n",
      "10684/10684 - 1s - loss: 0.3740 - accuracy: 0.8794 - val_loss: 0.3706 - val_accuracy: 0.8787\n",
      "Epoch 113/200\n",
      "10684/10684 - 1s - loss: 0.3733 - accuracy: 0.8803 - val_loss: 0.3699 - val_accuracy: 0.8802\n",
      "Epoch 114/200\n",
      "10684/10684 - 1s - loss: 0.3725 - accuracy: 0.8804 - val_loss: 0.3692 - val_accuracy: 0.8817\n",
      "Epoch 115/200\n",
      "10684/10684 - 1s - loss: 0.3717 - accuracy: 0.8806 - val_loss: 0.3685 - val_accuracy: 0.8817\n",
      "Epoch 116/200\n",
      "10684/10684 - 1s - loss: 0.3710 - accuracy: 0.8808 - val_loss: 0.3679 - val_accuracy: 0.8817\n",
      "Epoch 117/200\n",
      "10684/10684 - 1s - loss: 0.3703 - accuracy: 0.8814 - val_loss: 0.3672 - val_accuracy: 0.8825\n",
      "Epoch 118/200\n",
      "10684/10684 - 1s - loss: 0.3695 - accuracy: 0.8813 - val_loss: 0.3665 - val_accuracy: 0.8832\n",
      "Epoch 119/200\n",
      "10684/10684 - 1s - loss: 0.3688 - accuracy: 0.8816 - val_loss: 0.3659 - val_accuracy: 0.8832\n",
      "Epoch 120/200\n",
      "10684/10684 - 1s - loss: 0.3681 - accuracy: 0.8817 - val_loss: 0.3652 - val_accuracy: 0.8832\n",
      "Epoch 121/200\n",
      "10684/10684 - 1s - loss: 0.3674 - accuracy: 0.8820 - val_loss: 0.3646 - val_accuracy: 0.8832\n",
      "Epoch 122/200\n",
      "10684/10684 - 1s - loss: 0.3667 - accuracy: 0.8824 - val_loss: 0.3640 - val_accuracy: 0.8832\n",
      "Epoch 123/200\n",
      "10684/10684 - 1s - loss: 0.3661 - accuracy: 0.8828 - val_loss: 0.3634 - val_accuracy: 0.8832\n",
      "Epoch 124/200\n",
      "10684/10684 - 1s - loss: 0.3654 - accuracy: 0.8828 - val_loss: 0.3628 - val_accuracy: 0.8832\n",
      "Epoch 125/200\n",
      "10684/10684 - 1s - loss: 0.3647 - accuracy: 0.8830 - val_loss: 0.3622 - val_accuracy: 0.8825\n",
      "Epoch 126/200\n",
      "10684/10684 - 1s - loss: 0.3641 - accuracy: 0.8828 - val_loss: 0.3616 - val_accuracy: 0.8832\n",
      "Epoch 127/200\n",
      "10684/10684 - 1s - loss: 0.3634 - accuracy: 0.8834 - val_loss: 0.3610 - val_accuracy: 0.8832\n",
      "Epoch 128/200\n",
      "10684/10684 - 1s - loss: 0.3628 - accuracy: 0.8837 - val_loss: 0.3604 - val_accuracy: 0.8840\n",
      "Epoch 129/200\n",
      "10684/10684 - 1s - loss: 0.3622 - accuracy: 0.8838 - val_loss: 0.3598 - val_accuracy: 0.8840\n",
      "Epoch 130/200\n",
      "10684/10684 - 1s - loss: 0.3615 - accuracy: 0.8840 - val_loss: 0.3593 - val_accuracy: 0.8840\n",
      "Epoch 131/200\n",
      "10684/10684 - 1s - loss: 0.3609 - accuracy: 0.8843 - val_loss: 0.3587 - val_accuracy: 0.8832\n",
      "Epoch 132/200\n",
      "10684/10684 - 1s - loss: 0.3603 - accuracy: 0.8842 - val_loss: 0.3582 - val_accuracy: 0.8832\n",
      "Epoch 133/200\n",
      "10684/10684 - 1s - loss: 0.3597 - accuracy: 0.8850 - val_loss: 0.3576 - val_accuracy: 0.8832\n",
      "Epoch 134/200\n",
      "10684/10684 - 1s - loss: 0.3591 - accuracy: 0.8848 - val_loss: 0.3571 - val_accuracy: 0.8832\n",
      "Epoch 135/200\n",
      "10684/10684 - 1s - loss: 0.3585 - accuracy: 0.8849 - val_loss: 0.3566 - val_accuracy: 0.8840\n",
      "Epoch 136/200\n",
      "10684/10684 - 1s - loss: 0.3580 - accuracy: 0.8852 - val_loss: 0.3560 - val_accuracy: 0.8832\n",
      "Epoch 137/200\n",
      "10684/10684 - 1s - loss: 0.3574 - accuracy: 0.8854 - val_loss: 0.3555 - val_accuracy: 0.8832\n",
      "Epoch 138/200\n",
      "10684/10684 - 1s - loss: 0.3568 - accuracy: 0.8854 - val_loss: 0.3550 - val_accuracy: 0.8832\n",
      "Epoch 139/200\n",
      "10684/10684 - 1s - loss: 0.3563 - accuracy: 0.8857 - val_loss: 0.3545 - val_accuracy: 0.8840\n",
      "Epoch 140/200\n",
      "10684/10684 - 1s - loss: 0.3557 - accuracy: 0.8856 - val_loss: 0.3540 - val_accuracy: 0.8840\n",
      "Epoch 141/200\n",
      "10684/10684 - 1s - loss: 0.3552 - accuracy: 0.8856 - val_loss: 0.3535 - val_accuracy: 0.8825\n",
      "Epoch 142/200\n",
      "10684/10684 - 1s - loss: 0.3546 - accuracy: 0.8857 - val_loss: 0.3530 - val_accuracy: 0.8825\n",
      "Epoch 143/200\n",
      "10684/10684 - 1s - loss: 0.3541 - accuracy: 0.8857 - val_loss: 0.3526 - val_accuracy: 0.8817\n",
      "Epoch 144/200\n",
      "10684/10684 - 1s - loss: 0.3536 - accuracy: 0.8860 - val_loss: 0.3521 - val_accuracy: 0.8817\n",
      "Epoch 145/200\n",
      "10684/10684 - 1s - loss: 0.3530 - accuracy: 0.8860 - val_loss: 0.3516 - val_accuracy: 0.8825\n",
      "Epoch 146/200\n",
      "10684/10684 - 1s - loss: 0.3525 - accuracy: 0.8866 - val_loss: 0.3512 - val_accuracy: 0.8825\n",
      "Epoch 147/200\n",
      "10684/10684 - 1s - loss: 0.3520 - accuracy: 0.8865 - val_loss: 0.3507 - val_accuracy: 0.8825\n",
      "Epoch 148/200\n",
      "10684/10684 - 1s - loss: 0.3515 - accuracy: 0.8868 - val_loss: 0.3503 - val_accuracy: 0.8825\n",
      "Epoch 149/200\n",
      "10684/10684 - 1s - loss: 0.3510 - accuracy: 0.8869 - val_loss: 0.3498 - val_accuracy: 0.8825\n",
      "Epoch 150/200\n",
      "10684/10684 - 1s - loss: 0.3505 - accuracy: 0.8872 - val_loss: 0.3494 - val_accuracy: 0.8825\n",
      "Epoch 151/200\n",
      "10684/10684 - 1s - loss: 0.3500 - accuracy: 0.8873 - val_loss: 0.3489 - val_accuracy: 0.8825\n",
      "Epoch 152/200\n",
      "10684/10684 - 1s - loss: 0.3495 - accuracy: 0.8875 - val_loss: 0.3485 - val_accuracy: 0.8817\n",
      "Epoch 153/200\n",
      "10684/10684 - 1s - loss: 0.3490 - accuracy: 0.8880 - val_loss: 0.3481 - val_accuracy: 0.8817\n",
      "Epoch 154/200\n",
      "10684/10684 - 1s - loss: 0.3485 - accuracy: 0.8879 - val_loss: 0.3477 - val_accuracy: 0.8817\n"
     ]
    },
    {
     "name": "stdout",
     "output_type": "stream",
     "text": [
      "Epoch 155/200\n",
      "10684/10684 - 1s - loss: 0.3481 - accuracy: 0.8881 - val_loss: 0.3472 - val_accuracy: 0.8825\n",
      "Epoch 156/200\n",
      "10684/10684 - 1s - loss: 0.3476 - accuracy: 0.8882 - val_loss: 0.3468 - val_accuracy: 0.8840\n",
      "Epoch 157/200\n",
      "10684/10684 - 1s - loss: 0.3471 - accuracy: 0.8882 - val_loss: 0.3464 - val_accuracy: 0.8840\n",
      "Epoch 158/200\n",
      "10684/10684 - 1s - loss: 0.3467 - accuracy: 0.8883 - val_loss: 0.3460 - val_accuracy: 0.8840\n",
      "Epoch 159/200\n",
      "10684/10684 - 1s - loss: 0.3462 - accuracy: 0.8886 - val_loss: 0.3456 - val_accuracy: 0.8840\n",
      "Epoch 160/200\n",
      "10684/10684 - 1s - loss: 0.3458 - accuracy: 0.8884 - val_loss: 0.3452 - val_accuracy: 0.8840\n",
      "Epoch 161/200\n",
      "10684/10684 - 1s - loss: 0.3453 - accuracy: 0.8886 - val_loss: 0.3448 - val_accuracy: 0.8847\n",
      "Epoch 162/200\n",
      "10684/10684 - 1s - loss: 0.3449 - accuracy: 0.8890 - val_loss: 0.3444 - val_accuracy: 0.8847\n",
      "Epoch 163/200\n",
      "10684/10684 - 1s - loss: 0.3445 - accuracy: 0.8892 - val_loss: 0.3440 - val_accuracy: 0.8855\n",
      "Epoch 164/200\n",
      "10684/10684 - 1s - loss: 0.3440 - accuracy: 0.8893 - val_loss: 0.3437 - val_accuracy: 0.8855\n",
      "Epoch 165/200\n",
      "10684/10684 - 1s - loss: 0.3436 - accuracy: 0.8898 - val_loss: 0.3433 - val_accuracy: 0.8855\n",
      "Epoch 166/200\n",
      "10684/10684 - 1s - loss: 0.3432 - accuracy: 0.8897 - val_loss: 0.3429 - val_accuracy: 0.8855\n",
      "Epoch 167/200\n",
      "10684/10684 - 1s - loss: 0.3427 - accuracy: 0.8900 - val_loss: 0.3425 - val_accuracy: 0.8855\n",
      "Epoch 168/200\n",
      "10684/10684 - 1s - loss: 0.3423 - accuracy: 0.8902 - val_loss: 0.3422 - val_accuracy: 0.8847\n",
      "Epoch 169/200\n",
      "10684/10684 - 1s - loss: 0.3419 - accuracy: 0.8899 - val_loss: 0.3418 - val_accuracy: 0.8847\n",
      "Epoch 170/200\n",
      "10684/10684 - 1s - loss: 0.3415 - accuracy: 0.8901 - val_loss: 0.3415 - val_accuracy: 0.8847\n",
      "Epoch 171/200\n",
      "10684/10684 - 1s - loss: 0.3411 - accuracy: 0.8903 - val_loss: 0.3411 - val_accuracy: 0.8847\n",
      "Epoch 172/200\n",
      "10684/10684 - 1s - loss: 0.3407 - accuracy: 0.8905 - val_loss: 0.3408 - val_accuracy: 0.8855\n",
      "Epoch 173/200\n",
      "10684/10684 - 1s - loss: 0.3403 - accuracy: 0.8907 - val_loss: 0.3404 - val_accuracy: 0.8862\n",
      "Epoch 174/200\n",
      "10684/10684 - 1s - loss: 0.3399 - accuracy: 0.8907 - val_loss: 0.3401 - val_accuracy: 0.8862\n",
      "Epoch 175/200\n",
      "10684/10684 - 1s - loss: 0.3395 - accuracy: 0.8905 - val_loss: 0.3397 - val_accuracy: 0.8862\n",
      "Epoch 176/200\n",
      "10684/10684 - 1s - loss: 0.3391 - accuracy: 0.8911 - val_loss: 0.3394 - val_accuracy: 0.8862\n",
      "Epoch 177/200\n",
      "10684/10684 - 1s - loss: 0.3387 - accuracy: 0.8911 - val_loss: 0.3391 - val_accuracy: 0.8870\n",
      "Epoch 178/200\n",
      "10684/10684 - 1s - loss: 0.3384 - accuracy: 0.8911 - val_loss: 0.3387 - val_accuracy: 0.8870\n",
      "Epoch 179/200\n",
      "10684/10684 - 1s - loss: 0.3380 - accuracy: 0.8913 - val_loss: 0.3384 - val_accuracy: 0.8877\n",
      "Epoch 180/200\n",
      "10684/10684 - 1s - loss: 0.3376 - accuracy: 0.8912 - val_loss: 0.3381 - val_accuracy: 0.8877\n",
      "Epoch 181/200\n",
      "10684/10684 - 1s - loss: 0.3372 - accuracy: 0.8911 - val_loss: 0.3377 - val_accuracy: 0.8877\n",
      "Epoch 182/200\n",
      "10684/10684 - 1s - loss: 0.3369 - accuracy: 0.8918 - val_loss: 0.3374 - val_accuracy: 0.8877\n",
      "Epoch 183/200\n",
      "10684/10684 - 1s - loss: 0.3365 - accuracy: 0.8915 - val_loss: 0.3371 - val_accuracy: 0.8877\n",
      "Epoch 184/200\n",
      "10684/10684 - 1s - loss: 0.3361 - accuracy: 0.8922 - val_loss: 0.3368 - val_accuracy: 0.8877\n",
      "Epoch 185/200\n",
      "10684/10684 - 1s - loss: 0.3358 - accuracy: 0.8924 - val_loss: 0.3365 - val_accuracy: 0.8885\n",
      "Epoch 186/200\n",
      "10684/10684 - 1s - loss: 0.3354 - accuracy: 0.8925 - val_loss: 0.3362 - val_accuracy: 0.8885\n",
      "Epoch 187/200\n",
      "10684/10684 - 1s - loss: 0.3351 - accuracy: 0.8925 - val_loss: 0.3359 - val_accuracy: 0.8885\n",
      "Epoch 188/200\n",
      "10684/10684 - 1s - loss: 0.3347 - accuracy: 0.8925 - val_loss: 0.3356 - val_accuracy: 0.8885\n",
      "Epoch 189/200\n",
      "10684/10684 - 1s - loss: 0.3344 - accuracy: 0.8926 - val_loss: 0.3353 - val_accuracy: 0.8885\n",
      "Epoch 190/200\n",
      "10684/10684 - 1s - loss: 0.3340 - accuracy: 0.8927 - val_loss: 0.3350 - val_accuracy: 0.8885\n",
      "Epoch 191/200\n",
      "10684/10684 - 1s - loss: 0.3337 - accuracy: 0.8926 - val_loss: 0.3347 - val_accuracy: 0.8885\n",
      "Epoch 192/200\n",
      "10684/10684 - 1s - loss: 0.3333 - accuracy: 0.8927 - val_loss: 0.3344 - val_accuracy: 0.8892\n",
      "Epoch 193/200\n",
      "10684/10684 - 1s - loss: 0.3330 - accuracy: 0.8929 - val_loss: 0.3341 - val_accuracy: 0.8892\n",
      "Epoch 194/200\n",
      "10684/10684 - 1s - loss: 0.3327 - accuracy: 0.8927 - val_loss: 0.3338 - val_accuracy: 0.8892\n",
      "Epoch 195/200\n",
      "10684/10684 - 1s - loss: 0.3323 - accuracy: 0.8929 - val_loss: 0.3335 - val_accuracy: 0.8892\n",
      "Epoch 196/200\n",
      "10684/10684 - 1s - loss: 0.3320 - accuracy: 0.8933 - val_loss: 0.3332 - val_accuracy: 0.8892\n",
      "Epoch 197/200\n",
      "10684/10684 - 1s - loss: 0.3317 - accuracy: 0.8936 - val_loss: 0.3330 - val_accuracy: 0.8892\n",
      "Epoch 198/200\n",
      "10684/10684 - 1s - loss: 0.3314 - accuracy: 0.8936 - val_loss: 0.3327 - val_accuracy: 0.8892\n",
      "Epoch 199/200\n",
      "10684/10684 - 1s - loss: 0.3310 - accuracy: 0.8937 - val_loss: 0.3324 - val_accuracy: 0.8885\n",
      "Epoch 200/200\n",
      "10684/10684 - 1s - loss: 0.3307 - accuracy: 0.8939 - val_loss: 0.3322 - val_accuracy: 0.8885\n"
     ]
    }
   ],
   "source": [
    "history = model.fit(train_v,train_t,\n",
    "                    epochs=200, \n",
    "                    validation_data=(valid_v, valid_t),\n",
    "                    verbose=2\n",
    "                   )"
   ]
  },
  {
   "cell_type": "code",
   "execution_count": 39,
   "metadata": {},
   "outputs": [
    {
     "data": {
      "image/png": "[encoded data removed]",
      "text/plain": [
       "<Figure size 432x288 with 1 Axes>"
      ]
     },
     "metadata": {
      "needs_background": "light"
     },
     "output_type": "display_data"
    },
    {
     "data": {
      "image/png": "[encoded data removed]",
      "text/plain": [
       "<Figure size 432x288 with 1 Axes>"
      ]
     },
     "metadata": {
      "needs_background": "light"
     },
     "output_type": "display_data"
    }
   ],
   "source": [
    "import matplotlib.pyplot as plt\n",
    "\n",
    "# 精度のplot\n",
    "plt.plot(history.history['accuracy'], marker='.', label='acc')\n",
    "plt.plot(history.history['val_accuracy'], marker='.', label='val_acc')\n",
    "plt.title('model accuracy')\n",
    "plt.grid()\n",
    "plt.xlabel('epoch')\n",
    "plt.ylabel('accuracy')\n",
    "plt.legend(loc='best')\n",
    "plt.show()\n",
    "\n",
    "# 損失のplot\n",
    "plt.plot(history.history['loss'], marker='.', label='loss')\n",
    "plt.plot(history.history['val_loss'], marker='.', label='val_loss')\n",
    "plt.title('model loss')\n",
    "plt.grid()\n",
    "plt.xlabel('epoch')\n",
    "plt.ylabel('loss')\n",
    "plt.legend(loc='best')\n",
    "plt.show()"
   ]
  },
  {
   "cell_type": "code",
   "execution_count": 40,
   "metadata": {},
   "outputs": [],
   "source": [
    "model = NN(4)\n",
    "model.compile(optimizer=tf.keras.optimizers.SGD(learning_rate=0.01),\n",
    "              loss=loss,\n",
    "              metrics=['accuracy']\n",
    "             )"
   ]
  },
  {
   "cell_type": "code",
   "execution_count": 41,
   "metadata": {},
   "outputs": [],
   "source": [
    "epochs = 500"
   ]
  },
  {
   "cell_type": "code",
   "execution_count": 42,
   "metadata": {},
   "outputs": [],
   "source": [
    "tb_cb = tf.keras.callbacks.TensorBoard(\n",
    "    log_dir='./log/',\n",
    "    histogram_freq=1,\n",
    "    write_images=True\n",
    ")"
   ]
  },
  {
   "cell_type": "code",
   "execution_count": 43,
   "metadata": {},
   "outputs": [
    {
     "data": {
      "text/html": [
       "\n",
       "      <iframe id=\"tensorboard-frame-60ace893705e043e\" width=\"100%\" height=\"800\" frameborder=\"0\">\n",
       "      </iframe>\n",
       "      <script>\n",
       "        (function() {\n",
       "          const frame = document.getElementById(\"tensorboard-frame-60ace893705e043e\");\n",
       "          const url = new URL(\"/\", window.location);\n",
       "          url.port = 6006;\n",
       "          frame.src = url;\n",
       "        })();\n",
       "      </script>\n",
       "  "
      ],
      "text/plain": [
       "<IPython.core.display.HTML object>"
      ]
     },
     "metadata": {},
     "output_type": "display_data"
    }
   ],
   "source": [
    "%reload_ext tensorboard\n",
    "%tensorboard --logdir log --bind_all --port 6006 --reload_multifile true"
   ]
  },
  {
   "cell_type": "code",
   "execution_count": 44,
   "metadata": {
    "scrolled": true
   },
   "outputs": [],
   "source": [
    "history = model.fit(train_v,train_t,\n",
    "                    epochs=epochs, \n",
    "                    validation_data=(valid_v, valid_t),\n",
    "                    verbose=0,\n",
    "                    callbacks=[tb_cb]\n",
    "                   )"
   ]
  },
  {
   "cell_type": "code",
   "execution_count": 108,
   "metadata": {},
   "outputs": [],
   "source": []
  },
  {
   "cell_type": "code",
   "execution_count": null,
   "metadata": {},
   "outputs": [],
   "source": []
  }
 ],
 "metadata": {
  "kernelspec": {
   "display_name": "Python 3",
   "language": "python",
   "name": "python3"
  },
  "language_info": {
   "codemirror_mode": {
    "name": "ipython",
    "version": 3
   },
   "file_extension": ".py",
   "mimetype": "text/x-python",
   "name": "python",
   "nbconvert_exporter": "python",
   "pygments_lexer": "ipython3",
   "version": "3.7.7"
  }
 },
 "nbformat": 4,
 "nbformat_minor": 4
}
