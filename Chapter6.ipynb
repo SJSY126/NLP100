{
 "cells": [
  {
   "cell_type": "code",
   "execution_count": 1,
   "metadata": {},
   "outputs": [],
   "source": [
    "with open('./NewsAggregatorDataset/newsCorpora.csv') as f:\n",
    "    data = f.read()\n",
    "    \n",
    "data = data.splitlines()\n",
    "data = [line.split('\\t') for line in data]"
   ]
  },
  {
   "cell_type": "code",
   "execution_count": 2,
   "metadata": {},
   "outputs": [
    {
     "data": {
      "text/plain": [
       "[['1',\n",
       "  'Fed official says weak data caused by weather, should not slow taper',\n",
       "  'http://www.latimes.com/business/money/la-fi-mo-federal-reserve-plosser-stimulus-economy-20140310,0,1312750.story\\\\?track=rss',\n",
       "  'Los Angeles Times',\n",
       "  'b',\n",
       "  'ddUyU0VZz0BRneMioxUPQVP6sIxvM',\n",
       "  'www.latimes.com',\n",
       "  '1394470370698'],\n",
       " ['2',\n",
       "  \"Fed's Charles Plosser sees high bar for change in pace of tapering\",\n",
       "  'http://www.livemint.com/Politics/H2EvwJSK2VE6OF7iK1g3PP/Feds-Charles-Plosser-sees-high-bar-for-change-in-pace-of-ta.html',\n",
       "  'Livemint',\n",
       "  'b',\n",
       "  'ddUyU0VZz0BRneMioxUPQVP6sIxvM',\n",
       "  'www.livemint.com',\n",
       "  '1394470371207']]"
      ]
     },
     "execution_count": 2,
     "metadata": {},
     "output_type": "execute_result"
    }
   ],
   "source": [
    "data[:2]"
   ]
  },
  {
   "cell_type": "markdown",
   "metadata": {},
   "source": [
    "50"
   ]
  },
  {
   "cell_type": "code",
   "execution_count": 3,
   "metadata": {},
   "outputs": [],
   "source": [
    "import random\n",
    "random.seed(0)"
   ]
  },
  {
   "cell_type": "code",
   "execution_count": 4,
   "metadata": {},
   "outputs": [
    {
     "data": {
      "text/plain": [
       "['64',\n",
       " \"EBay CEO Donahoe's Pay Drops by 53% to $13.8 Million for 2013\",\n",
       " 'http://www.businessweek.com/news/2014-03-10/ebay-ceo-donahoe-s-pay-drops-by-53-percent-to-13-dot-8-million-for-2013',\n",
       " 'Businessweek',\n",
       " 'b',\n",
       " 'dxyGGb4iN9Cs9aMZTKQpJeoiQfruM',\n",
       " 'www.businessweek.com',\n",
       " '1394470923237']"
      ]
     },
     "execution_count": 4,
     "metadata": {},
     "output_type": "execute_result"
    }
   ],
   "source": [
    "publisher = [\n",
    "    \"Reuters\",\n",
    "    \"Huffington Post\",\n",
    "    \"Businessweek\", \n",
    "    \"Contactmusic.com\", \n",
    "    \"Daily Mail\"\n",
    "]\n",
    "\n",
    "article = [\n",
    "    article for article in data\n",
    "    if article[3] in publisher\n",
    "]\n",
    "article[10]"
   ]
  },
  {
   "cell_type": "code",
   "execution_count": 5,
   "metadata": {},
   "outputs": [
    {
     "data": {
      "text/plain": [
       "['276048',\n",
       " 'FOREX- Euro pinned near four-month lows as ECB looms',\n",
       " 'http://in.reuters.com/article/2014/06/04/markets-forex-idINL3N0OL4OA20140604',\n",
       " 'Reuters',\n",
       " 'b',\n",
       " 'd84jnxHjQNm9acMpm2areNmDtrR_M',\n",
       " 'in.reuters.com',\n",
       " '1401950103350']"
      ]
     },
     "execution_count": 5,
     "metadata": {},
     "output_type": "execute_result"
    }
   ],
   "source": [
    "random.shuffle(article)\n",
    "article[10]"
   ]
  },
  {
   "cell_type": "code",
   "execution_count": 6,
   "metadata": {},
   "outputs": [],
   "source": [
    "article = [[a[4], a[1]] for a in article]"
   ]
  },
  {
   "cell_type": "code",
   "execution_count": 7,
   "metadata": {},
   "outputs": [
    {
     "data": {
      "text/plain": [
       "(10684, 1336, 1336)"
      ]
     },
     "execution_count": 7,
     "metadata": {},
     "output_type": "execute_result"
    }
   ],
   "source": [
    "n = len(article)\n",
    "train_end = int(n * 0.8)\n",
    "valid_end = int(n * 0.9)\n",
    "train = article[:train_end]\n",
    "valid = article[train_end:valid_end]\n",
    "test = article[valid_end:]\n",
    "len(train), len(valid), len(test)"
   ]
  },
  {
   "cell_type": "code",
   "execution_count": 8,
   "metadata": {},
   "outputs": [],
   "source": [
    "def write_txt(filename, data):\n",
    "    with open('./{}.txt'.format(filename), 'w') as f:\n",
    "        for a in data:\n",
    "            f.writelines(\"\\t\".join(a)+'\\n')\n",
    "\n",
    "write_txt(\"train\", train)\n",
    "write_txt(\"valid\", valid)\n",
    "write_txt(\"test\", test)\n",
    "    "
   ]
  },
  {
   "cell_type": "code",
   "execution_count": 9,
   "metadata": {},
   "outputs": [],
   "source": [
    "from collections import Counter\n",
    "from tabulate import tabulate"
   ]
  },
  {
   "cell_type": "code",
   "execution_count": 10,
   "metadata": {},
   "outputs": [],
   "source": [
    "categories = ['b', 't', 'e', 'm']\n",
    "category_names = ['business', 'science and technology', 'entertainment', 'health']"
   ]
  },
  {
   "cell_type": "code",
   "execution_count": 11,
   "metadata": {},
   "outputs": [
    {
     "name": "stdout",
     "output_type": "stream",
     "text": [
      "          b     t     e    m\n",
      "-----  ----  ----  ----  ---\n",
      "train  4557  1203  4180  744\n",
      "valid   543   159   542   92\n",
      "test    527   163   572   74\n"
     ]
    }
   ],
   "source": [
    "table = [\n",
    "    [name] + [freqs[cat] for cat in categories ]\n",
    "    for name, freqs in [\n",
    "        ('train',  Counter([cat for cat, _ in train])),\n",
    "        ('valid',  Counter([cat for cat, _ in valid])),\n",
    "        ('test',  Counter([cat for cat, _ in test]))\n",
    "    ]\n",
    "]\n",
    "print(tabulate(table, headers=categories))"
   ]
  },
  {
   "cell_type": "markdown",
   "metadata": {},
   "source": [
    "51"
   ]
  },
  {
   "cell_type": "code",
   "execution_count": null,
   "metadata": {},
   "outputs": [],
   "source": []
  }
 ],
 "metadata": {
  "kernelspec": {
   "display_name": "Python 3",
   "language": "python",
   "name": "python3"
  },
  "language_info": {
   "codemirror_mode": {
    "name": "ipython",
    "version": 3
   },
   "file_extension": ".py",
   "mimetype": "text/x-python",
   "name": "python",
   "nbconvert_exporter": "python",
   "pygments_lexer": "ipython3",
   "version": "3.7.6"
  }
 },
 "nbformat": 4,
 "nbformat_minor": 4
}
